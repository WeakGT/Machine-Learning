{
 "cells": [
  {
   "cell_type": "markdown",
   "metadata": {
    "id": "V7Zsk2Cyjcr0"
   },
   "source": [
    "## Import Packages\n",
    "\n",
    "1. To build a recurrent neural network, we start by importing the Dense layer, Activation layer, and Loss function that you implemented in Lab4 & Flatten layer you implemented in Lab5. Ensure the following three files are located in the same directory as this notebook, and follow the instructions to complete the setup:\n",
    "    - Dense.py : Copy the **Dense class** you had implemented in Lab4 to it.\n",
    "    - Activation.py : Copy the **Activation class** you had implemented in Lab4 to it.\n",
    "    - Loss.py : Copy **compute_CCE_loss** function you had implemented in Lab4 to it.\n",
    "    - Flatten.py: Copy **Flatten class** you had implemented in Lab5 to it.\\\n",
    "    Note: you should copy both `forward()` and `backward()` in class `Flatten` in Lab5.\n",
    "\n",
    "\n",
    "⚠️ **WARNING** ⚠️:\n",
    "*   Please do not import any other packages in this lab.\n",
    "*   np.random.seed(seed) is used to keep all the random function calls consistent. It will help us grade your work. Please don't change the seed.\n",
    "\n",
    "❗ **Important** ❗: Please do not change the code outside this code bracket.\n",
    "```\n",
    "### START CODE HERE ###\n",
    "...\n",
    "### END CODE HERE ###\n",
    "```\n",
    "\n"
   ]
  },
  {
   "cell_type": "markdown",
   "metadata": {
    "id": "PHkPrxmpjkQB"
   },
   "source": [
    "### Mount Google Drive (optional)"
   ]
  },
  {
   "cell_type": "code",
   "execution_count": 1,
   "metadata": {
    "colab": {
     "base_uri": "https://localhost:8080/"
    },
    "id": "6-arb65yjiEf",
    "outputId": "9cd1c8d5-7cfa-4cc4-b3c7-4510f5a97cf8"
   },
   "outputs": [],
   "source": [
    "### START CODE HERE ###\n",
    "# from google.colab import drive\n",
    "# import os\n",
    "# drive.mount('/content/drive')\n",
    "# os.chdir('YOUR PATH')\n",
    "### END CODE HERE ###"
   ]
  },
  {
   "cell_type": "code",
   "execution_count": 2,
   "metadata": {
    "id": "poIfFIK0juEr"
   },
   "outputs": [],
   "source": [
    "###### import your Lab4 & Lab5 code (Don't change this part) ######\n",
    "from Dense import Dense\n",
    "from Activation import Activation\n",
    "from Loss import compute_CCE_loss, compute_MSE_loss\n",
    "from Flatten import Flatten\n",
    "##################################\n",
    "\n",
    "import numpy as np\n",
    "import matplotlib.pyplot as plt\n",
    "from tqdm import tqdm\n",
    "import pandas as pd\n",
    "\n",
    "outputs = {}"
   ]
  },
  {
   "cell_type": "markdown",
   "metadata": {
    "id": "KAxzqsKx8bRL"
   },
   "source": [
    "# Basic Part"
   ]
  },
  {
   "cell_type": "markdown",
   "metadata": {
    "id": "PhkjTLnlPNjq"
   },
   "source": [
    "## RNN Class (30%)\n",
    "The RNN class implements a simple Recurrent Neural Network (RNN) layer. This class includes methods for initializing parameters, performing the forward pass, computing gradients during the backward pass, and updating the weights.\n",
    "\n",
    "Structure overview:\n",
    "<figure> <img src=\"https://imgur.com/nU7xrBe.png\" width=\"580\" height=\"400\">\n",
    "</figure>\n",
    "RNN connection:\n",
    "<figure>\n",
    "<img src=\"https://imgur.com/4JQX0se.png\" width=\"500\" height=\"250\">\n",
    "</figure>\n",
    "Data insights:\n",
    "<figure> <img src=\"https://imgur.com/c2MI3mj.png\" width=\"400\" height=\"220\">\n",
    "</figure>\n",
    "In each neuron:\n",
    "<figure> <img src=\"https://imgur.com/luXS4zv.png\" width=\"300\" height=\"220\">\n",
    "</figure>\n",
    "\n",
    "1.   **Initializaon**\n",
    "\n",
    "    *   `input_size`: The number of input features for each time step.\n",
    "    *   `rnn_units`: The number of units (neurons) in the RNN layer.\n",
    "    *   `seed`: A random seed for weight initialization to ensure reproducibility.\n",
    "\n",
    "2.   **Initialize parameters** (3%)\n",
    "    * `Wx`: The weight matrix for the input to hidden connections. It has a shape of `(rnn_units, input_size)`\n",
    "    * `Wh`: The weight matrix for the hidden to hidden connections. It has a shape of `(rnn_units, rnn_units)`\n",
    "    * `bh`: The bias vector for the hidden state. It has a shape of `(rnn_units, 1)`, where rnn_units is the number of units in the RNN layer.\n",
    "3.  **Forward** (12%) \\\n",
    "* `X`: Input data of shape `(batch_size, timesteps, input_size)`\n",
    "* The forward pass computes the hidden state `h_t` (shape of `(batch_size, self.rnn_units)`)at each time step `t` using the following formula:\n",
    "$ h_t = \\tanh(W_x \\cdot x_t + W_h \\cdot h_{t-1} + b_h)$\n",
    "    * $W_x$ is the weight matrix for the input to hidden connections.\n",
    "    * $W_h$ is the weight matrix for the hidden to hidden connections.\n",
    "    * $b_h$ is the bias vector.\n",
    "    * $x_t$ is the input at time step t.\n",
    "    * $h_{t-1}$ is the hidden state from the previous time step.\n",
    "    * $\\tanh$ is the hyperbolic tangent activation function.\n",
    "* Output would be shape of `(batch_size, rnn_units)`\n",
    "4. **Backward** (15%) \\\n",
    "Reference (Backpropagation Through Time):\n",
    "https://www.pycodemates.com/2023/08/backpropagation-through-time-explained-with-derivations.html\n",
    "* `dH`: Gradient of the loss with respect to the hidden state, typically of shape `(batch_size, rnn_units, 1)`.\n",
    "* The backward pass computes the gradients of the loss with respect to the weights and biases using the following formulas:\n",
    "    * Gradient of the loss with respect to the hidden state(derivative of `tanh`):\\\n",
    "    $\\delta_t = (1 - h_t^2) \\cdot \\delta_{t+1}$\n",
    "        * $\\delta_t$ is the gradient of the loss with respect to the hidden state at time step t.\n",
    "        * $h_t$ is the hidden state at time step t\n",
    "    * Gradients with respect to the weights and biases (accumulate the gradients over all time steps):\n",
    "        1. $\\frac{\\partial L}{\\partial W_x} = ∑_{t=0}^{timesteps} \\delta_t^T \\cdot x_t$\n",
    "        2. $\\frac{\\partial L}{\\partial W_h} = ∑_ {t=0}^{timesteps} \\delta_t^T \\cdot h_{t-1}$\n",
    "        3. $\\frac{\\partial L}{\\partial b_h} = ∑_{t=0}^{timesteps} \\delta_t^T$\n",
    "        * $\\frac{\\partial L}{\\partial W_x}$ is the gradient of the loss with respect to the input to hidden weights.\n",
    "        * $\\frac{\\partial L}{\\partial W_h}$ is the gradient of the loss with respect to the hidden to hidden weights.\n",
    "        * $\\frac{\\partial L}{\\partial b_h}$ is the gradient of the loss with respect to the hidden bias.\n",
    "        * $x_t$ is the input at time step t.\n",
    "        * $h_{t-1}$ is the hidden state from the previous time step.\n",
    "    * Gradient with respect to the previous hidden state:\n",
    "    $\\frac{\\partial L}{\\partial h_{t-1}} = \\delta_t \\cdot W_h$\n",
    "    * Then divide each gradient by `batch_size`.\n",
    "    * Gradient clipping (optional) is recommended in RNN since RNN rely on backpropagation through time where data might contain large timesteps and it might cause gradient explosion or vanishing. **Note**: You can't do gradient clipping in the function testing (`test_baward()`)\n"
   ]
  },
  {
   "cell_type": "code",
   "execution_count": 3,
   "metadata": {
    "id": "Ry3gZ4hUJwUn"
   },
   "outputs": [],
   "source": [
    "class RNN():\n",
    "    def __init__(self, input_size, rnn_units, seed=1):\n",
    "        \"\"\"\n",
    "        Initialize the SimpleRNN layer.\n",
    "\n",
    "        Parameters:\n",
    "        input_size (int): Number of input features.\n",
    "        rnn_units (int): Number of units in the RNN layer.\n",
    "        seed (int): Random seed for weight initialization.\n",
    "        \"\"\"\n",
    "        self.input_size = input_size\n",
    "        self.rnn_units = rnn_units\n",
    "        self.seed = seed\n",
    "        self.initialize_parameters()\n",
    "\n",
    "    def initialize_parameters(self):\n",
    "        \"\"\"\n",
    "        Initialize the weights and biases for the RNN layer.\n",
    "        \"\"\"\n",
    "        np.random.seed(self.seed)\n",
    "\n",
    "        ### START CODE HERE ###\n",
    "        # Multiply by 0.01 is for testing reason.\n",
    "        self.Wx = np.random.randn(self.rnn_units, self.input_size) * 0.01     # Input to hidden weights , with shape of (rnn_units, input_size).\n",
    "        self.Wh = np.random.randn(self.rnn_units, self.rnn_units) * 0.01     # Hidden to hidden weights, with shape of (rnn_units, rnn_units).\n",
    "        self.bh = np.zeros((self.rnn_units, 1))     # Hidden bias, with shape of (rnn_units, 1).\n",
    "        ### END CODE HERE ###\n",
    "\n",
    "    def forward(self, X):\n",
    "        \"\"\"\n",
    "        Perform the forward pass through the RNN layer.\n",
    "\n",
    "        Parameters:\n",
    "        X (ndarray): Input data of shape (batch_size, timesteps, input_size).\n",
    "\n",
    "        Returns:\n",
    "        ndarray: Output of the RNN layer (hidden state).\n",
    "        \"\"\"\n",
    "        batch_size, timesteps, _ = X.shape\n",
    "        ### START CODE HERE ###\n",
    "        self.h = np.zeros((batch_size, self.rnn_units))     # Initialize hidden state, with shape of (batch_size, self.rnn_units).\n",
    "        self.hs = []      # Store hidden states for backward pass, list of self.h.\n",
    "        ### END CODE HERE ###\n",
    "\n",
    "        self.xs = []  # Store inputs for backward pass\n",
    "\n",
    "        for t in range(timesteps):\n",
    "            ### START CODE HERE ###\n",
    "            x_t = X[:, t, :]  # (batch_size, input_size)\n",
    "            self.xs.append(x_t)\n",
    "            input_component = np.dot(x_t, self.Wx.T) # (batch_size, input_size) * (input_size, rnn_units)\n",
    "            recurrent_component = np.dot(self.h, self.Wh.T) # (batch_size, rnn_units) * (rnn_units, rnn_units)\n",
    "            # self.bh.T: (rnn_units, 1), broadcasted to (batch_size, rnn_units)\n",
    "            self.h = np.tanh(input_component + recurrent_component + self.bh.T)     # Update hidden state.\n",
    "            self.hs.append(self.h)\n",
    "            ### END CODE HERE ###\n",
    "\n",
    "        return self.h\n",
    "\n",
    "\n",
    "    def backward(self, dH):\n",
    "        \"\"\"\n",
    "        Perform the backward pass through the RNN layer.\n",
    "\n",
    "        Parameters:\n",
    "        dH (ndarray): Gradient of the loss with respect to the hidden state.\n",
    "        clip_value (float): Value to clip the gradients to prevent exploding gradients.\n",
    "\n",
    "        Returns:\n",
    "        ndarray: Gradient of the loss with respect to the input.\n",
    "        \"\"\"\n",
    "        batch_size, _ = dH.shape\n",
    "        ### START CODE HERE ###\n",
    "        self.dL_dWx = np.zeros_like(self.Wx)        # Initialized with same shape as Wx.\n",
    "        self.dL_dWh = np.zeros_like(self.Wh)        # Initialized with same shape as Wh.\n",
    "        self.dL_dbh = np.zeros_like(self.bh)        # Initialized with same shape as bh.\n",
    "        ### END CODE HERE ###\n",
    "        dL_dh = dH\n",
    "\n",
    "        for t in reversed(range(len(self.hs))):\n",
    "            x_t = self.xs[t]  # Get input at time step t\n",
    "            h = self.hs[t]\n",
    "            h_prev = self.hs[t-1] if t > 0 else np.zeros_like(h)\n",
    "            ### START CODE HERE ###\n",
    "            dL_dh_raw = (1 - h ** 2) * dL_dh                            # Derivative of tanh\n",
    "            self.dL_dWx += np.dot(dL_dh_raw.T, x_t)                     # Gradient w.r.t. Wx\n",
    "            self.dL_dWh += np.dot(dL_dh_raw.T, h_prev)                  # Gradient w.r.t. Wh\n",
    "            self.dL_dbh += np.sum(dL_dh_raw, axis=0, keepdims=True).T   # Gradient w.r.t. bh\n",
    "            dL_dh = np.dot(dL_dh_raw, self.Wh)                          # Gradient w.r.t. previous hidden state\n",
    "            ### END CODE HERE ###\n",
    "\n",
    "        ### START CODE HERE ###\n",
    "        # Average gradients over the batch.\n",
    "        self.dL_dWx /= batch_size\n",
    "        self.dL_dWh /= batch_size\n",
    "        self.dL_dbh /= batch_size\n",
    "        ### END CODE HERE ###\n",
    "\n",
    "        ### START CODE HERE ###\n",
    "        # Gradient part (optional), you can't run this part while testing the backward function !!!\n",
    "        clip_value = 2.0\n",
    "        # Clip gradients to prevent exploding gradients\n",
    "        np.clip(self.dL_dWx, -clip_value, clip_value, out=self.dL_dWx)\n",
    "        np.clip(self.dL_dWh, -clip_value, clip_value, out=self.dL_dWh)\n",
    "        np.clip(self.dL_dbh, -clip_value, clip_value, out=self.dL_dbh)\n",
    "        ### END CODE HERE ###\n",
    "\n",
    "        return dL_dh\n",
    "\n",
    "    def update(self, learning_rate):\n",
    "        \"\"\"\n",
    "        Update the weights and biases using the computed gradients.\n",
    "\n",
    "        Parameters:\n",
    "        learning_rate (float): Learning rate for weight updates.\n",
    "        \"\"\"\n",
    "        ### START CODE HERE ###\n",
    "        # Update each weights.\n",
    "        self.Wx -= learning_rate * self.dL_dWx\n",
    "        self.Wh -= learning_rate * self.dL_dWh\n",
    "        self.bh -= learning_rate * self.dL_dbh\n",
    "        ### END CODE HERE ###"
   ]
  },
  {
   "cell_type": "markdown",
   "metadata": {
    "id": "ZkQSHtRPMb73"
   },
   "source": [
    "### Functions testing\n"
   ]
  },
  {
   "cell_type": "markdown",
   "metadata": {
    "id": "KKZFZhPfP9z-"
   },
   "source": [
    "#### `initialize_parameter` function"
   ]
  },
  {
   "cell_type": "code",
   "execution_count": 4,
   "metadata": {
    "id": "F6x4VR14P9X3"
   },
   "outputs": [
    {
     "name": "stdout",
     "output_type": "stream",
     "text": [
      "Wx shape: (3, 5)\n",
      "Wh shape: (3, 3)\n",
      "bh shape: (3, 1)\n"
     ]
    }
   ],
   "source": [
    "def test_initialization(save_to_output = False):\n",
    "    input_size = 5\n",
    "    rnn_units = 3\n",
    "    rnn = RNN(input_size, rnn_units)\n",
    "    print(\"Wx shape:\", rnn.Wx.shape)\n",
    "    print(\"Wh shape:\", rnn.Wh.shape)\n",
    "    print(\"bh shape:\", rnn.bh.shape)\n",
    "    if save_to_output == True:\n",
    "        outputs['RNN_initialization'] = {\"Wx shape\": rnn.Wx.shape, \"Wh shape\": rnn.Wh.shape, \"bh shape\": rnn.bh.shape}\n",
    "test_initialization(True)"
   ]
  },
  {
   "cell_type": "markdown",
   "metadata": {
    "id": "TPEe5c4NQigx"
   },
   "source": [
    "Expected output:\n",
    "\n",
    "|Output|Value|\n",
    "|---|---|\n",
    "|Wx shape:|(3, 5)|\n",
    "|Wh shape:|(3, 3)|\n",
    "|bh shape:|(3, 1)|"
   ]
  },
  {
   "cell_type": "markdown",
   "metadata": {
    "id": "Oz_VET-YNtla"
   },
   "source": [
    "#### `forward` function\n"
   ]
  },
  {
   "cell_type": "code",
   "execution_count": 5,
   "metadata": {
    "id": "-7svLiJmFdEB"
   },
   "outputs": [
    {
     "name": "stdout",
     "output_type": "stream",
     "text": [
      "Input shape: (2, 4, 5)\n",
      "Input:\n",
      "[[[ 1.62434536 -0.61175641 -0.52817175 -1.07296862  0.86540763]\n",
      "  [-2.3015387   1.74481176 -0.7612069   0.3190391  -0.24937038]\n",
      "  [ 1.46210794 -2.06014071 -0.3224172  -0.38405435  1.13376944]\n",
      "  [-1.09989127 -0.17242821 -0.87785842  0.04221375  0.58281521]]\n",
      "\n",
      " [[-1.10061918  1.14472371  0.90159072  0.50249434  0.90085595]\n",
      "  [-0.68372786 -0.12289023 -0.93576943 -0.26788808  0.53035547]\n",
      "  [-0.69166075 -0.39675353 -0.6871727  -0.84520564 -0.67124613]\n",
      "  [-0.0126646  -1.11731035  0.2344157   1.65980218  0.74204416]]]\n",
      "Output shape of RNN layer: (2, 3)\n",
      "Output of the RNN layer (hidden state):\n",
      "[[-0.00873835  0.02641052 -0.00287992]\n",
      " [-0.00596289 -0.01742189  0.02418844]]\n"
     ]
    }
   ],
   "source": [
    "def test_forward(seed, save_to_output = False):\n",
    "    input_size = 5\n",
    "    rnn_units = 3\n",
    "    batch_size = 2\n",
    "    timesteps = 4\n",
    "    # Initialize the RNN layer\n",
    "    rnn = RNN(input_size, rnn_units)\n",
    "    # Create a sample input of shape (batch_size, timesteps, input_size)\n",
    "    np.random.seed(seed)   # Don't change the seed!\n",
    "    X = np.random.randn(batch_size, timesteps, input_size)\n",
    "    # Perform the forward pass\n",
    "    output = rnn.forward(X)\n",
    "\n",
    "    if save_to_output == False:\n",
    "        # Print the output\n",
    "        print(\"Input shape:\", X.shape)\n",
    "        print(\"Input:\")\n",
    "        print(X)\n",
    "        print(\"Output shape of RNN layer:\", output.shape)\n",
    "        print(\"Output of the RNN layer (hidden state):\")\n",
    "        print(output)\n",
    "\n",
    "    if save_to_output == True:\n",
    "        outputs['RNN_forward'] = {\"X shape\": X.shape, \"X\": X, \"Output shape\": output.shape, \"Output\": output}\n",
    "\n",
    "# Run the test with seed 1 to compare with expected outputs.\n",
    "test_forward(1)\n",
    "\n",
    "# Run with seed 42 and save the answer.\n",
    "test_forward(42, True)"
   ]
  },
  {
   "cell_type": "markdown",
   "metadata": {
    "id": "GxLx95MZGEqX"
   },
   "source": [
    "Expected output of `forward`:\n",
    "\n",
    "| Output | Value |\n",
    "|---|---|\n",
    "| Input shape | (2, 4, 5) |\n",
    "| Input | `[[[ 1.62434536 -0.61175641 -0.52817175 -1.07296862  0.86540763]`<br>  `[-2.3015387   1.74481176 -0.7612069   0.3190391  -0.24937038]`<br>  `[ 1.46210794 -2.06014071 -0.3224172  -0.38405435  1.13376944]`<br>  `[-1.09989127 -0.17242821 -0.87785842  0.04221375  0.58281521]]`<br><br> `[[-1.10061918  1.14472371  0.90159072  0.50249434  0.90085595]`<br>  `[-0.68372786 -0.12289023 -0.93576943 -0.26788808  0.53035547]`<br>  `[-0.69166075 -0.39675353 -0.6871727  -0.84520564 -0.67124613]`<br>  `[-0.0126646  -1.11731035  0.2344157   1.65980218  0.74204416]]]]` |\n",
    "| Output shape of RNN layer | (2, 3) |\n",
    "| Output of the RNN layer (hidden state) | `[[-0.00873835  0.02641052 -0.00287992]`<br> `[-0.00596289 -0.01742189  0.02418844]]` |"
   ]
  },
  {
   "cell_type": "markdown",
   "metadata": {
    "id": "OTRcUEWzN143"
   },
   "source": [
    "#### `backward` function"
   ]
  },
  {
   "cell_type": "code",
   "execution_count": 6,
   "metadata": {
    "id": "hc5rkLYhJHYd"
   },
   "outputs": [
    {
     "name": "stdout",
     "output_type": "stream",
     "text": [
      "dH shape:  (2, 3)\n",
      "dH:\n",
      "[[-0.19183555 -0.88762896 -0.74715829]\n",
      " [ 1.6924546   0.05080775 -0.63699565]]\n",
      "dL_dX shape: (2, 3)\n",
      "Gradient w.r.t. input (dL_dX):\n",
      "[[-1.30293142e-08  5.55316892e-09 -2.93987480e-08]\n",
      " [ 8.78019041e-09  2.41595285e-08 -1.33357681e-08]]\n",
      "dL_dWx shape: (3, 5)\n",
      "Gradient w.r.t. Wx (dL_dWx):\n",
      "[[ 0.09855041 -0.91665683  0.29245483  1.41272981  0.57684949]\n",
      " [ 0.48200032  0.06164319  0.40009246  0.02920006 -0.24340623]\n",
      " [ 0.42661386  0.4160692   0.25830352 -0.53769917 -0.44331323]]\n",
      "dL_dWh shape: (3, 3)\n",
      "Gradient w.r.t. Wh (dL_dWh):\n",
      "[[-0.00663169  0.01738478 -0.0106337 ]\n",
      " [-0.02325593  0.03069429 -0.03469078]\n",
      " [-0.01936184  0.02200992 -0.02853306]]\n",
      "dL_dbh shape: (3, 1)\n",
      "Gradient w.r.t. bh (dL_dbh):\n",
      "[[ 0.73406116]\n",
      " [-0.42812618]\n",
      " [-0.69714697]]\n"
     ]
    }
   ],
   "source": [
    "def test_backward(seed, save_to_output = False):\n",
    "    input_size = 5\n",
    "    rnn_units = 3\n",
    "    batch_size = 2\n",
    "    timesteps = 4\n",
    "\n",
    "    # Initialize the RNN layer\n",
    "    rnn = RNN(input_size, rnn_units)\n",
    "    np.random.seed(seed)   # Don't change the seed!\n",
    "    # Create a sample input of shape (batch_size, timesteps, input_size)\n",
    "    X = np.random.randn(batch_size, timesteps, input_size)\n",
    "    # Perform the forward pass\n",
    "    rnn.forward(X)\n",
    "    # Create a sample gradient of the loss with respect to the hidden state\n",
    "    dH = np.random.randn(batch_size, rnn_units)\n",
    "    # Perform the backward pass\n",
    "    dL_dX = rnn.backward(dH)\n",
    "    if save_to_output == False:\n",
    "        print(\"dH shape: \", dH.shape)\n",
    "        print(\"dH:\")\n",
    "        print(dH)\n",
    "        # Print the gradients\n",
    "        print(\"dL_dX shape:\", dL_dX.shape)\n",
    "        print(\"Gradient w.r.t. input (dL_dX):\")\n",
    "        print(dL_dX)\n",
    "        print(\"dL_dWx shape:\", rnn.dL_dWx.shape)\n",
    "        print(\"Gradient w.r.t. Wx (dL_dWx):\")\n",
    "        print(rnn.dL_dWx)\n",
    "        print(\"dL_dWh shape:\", rnn.dL_dWh.shape)\n",
    "        print(\"Gradient w.r.t. Wh (dL_dWh):\")\n",
    "        print(rnn.dL_dWh)\n",
    "        print(\"dL_dbh shape:\", rnn.dL_dbh.shape)\n",
    "        print(\"Gradient w.r.t. bh (dL_dbh):\")\n",
    "        print(rnn.dL_dbh)\n",
    "\n",
    "    if save_to_output == True:\n",
    "        outputs['RNN_backward'] = {\"dH shape\": dH.shape, \"dH\": dH, \"dL_dX shape\": dL_dX.shape, \"dL_dX\": dL_dX, \"dL_dWx shape\": rnn.dL_dWx.shape,\n",
    "                                   \"dL_dWx\": rnn.dL_dWx, \"dL_dWh shape\": rnn.dL_dWh.shape, \"dL_dWh\": rnn.dL_dWh, \"dL_dbh shape\": rnn.dL_dbh.shape, \"dL_dbh\": rnn.dL_dbh}\n",
    "\n",
    "# Run the test with seed 1 to compare with expected outputs.\n",
    "test_backward(1)\n",
    "\n",
    "# Run with seed 42 and save the answer.\n",
    "test_backward(42, True)"
   ]
  },
  {
   "cell_type": "markdown",
   "metadata": {
    "id": "l0rtq6lDJSx8"
   },
   "source": [
    "Expected output:\n",
    "\n",
    "| Output | Value |\n",
    "|---|---|\n",
    "|dH shape:|(2, 3)|\n",
    "|dH:|`[[-0.19183555 -0.88762896 -0.74715829]`<br>`[ 1.6924546   0.05080775 -0.63699565]]`|\n",
    "|dL_dX shape:| (2, 3)|\n",
    "|Gradient w.r.t. input (dL_dX):| `[[-1.30293142e-08  5.55316892e-09 -2.93987480e-08]`<br>`[ 8.78019041e-09  2.41595285e-08 -1.33357681e-08]]`|\n",
    "|dL_dWx shape:| (3, 5)|\n",
    "|Gradient w.r.t. Wx (dL_dWx):|`[[ 0.09855041 -0.91665683  0.29245483  1.41272981  0.57684949]`<br>`[ 0.48200032  0.06164319  0.40009246  0.02920006 -0.24340623]`<br>`[ 0.42661386  0.4160692   0.25830352 -0.53769917 -0.44331323]]`|\n",
    "|dL_dWh shape:| (3, 3)|\n",
    "|Gradient w.r.t. Wh (dL_dWh):|`[[-0.00663169  0.01738478 -0.0106337 ]`<br>`[-0.02325593  0.03069429 -0.03469078]`<br>`[-0.01936184  0.02200992 -0.02853306]]`|\n",
    "|dL_dbh shape:| (3, 1)|\n",
    "|Gradient w.r.t. bh (dL_dbh):|`[[ 0.73406116]`<br>`[-0.42812618]`<br>`[-0.69714697]]`|"
   ]
  },
  {
   "cell_type": "markdown",
   "metadata": {
    "id": "3_--VLgVCdpi"
   },
   "source": [
    "## Model class (10%)\n",
    "The `Model` class provides a framework for building and training neural networks.\n",
    "1.   `add()` is just like the function in previous Lab, we can call `model.add( )` to sequentially add a layer into the model.\n",
    "2.   `forward()` performs the forward propagation of data through the layers, calculating predictions\n",
    "3.   In `backward()`, we have to check if the activation function is *softmax* to make sure we call the right `backward()`.\n",
    "4.   `train()` function will be used to train the model, here, we can decide which loss function `BCE` or `MSE` we want to train with. And also calculate the loss for validation data.\n",
    "5. `plot_losses()` function can show the history of the training and validation loss to see if the training works."
   ]
  },
  {
   "cell_type": "code",
   "execution_count": 7,
   "metadata": {
    "id": "LlyznHZjCc0K"
   },
   "outputs": [],
   "source": [
    "class Model():\n",
    "    def __init__(self):\n",
    "        self.layers = []\n",
    "\n",
    "    def add(self, layer):\n",
    "        \"\"\"\n",
    "        Sequentially add a layer into the model.\n",
    "\n",
    "        Parameters:\n",
    "        layer: Different layers class.\n",
    "        \"\"\"\n",
    "        ### START CODE HERE ###\n",
    "        self.layers.append(layer)\n",
    "        ### END CODE HERE ###\n",
    "\n",
    "    def forward(self, X):\n",
    "        for layer in self.layers:\n",
    "            if layer.__class__.__name__ == 'RNN':\n",
    "                if len(X.shape) < 3:                                # If the RNN layer is stacked after another RNN layer.\n",
    "                    ### START CODE HERE ###\n",
    "                    X = X[:, np.newaxis, :]     # Add a new axis to make its shape (batch_size, timesteps, input_size).\n",
    "                    ### END CODE HERE ###\n",
    "                X = layer.forward(X)\n",
    "            else:\n",
    "                X = layer.forward(X)\n",
    "        return X\n",
    "\n",
    "    def backward(self, dA, Y):\n",
    "        for layer in reversed(self.layers):\n",
    "            if isinstance(layer, Activation) and layer.activation_function == \"softmax\":\n",
    "                ### START CODE HERE ###\n",
    "                dA = layer.backward(dA=dA, Y=Y)     # Softmax activation backward.\n",
    "                ### END CODE HERE ###\n",
    "            else:\n",
    "                ### START CODE HERE ###\n",
    "                dA = layer.backward(dA)    # Other layers backward.\n",
    "                ### END CODE HERE ###\n",
    "        return dA\n",
    "\n",
    "    def update(self, learning_rate):\n",
    "        for layer in self.layers:       # Update for every layers.\n",
    "            ### START CODE HERE ###\n",
    "            if hasattr(layer, 'update'):\n",
    "                layer.update(learning_rate)\n",
    "            ### END CODE HERE ###\n",
    "\n",
    "    def train(self, X_train, y_train, X_val, y_val, epochs=10, learning_rate=0.001, batch_size = 32, loss_function='mse'):\n",
    "        self.train_losses = []  # Initialize a list to store training losses\n",
    "        self.val_losses = []  # Initialize a list to store validation losses\n",
    "        for epoch in range(epochs):\n",
    "            total_loss = 0\n",
    "            ### START CODE HERE ###\n",
    "            num_batches = X_train.shape[0] // batch_size    # Calculate the number of batches\n",
    "            ### END CODE HERE ###\n",
    "\n",
    "            with tqdm(total=num_batches, desc=f\"Epoch {epoch + 1}/{epochs}\", unit=\"batch\") as pbar:\n",
    "                for batch_idx in range(num_batches):\n",
    "\n",
    "                    ### START CODE HERE ###\n",
    "                    # Get the batch data\n",
    "                    start_idx, end_idx = batch_idx * batch_size, (batch_idx + 1) * batch_size\n",
    "                    X_batch, y_batch = X_train[start_idx:end_idx], y_train[start_idx:end_idx]\n",
    "                    ### END CODE HERE ###\n",
    "\n",
    "                    ### START CODE HERE ###\n",
    "                    # 1. Forward to get the prediction.\n",
    "                    # 2. Calculate the loss according to your parameters ('cce' or 'mse').\n",
    "                    # 3. Calculate dA.\n",
    "                    # 4. backward with the calculated dA.\n",
    "                    # 5. update the parameters.\n",
    "                    y_pred = self.forward(X_batch)\n",
    "                    loss = compute_CCE_loss(y_pred, y_batch.squeeze(axis=1)) if loss_function == 'cce' else compute_MSE_loss(y_pred, y_batch)\n",
    "                    total_loss += loss\n",
    "                    # CCE or MSE loss derivative\n",
    "                    if loss_function == 'cce':\n",
    "                        eps = 1e-5\n",
    "                        y_pred = np.clip(y_pred, eps, 1 - eps) # Prevent log(0)\n",
    "                        dA = y_pred - y_batch                        \n",
    "                    elif loss_function == 'mse':\n",
    "                        dA = 2 * (y_pred - y_batch) / y_batch.shape[0]\n",
    "                    self.backward(dA, y_batch)\n",
    "                    self.update(learning_rate)\n",
    "                    ### END CODE HERE ###\n",
    "\n",
    "                    # Update the progress bar and loss every 5 iterations\n",
    "                    if (batch_idx + 1) % 5 == 0:\n",
    "                        pbar.set_postfix(loss=total_loss / ((batch_idx + 1) * batch_size))\n",
    "                    pbar.update(1)  # Increment the progress bar by 1 unit\n",
    "\n",
    "                # Handle the remaining examples that do not fit into a full batch\n",
    "                if batch_size * num_batches < X_train.shape[0]:\n",
    "\n",
    "                    # Get the remaining data\n",
    "                    ### START CODE HERE ###\n",
    "                    X_batch, y_batch = X_train[end_idx:], y_train[end_idx:]\n",
    "                    ### END CODE HERE ###\n",
    "\n",
    "                    ### START CODE HERE ###\n",
    "                    # Same as above in batch\n",
    "                    y_pred = self.forward(X_batch)\n",
    "                    loss = compute_CCE_loss(y_pred, y_batch.squeeze(axis=1)) if loss_function == 'cce' else compute_MSE_loss(y_pred, y_batch)\n",
    "                    total_loss += loss\n",
    "                    # CCE or MSE loss derivative\n",
    "                    if loss_function == 'cce':\n",
    "                        eps = 1e-5\n",
    "                        y_pred = np.clip(y_pred, eps, 1 - eps)\n",
    "                        dA = y_pred - y_batch\n",
    "                    elif loss_function == 'mse':\n",
    "                        dA = 2 * (y_pred - y_batch) / y_batch.shape[0]\n",
    "                    self.backward(dA, y_batch)\n",
    "                    self.update(learning_rate)\n",
    "                    ### END CODE HERE ###\n",
    "\n",
    "            ### START CODE HERE ###\n",
    "            avg_train_loss = total_loss / X_train.shape[0]\n",
    "            ### END CODE HERE ###\n",
    "\n",
    "            self.train_losses.append(avg_train_loss)\n",
    "            print(f'Epoch {epoch + 1}/{epochs}, Training Loss: {avg_train_loss}')\n",
    "\n",
    "            # Validation part\n",
    "            ### START CODE HERE ###\n",
    "            # 1. Get the prediction\n",
    "            # 2. compute the loss ('mse', 'cce').\n",
    "            y_pred = self.forward(X_val)\n",
    "            val_loss = compute_CCE_loss(y_pred, y_val.squeeze(axis=1)) if loss_function == 'cce' else compute_MSE_loss(y_pred, y_val)\n",
    "            val_loss = val_loss / X_val.shape[0]\n",
    "            ### END CODE HERE ###\n",
    "\n",
    "            self.val_losses.append(val_loss)\n",
    "            print(f'Epoch {epoch + 1}/{epochs}, Validation Loss: {val_loss}')\n",
    "\n",
    "    def predict(self, X):\n",
    "        return self.forward(X)\n",
    "\n",
    "    def plot_losses(self):\n",
    "        plt.plot(self.train_losses, label='Training Loss')\n",
    "        plt.plot(self.val_losses, label='Validation Loss')\n",
    "        plt.xlabel('Epoch')\n",
    "        plt.ylabel('Loss')\n",
    "        plt.legend()"
   ]
  },
  {
   "cell_type": "markdown",
   "metadata": {
    "id": "icEnOl_kR_r5"
   },
   "source": [
    "### `Model` class testing"
   ]
  },
  {
   "cell_type": "code",
   "execution_count": 8,
   "metadata": {
    "id": "B2ON5fmPSCSj"
   },
   "outputs": [
    {
     "name": "stdout",
     "output_type": "stream",
     "text": [
      "AL:  [[0.50002597]\n",
      " [0.50011082]\n",
      " [0.49998505]]\n",
      "dA_prev:  [[ 1.62378331e-09  3.84694676e-09  6.02625343e-09 -1.21805669e-08]\n",
      " [ 1.62165475e-09  3.84752280e-09  6.02247634e-09 -1.21748332e-08]\n",
      " [ 1.62368851e-09  3.84622277e-09  6.02587086e-09 -1.21793784e-08]]\n",
      "Wx of RNN:  [[ 0.01609996]\n",
      " [-0.00598851]\n",
      " [-0.00519148]\n",
      " [-0.01059058]]\n",
      "Wh of RNN:  [[ 0.00865366 -0.02301519  0.01744827 -0.00761178]\n",
      " [ 0.00319076 -0.00249388  0.01462095 -0.02060167]\n",
      " [-0.00322391 -0.00384067  0.0113376  -0.0109991 ]\n",
      " [-0.00172383 -0.00877879  0.00042198  0.00582784]]\n",
      "bh of RNN:  [[ 0.00017288]\n",
      " [-0.00015564]\n",
      " [-0.00010827]\n",
      " [-0.00016452]]\n"
     ]
    }
   ],
   "source": [
    "def test_model_class(seed, save_to_output = False):\n",
    "    np.random.seed(seed)\n",
    "    input = np.random.randn(3, 3, 1)\n",
    "    Y = np.expand_dims(np.array([1,0,1]),-1)\n",
    "\n",
    "    model = Model()\n",
    "    model.add(RNN(1, 4))\n",
    "    model.add(RNN(4, 4))\n",
    "    model.add(Dense(4, 1))\n",
    "    model.add(Activation(\"sigmoid\", None))\n",
    "\n",
    "    AL = model.forward(input)\n",
    "    dA_prev = model.backward(AL, Y=Y)\n",
    "    model.update(0.1)\n",
    "    if save_to_output == False:\n",
    "        print(\"AL: \", AL)\n",
    "        print(\"dA_prev: \", dA_prev)\n",
    "        print(\"Wx of RNN: \", model.layers[0].Wx)\n",
    "        print(\"Wh of RNN: \", model.layers[0].Wh)\n",
    "        print(\"bh of RNN: \", model.layers[0].bh)\n",
    "\n",
    "    if save_to_output == True:\n",
    "        outputs['Model_class'] = {\"AL\": AL, \"dA_prev\": dA_prev, \"Wx of RNN\": model.layers[0].Wx, \"Wh of RNN\": model.layers[0].Wh, \"bh of RNN\": model.layers[0].bh}\n",
    "\n",
    "# Run the test with seed 1 to compare with expected outputs.\n",
    "test_model_class(1)\n",
    "\n",
    "# Run with seed 42 and save the answer.\n",
    "test_model_class(42, True)"
   ]
  },
  {
   "cell_type": "markdown",
   "metadata": {
    "id": "Seg7OO12VOvh"
   },
   "source": [
    "Expected output:\n",
    "\n",
    "|Output|Value|\n",
    "|---|---|\n",
    "|AL:| `[[0.50002597]`<br>`[0.50011082]`<br>`[0.49998505]]`|\n",
    "|dA_prev:|`[[ 1.62378331e-09  3.84694676e-09  6.02625343e-09 -1.21805669e-08]`<br>`[ 1.62165475e-09  3.84752280e-09  6.02247634e-09 -1.21748332e-08]`<br>`[ 1.62368851e-09  3.84622277e-09  6.02587086e-09 -1.21793784e-08]]`|\n",
    "|Wx of RNN:| `[[ 0.01609996]`<br>`[-0.00598851]`<br>`[-0.00519148]`<br>`[-0.01059058]]`|\n",
    "|Wh of RNN:|`[[ 0.00865366 -0.02301519  0.01744827 -0.00761178]`<br>`[ 0.00319076 -0.00249388  0.01462095 -0.02060167]`<br>`[-0.00322391 -0.00384067  0.0113376  -0.0109991 ]`<br>`[-0.00172383 -0.00877879  0.00042198  0.00582784]]`|\n",
    "|bh of RNN:|  `[[ 0.00017288]`<br>`[-0.00015564]`<br>`[-0.00010827]`<br>`[-0.00016452]]`|"
   ]
  },
  {
   "cell_type": "markdown",
   "metadata": {
    "id": "gEMEe8JMkmhE"
   },
   "source": [
    "### Save the above output to `.npy`"
   ]
  },
  {
   "cell_type": "code",
   "execution_count": 9,
   "metadata": {
    "id": "W6SUWskHkmMd"
   },
   "outputs": [
    {
     "name": "stdout",
     "output_type": "stream",
     "text": [
      "RNN_initialization:\n",
      "  Wx shape: <class 'tuple'>\n",
      "  Wh shape: <class 'tuple'>\n",
      "  bh shape: <class 'tuple'>\n",
      "RNN_forward:\n",
      "  X shape: <class 'tuple'>\n",
      "  X: <class 'numpy.ndarray'>\n",
      "  Output shape: <class 'tuple'>\n",
      "  Output: <class 'numpy.ndarray'>\n",
      "RNN_backward:\n",
      "  dH shape: <class 'tuple'>\n",
      "  dH: <class 'numpy.ndarray'>\n",
      "  dL_dX shape: <class 'tuple'>\n",
      "  dL_dX: <class 'numpy.ndarray'>\n",
      "  dL_dWx shape: <class 'tuple'>\n",
      "  dL_dWx: <class 'numpy.ndarray'>\n",
      "  dL_dWh shape: <class 'tuple'>\n",
      "  dL_dWh: <class 'numpy.ndarray'>\n",
      "  dL_dbh shape: <class 'tuple'>\n",
      "  dL_dbh: <class 'numpy.ndarray'>\n",
      "Model_class:\n",
      "  AL: <class 'numpy.ndarray'>\n",
      "  dA_prev: <class 'numpy.ndarray'>\n",
      "  Wx of RNN: <class 'numpy.ndarray'>\n",
      "  Wh of RNN: <class 'numpy.ndarray'>\n",
      "  bh of RNN: <class 'numpy.ndarray'>\n"
     ]
    }
   ],
   "source": [
    "assert list(outputs.keys()) == ['RNN_initialization', 'RNN_forward', 'RNN_backward', 'Model_class']\n",
    "np.save('Lab6_outputs.npy', outputs)\n",
    "# sanity check for saved outputs\n",
    "submit = np.load(\"Lab6_outputs.npy\", allow_pickle=True).item()\n",
    "for key, value in submit.items():\n",
    "    if isinstance(value, dict):  # Check if value is a dictionary\n",
    "        print(f\"{key}:\")\n",
    "        for inner_key, inner_value in value.items():\n",
    "            print(f\"  {inner_key}: {type(inner_value)}\")  # Print type of inner values\n",
    "    else:\n",
    "        print(f\"{key}: {type(value)}\")  # Print type of other values"
   ]
  },
  {
   "cell_type": "markdown",
   "metadata": {
    "id": "m-Q5MP76mda2"
   },
   "source": [
    "Expected output:\n",
    "\n",
    "\n",
    "```\n",
    "RNN_initialization:\n",
    "  Wx shape: <class 'tuple'>\n",
    "  Wh shape: <class 'tuple'>\n",
    "  bh shape: <class 'tuple'>\n",
    "RNN_forward:\n",
    "  X shape: <class 'tuple'>\n",
    "  X: <class 'numpy.ndarray'>\n",
    "  Output shape: <class 'tuple'>\n",
    "  Output: <class 'numpy.ndarray'>\n",
    "RNN_backward:\n",
    "  dH shape: <class 'tuple'>\n",
    "  dH: <class 'numpy.ndarray'>\n",
    "  dL_dX shape: <class 'tuple'>\n",
    "  dL_dX: <class 'numpy.ndarray'>\n",
    "  dL_dWx shape: <class 'tuple'>\n",
    "  dL_dWx: <class 'numpy.ndarray'>\n",
    "  dL_dWh shape: <class 'tuple'>\n",
    "  dL_dWh: <class 'numpy.ndarray'>\n",
    "  dL_dbh shape: <class 'tuple'>\n",
    "  dL_dbh: <class 'numpy.ndarray'>\n",
    "Model_class:\n",
    "  AL: <class 'numpy.ndarray'>\n",
    "  dA_prev: <class 'numpy.ndarray'>\n",
    "  Wx of RNN: <class 'numpy.ndarray'>\n",
    "  Wh of RNN: <class 'numpy.ndarray'>\n",
    "  bh of RNN: <class 'numpy.ndarray'>\n",
    "```\n",
    "\n"
   ]
  },
  {
   "cell_type": "markdown",
   "metadata": {
    "id": "QOLxLMMl9BD9"
   },
   "source": [
    "## Sinusoidal wave dataset (20%)\n",
    "In this section, we will generate a dataset of sinusoidal waves with varying frequencies, amplitudes, and random phase shifts. The **last value** in each sequence will be used as the target prediction. This dataset will be used for training and validating a model.\n",
    "\n",
    "\n",
    "\n",
    "*   You can decide how many `num_samples`, `num_timesteps`, `freq_range` and `amp_range` you want to generate your own training dataset. (**there is no provided training dataset!**)\n",
    "* ⚠⚠ You need to download X_test.csv from Kaggle and put it into Sinewave directory. (Or you have to change the path when generating prediction)\n",
    "* For **testing data** on Kaggle, we used `num_timesteps = 100`, `0.5 <= freq_range <= 5` & `0.5 <= amp_range <= 5` to generate, your training dataset can try to cover these range in testing data.\n",
    "* You need submit the `y_test.csv` to Kaggle\n",
    "    * `MAPE <= 17%` -> 10 points\n",
    "    * `MAPE <= 14%` -> 20 points\n",
    "* **Kaggle Link**: https://www.kaggle.com/t/512f44fe285d4c1bb90c39884f8a2a33"
   ]
  },
  {
   "cell_type": "code",
   "execution_count": 10,
   "metadata": {
    "id": "4eIHk7hbB7Cg"
   },
   "outputs": [
    {
     "data": {
      "image/png": "[encoded data removed]",
      "text/plain": [
       "<Figure size 432x288 with 1 Axes>"
      ]
     },
     "metadata": {
      "needs_background": "light"
     },
     "output_type": "display_data"
    }
   ],
   "source": [
    "# Generate Sinusoidal Wave Dataset\n",
    "\n",
    "def generate_sine_wave_data(num_samples, num_timesteps, freq_range, amp_range):\n",
    "    \"\"\"\n",
    "    Generate sine wave data with varying frequencies, amplitudes, and random phase shifts.\n",
    "    The last value in each sequence is used as the target prediction.\n",
    "\n",
    "    Parameters:\n",
    "    - num_samples: Number of samples to generate.\n",
    "    - num_timesteps: Number of timesteps for each sample.\n",
    "    - freq_range: Tuple of floor and ceiling of frequency range.\n",
    "    - amp_range: Tuple of floor and ceiling of amplitude range.\n",
    "\n",
    "    Returns:\n",
    "    - X: Generated sine wave data of shape (num_samples, num_timesteps - 1).\n",
    "    - y: Target values of shape (num_samples,).\n",
    "    \"\"\"\n",
    "    X = np.zeros((num_samples, num_timesteps - 1))\n",
    "    y = np.zeros(num_samples)\n",
    "    for i in range(num_samples):\n",
    "        ### START CODE HERE ###\n",
    "        # Choose the frequency, amplitude and shift phase value.\n",
    "        freq = np.random.uniform(*freq_range)                   # Random choose from freq_range.\n",
    "        amp = np.random.uniform(*amp_range)     # Random choose from amp_range.\n",
    "        phase_shift = np.random.uniform(0, 2 * np.pi)           # Random choose from (0, 2*pi).\n",
    "        ### END CODE HERE ###\n",
    "\n",
    "        t = np.linspace(0, 2 * np.pi, num_timesteps)\n",
    "        sine_wave = amp * np.sin(freq * t + phase_shift)\n",
    "        X[i] = sine_wave[:-1]  # All but the last value\n",
    "        y[i] = sine_wave[-1]   # The last value\n",
    "    return X, y\n",
    "\n",
    "### START CODE HERE ###\n",
    "# You can modify to your preferred range and number of samples. (Note: It's recommended to cover the range of testing data mentioned above.)\n",
    "num_samples = 6400\n",
    "num_timesteps = 100\n",
    "freq_range = (0.5, 5.0)  # Frequency range\n",
    "amp_range = (0.5, 5.0)   # Amplitude range\n",
    "### END CODE HERE ###\n",
    "\n",
    "X, y = generate_sine_wave_data(num_samples, num_timesteps, freq_range, amp_range)\n",
    "\n",
    "### START CODE HERE ###\n",
    "# Split data into training and validation sets\n",
    "split_ratio = 0.8\n",
    "split_idx = int(num_samples * split_ratio)\n",
    "X_train, y_train = X[:split_idx], y[:split_idx]\n",
    "X_val, y_val = X[split_idx:], y[split_idx:]\n",
    "### END CODE HERE ###\n",
    "\n",
    "# Plot an example sequence\n",
    "plt.plot(X_train[0], label='Input Sequence')\n",
    "plt.plot(np.arange(num_timesteps, num_timesteps + 1), y_train[0], 'ro', label='Target Value')\n",
    "plt.legend()\n",
    "plt.show()\n"
   ]
  },
  {
   "cell_type": "markdown",
   "metadata": {
    "id": "ambyK8w0CYko"
   },
   "source": [
    "### Construct the model with Dense layer only\n",
    "Here, we want you to construct the model with **Dense layer only** like you did in Lab4. You may modify the model structure and parameters in the way you like."
   ]
  },
  {
   "cell_type": "code",
   "execution_count": 11,
   "metadata": {
    "id": "NHebwBbOCeZy"
   },
   "outputs": [
    {
     "name": "stderr",
     "output_type": "stream",
     "text": [
      "Epoch 1/20: 100%|██████████| 640/640 [00:05<00:00, 106.70batch/s, loss=0.442]\n"
     ]
    },
    {
     "name": "stdout",
     "output_type": "stream",
     "text": [
      "Epoch 1/20, Training Loss: 0.44197539140602793\n",
      "Epoch 1/20, Validation Loss: 0.023366433573829053\n"
     ]
    },
    {
     "name": "stderr",
     "output_type": "stream",
     "text": [
      "Epoch 2/20: 100%|██████████| 640/640 [00:03<00:00, 161.02batch/s, loss=0.0105]\n"
     ]
    },
    {
     "name": "stdout",
     "output_type": "stream",
     "text": [
      "Epoch 2/20, Training Loss: 0.010524541497631937\n",
      "Epoch 2/20, Validation Loss: 0.01034575344902839\n"
     ]
    },
    {
     "name": "stderr",
     "output_type": "stream",
     "text": [
      "Epoch 3/20: 100%|██████████| 640/640 [00:04<00:00, 144.88batch/s, loss=0.0056] \n"
     ]
    },
    {
     "name": "stdout",
     "output_type": "stream",
     "text": [
      "Epoch 3/20, Training Loss: 0.005598332842896711\n",
      "Epoch 3/20, Validation Loss: 0.006822578868390325\n"
     ]
    },
    {
     "name": "stderr",
     "output_type": "stream",
     "text": [
      "Epoch 4/20: 100%|██████████| 640/640 [00:03<00:00, 165.38batch/s, loss=0.00383]\n"
     ]
    },
    {
     "name": "stdout",
     "output_type": "stream",
     "text": [
      "Epoch 4/20, Training Loss: 0.0038296994680222913\n",
      "Epoch 4/20, Validation Loss: 0.005099472258318744\n"
     ]
    },
    {
     "name": "stderr",
     "output_type": "stream",
     "text": [
      "Epoch 5/20: 100%|██████████| 640/640 [00:05<00:00, 125.75batch/s, loss=0.00288]\n"
     ]
    },
    {
     "name": "stdout",
     "output_type": "stream",
     "text": [
      "Epoch 5/20, Training Loss: 0.002879929360110418\n",
      "Epoch 5/20, Validation Loss: 0.004036353435505241\n"
     ]
    },
    {
     "name": "stderr",
     "output_type": "stream",
     "text": [
      "Epoch 6/20: 100%|██████████| 640/640 [00:03<00:00, 160.91batch/s, loss=0.00229]\n"
     ]
    },
    {
     "name": "stdout",
     "output_type": "stream",
     "text": [
      "Epoch 6/20, Training Loss: 0.0022933331862168113\n",
      "Epoch 6/20, Validation Loss: 0.003358383214362659\n"
     ]
    },
    {
     "name": "stderr",
     "output_type": "stream",
     "text": [
      "Epoch 7/20: 100%|██████████| 640/640 [00:03<00:00, 160.01batch/s, loss=0.0019] \n"
     ]
    },
    {
     "name": "stdout",
     "output_type": "stream",
     "text": [
      "Epoch 7/20, Training Loss: 0.0018974267185018555\n",
      "Epoch 7/20, Validation Loss: 0.002881846520229229\n"
     ]
    },
    {
     "name": "stderr",
     "output_type": "stream",
     "text": [
      "Epoch 8/20: 100%|██████████| 640/640 [00:04<00:00, 139.48batch/s, loss=0.00162]\n"
     ]
    },
    {
     "name": "stdout",
     "output_type": "stream",
     "text": [
      "Epoch 8/20, Training Loss: 0.0016156740660020752\n",
      "Epoch 8/20, Validation Loss: 0.002528373025256033\n"
     ]
    },
    {
     "name": "stderr",
     "output_type": "stream",
     "text": [
      "Epoch 9/20: 100%|██████████| 640/640 [00:04<00:00, 159.10batch/s, loss=0.0014] \n"
     ]
    },
    {
     "name": "stdout",
     "output_type": "stream",
     "text": [
      "Epoch 9/20, Training Loss: 0.0014046041845130434\n",
      "Epoch 9/20, Validation Loss: 0.002255990764445639\n"
     ]
    },
    {
     "name": "stderr",
     "output_type": "stream",
     "text": [
      "Epoch 10/20: 100%|██████████| 640/640 [00:04<00:00, 141.39batch/s, loss=0.00124]\n"
     ]
    },
    {
     "name": "stdout",
     "output_type": "stream",
     "text": [
      "Epoch 10/20, Training Loss: 0.0012411140507113633\n",
      "Epoch 10/20, Validation Loss: 0.002048277559848385\n"
     ]
    },
    {
     "name": "stderr",
     "output_type": "stream",
     "text": [
      "Epoch 11/20: 100%|██████████| 640/640 [00:03<00:00, 165.69batch/s, loss=0.00111]\n"
     ]
    },
    {
     "name": "stdout",
     "output_type": "stream",
     "text": [
      "Epoch 11/20, Training Loss: 0.0011100035060977096\n",
      "Epoch 11/20, Validation Loss: 0.0018810991096014113\n"
     ]
    },
    {
     "name": "stderr",
     "output_type": "stream",
     "text": [
      "Epoch 12/20: 100%|██████████| 640/640 [00:03<00:00, 160.54batch/s, loss=0.001]   \n"
     ]
    },
    {
     "name": "stdout",
     "output_type": "stream",
     "text": [
      "Epoch 12/20, Training Loss: 0.00100291981609713\n",
      "Epoch 12/20, Validation Loss: 0.0017385914743004178\n"
     ]
    },
    {
     "name": "stderr",
     "output_type": "stream",
     "text": [
      "Epoch 13/20: 100%|██████████| 640/640 [00:04<00:00, 148.53batch/s, loss=0.000913]\n"
     ]
    },
    {
     "name": "stdout",
     "output_type": "stream",
     "text": [
      "Epoch 13/20, Training Loss: 0.0009133023613662337\n",
      "Epoch 13/20, Validation Loss: 0.0016248418109074477\n"
     ]
    },
    {
     "name": "stderr",
     "output_type": "stream",
     "text": [
      "Epoch 14/20: 100%|██████████| 640/640 [00:03<00:00, 163.82batch/s, loss=0.000839]\n"
     ]
    },
    {
     "name": "stdout",
     "output_type": "stream",
     "text": [
      "Epoch 14/20, Training Loss: 0.0008386439240433178\n",
      "Epoch 14/20, Validation Loss: 0.001516001009809562\n"
     ]
    },
    {
     "name": "stderr",
     "output_type": "stream",
     "text": [
      "Epoch 15/20: 100%|██████████| 640/640 [00:04<00:00, 145.68batch/s, loss=0.000774]\n"
     ]
    },
    {
     "name": "stdout",
     "output_type": "stream",
     "text": [
      "Epoch 15/20, Training Loss: 0.0007743021911754103\n",
      "Epoch 15/20, Validation Loss: 0.0014317828394260668\n"
     ]
    },
    {
     "name": "stderr",
     "output_type": "stream",
     "text": [
      "Epoch 16/20: 100%|██████████| 640/640 [00:04<00:00, 129.73batch/s, loss=0.000719]\n"
     ]
    },
    {
     "name": "stdout",
     "output_type": "stream",
     "text": [
      "Epoch 16/20, Training Loss: 0.000719180148842359\n",
      "Epoch 16/20, Validation Loss: 0.0013522117524433469\n"
     ]
    },
    {
     "name": "stderr",
     "output_type": "stream",
     "text": [
      "Epoch 17/20: 100%|██████████| 640/640 [00:04<00:00, 144.43batch/s, loss=0.00067] \n"
     ]
    },
    {
     "name": "stdout",
     "output_type": "stream",
     "text": [
      "Epoch 17/20, Training Loss: 0.0006704968591902318\n",
      "Epoch 17/20, Validation Loss: 0.0012870973595920168\n"
     ]
    },
    {
     "name": "stderr",
     "output_type": "stream",
     "text": [
      "Epoch 18/20: 100%|██████████| 640/640 [00:03<00:00, 163.99batch/s, loss=0.000628]\n"
     ]
    },
    {
     "name": "stdout",
     "output_type": "stream",
     "text": [
      "Epoch 18/20, Training Loss: 0.0006281250389051836\n",
      "Epoch 18/20, Validation Loss: 0.0012251901369684022\n"
     ]
    },
    {
     "name": "stderr",
     "output_type": "stream",
     "text": [
      "Epoch 19/20: 100%|██████████| 640/640 [00:03<00:00, 165.66batch/s, loss=0.000591]\n"
     ]
    },
    {
     "name": "stdout",
     "output_type": "stream",
     "text": [
      "Epoch 19/20, Training Loss: 0.0005906526931595419\n",
      "Epoch 19/20, Validation Loss: 0.0011733707906263816\n"
     ]
    },
    {
     "name": "stderr",
     "output_type": "stream",
     "text": [
      "Epoch 20/20: 100%|██████████| 640/640 [00:04<00:00, 139.72batch/s, loss=0.000558]\n"
     ]
    },
    {
     "name": "stdout",
     "output_type": "stream",
     "text": [
      "Epoch 20/20, Training Loss: 0.0005578376055536604\n",
      "Epoch 20/20, Validation Loss: 0.001123348128008205\n",
      "Mean Absolute Error: 0.022185942495230003\n"
     ]
    },
    {
     "data": {
      "image/png": "[encoded data removed]",
      "text/plain": [
       "<Figure size 432x288 with 1 Axes>"
      ]
     },
     "metadata": {
      "needs_background": "light"
     },
     "output_type": "display_data"
    }
   ],
   "source": [
    "### START CODE HERE ###\n",
    "# Change the structure and parameters to train your own model (Only contain Dense layer here!!!)\n",
    "# Reshape the input data to fit Dense model\n",
    "input_size = X_train.shape[1]\n",
    "X_train = X_train.reshape(X_train.shape[0], X_train.shape[1])\n",
    "X_val = X_val.reshape(X_val.shape[0], X_val.shape[1])\n",
    "y_val = y_val.reshape(-1, 1)\n",
    "y_train = y_train.reshape(-1, 1)\n",
    "# Construct the model with Dense layers\n",
    "\n",
    "model = Model()\n",
    "model.add(Dense(input_size, 1024))\n",
    "model.add(Activation(\"relu\", None))\n",
    "model.add(Dense(1024, 256))\n",
    "model.add(Activation(\"relu\", None))\n",
    "model.add(Dense(256, 64))\n",
    "model.add(Activation(\"relu\", None))\n",
    "model.add(Dense(64, 1))\n",
    "model.add(Activation(\"linear\", None))\n",
    "\n",
    "# Train the model\n",
    "model.train(X_train, y_train, X_val, y_val, epochs=20, learning_rate=0.004, batch_size=8, loss_function='mse')\n",
    "\n",
    "# Predict the validation set\n",
    "y_pred = model.predict(X_val)\n",
    "# MAE\n",
    "mae = np.mean(np.abs(y_pred - y_val))\n",
    "print(f\"Mean Absolute Error: {mae}\")\n",
    "\n",
    "### END CODE HERE ###\n",
    "\n",
    "# Plot the training and validation losses\n",
    "model.plot_losses()"
   ]
  },
  {
   "cell_type": "markdown",
   "metadata": {
    "id": "xP0-p2yrD8gA"
   },
   "source": [
    "#### Predict testing data & Save the answer (For Dense model)\n",
    "For this prediction of Dense model, you can choose not to submit it to Kaggle if its performance is not better."
   ]
  },
  {
   "cell_type": "code",
   "execution_count": 12,
   "metadata": {
    "id": "_GNngIotD6Ow"
   },
   "outputs": [
    {
     "name": "stdout",
     "output_type": "stream",
     "text": [
      "Prediction data has been saved.\n"
     ]
    }
   ],
   "source": [
    "### START CODE HERE ###\n",
    "# Read the X_test.csv file into a DataFrame\n",
    "# Change the path if needed\n",
    "# download\n",
    "X_test_df = pd.read_csv('dataset/basic/X_test.csv')\n",
    "### END CODE HERE ###\n",
    "\n",
    "# Do not modify this part to get the correct output format!!\n",
    "# Drop the 'Id' column if it exists\n",
    "if 'Id' in X_test_df.columns:\n",
    "    X_test_df = X_test_df.drop(columns=['Id'])\n",
    "\n",
    "# Convert the DataFrame to a numpy array\n",
    "X_test = X_test_df.values\n",
    "y_pred = model.predict(X_test)\n",
    "\n",
    "# Convert the list of predictions to a numpy array\n",
    "y_pred = np.array(y_pred)\n",
    "y_pred_df = pd.DataFrame(y_pred, columns=['answer'])\n",
    "y_pred_df.insert(0, 'Id', range(1, 1 + len(y_pred_df)))\n",
    "y_pred_df.to_csv('y_pred_basic.csv', index=False)\n",
    "\n",
    "print('Prediction data has been saved.')"
   ]
  },
  {
   "cell_type": "markdown",
   "metadata": {
    "id": "0E7dvPVBBhgk"
   },
   "source": [
    "### Construct the model with RNN layer\n",
    "Then, we can integrate our custom-built RNN layer into the model to evaluate whether it improves performance on the sequential inputs."
   ]
  },
  {
   "cell_type": "code",
   "execution_count": 13,
   "metadata": {
    "id": "yIJd6igNCG8i"
   },
   "outputs": [
    {
     "name": "stderr",
     "output_type": "stream",
     "text": [
      "Epoch 1/20: 100%|██████████| 640/640 [00:03<00:00, 183.44batch/s, loss=0.765]\n"
     ]
    },
    {
     "name": "stdout",
     "output_type": "stream",
     "text": [
      "Epoch 1/20, Training Loss: 0.7654369578823526\n",
      "Epoch 1/20, Validation Loss: 0.1983235957462519\n"
     ]
    },
    {
     "name": "stderr",
     "output_type": "stream",
     "text": [
      "Epoch 2/20: 100%|██████████| 640/640 [00:03<00:00, 177.96batch/s, loss=0.137]\n"
     ]
    },
    {
     "name": "stdout",
     "output_type": "stream",
     "text": [
      "Epoch 2/20, Training Loss: 0.13719048269587839\n",
      "Epoch 2/20, Validation Loss: 0.09880388985098787\n"
     ]
    },
    {
     "name": "stderr",
     "output_type": "stream",
     "text": [
      "Epoch 3/20: 100%|██████████| 640/640 [00:03<00:00, 180.25batch/s, loss=0.0612]\n"
     ]
    },
    {
     "name": "stdout",
     "output_type": "stream",
     "text": [
      "Epoch 3/20, Training Loss: 0.06122325790088594\n",
      "Epoch 3/20, Validation Loss: 0.03767655742838629\n"
     ]
    },
    {
     "name": "stderr",
     "output_type": "stream",
     "text": [
      "Epoch 4/20: 100%|██████████| 640/640 [00:03<00:00, 180.12batch/s, loss=0.0204]\n"
     ]
    },
    {
     "name": "stdout",
     "output_type": "stream",
     "text": [
      "Epoch 4/20, Training Loss: 0.020361894057245845\n",
      "Epoch 4/20, Validation Loss: 0.013255332178904317\n"
     ]
    },
    {
     "name": "stderr",
     "output_type": "stream",
     "text": [
      "Epoch 5/20: 100%|██████████| 640/640 [00:03<00:00, 181.41batch/s, loss=0.00862]\n"
     ]
    },
    {
     "name": "stdout",
     "output_type": "stream",
     "text": [
      "Epoch 5/20, Training Loss: 0.008623460361771293\n",
      "Epoch 5/20, Validation Loss: 0.00782311188302432\n"
     ]
    },
    {
     "name": "stderr",
     "output_type": "stream",
     "text": [
      "Epoch 6/20: 100%|██████████| 640/640 [00:03<00:00, 181.15batch/s, loss=0.00628]\n"
     ]
    },
    {
     "name": "stdout",
     "output_type": "stream",
     "text": [
      "Epoch 6/20, Training Loss: 0.0062836142298441046\n",
      "Epoch 6/20, Validation Loss: 0.006411990912977536\n"
     ]
    },
    {
     "name": "stderr",
     "output_type": "stream",
     "text": [
      "Epoch 7/20: 100%|██████████| 640/640 [00:03<00:00, 181.09batch/s, loss=0.00555]\n"
     ]
    },
    {
     "name": "stdout",
     "output_type": "stream",
     "text": [
      "Epoch 7/20, Training Loss: 0.005548083297399786\n",
      "Epoch 7/20, Validation Loss: 0.005744707450485092\n"
     ]
    },
    {
     "name": "stderr",
     "output_type": "stream",
     "text": [
      "Epoch 8/20: 100%|██████████| 640/640 [00:03<00:00, 179.40batch/s, loss=0.00512]\n"
     ]
    },
    {
     "name": "stdout",
     "output_type": "stream",
     "text": [
      "Epoch 8/20, Training Loss: 0.005124734489008923\n",
      "Epoch 8/20, Validation Loss: 0.005322685981225637\n"
     ]
    },
    {
     "name": "stderr",
     "output_type": "stream",
     "text": [
      "Epoch 9/20: 100%|██████████| 640/640 [00:03<00:00, 179.28batch/s, loss=0.00482]\n"
     ]
    },
    {
     "name": "stdout",
     "output_type": "stream",
     "text": [
      "Epoch 9/20, Training Loss: 0.00482377696778344\n",
      "Epoch 9/20, Validation Loss: 0.005017544723294586\n"
     ]
    },
    {
     "name": "stderr",
     "output_type": "stream",
     "text": [
      "Epoch 10/20: 100%|██████████| 640/640 [00:03<00:00, 178.57batch/s, loss=0.00458]\n"
     ]
    },
    {
     "name": "stdout",
     "output_type": "stream",
     "text": [
      "Epoch 10/20, Training Loss: 0.0045842807244977305\n",
      "Epoch 10/20, Validation Loss: 0.004779542693471426\n"
     ]
    },
    {
     "name": "stderr",
     "output_type": "stream",
     "text": [
      "Epoch 11/20: 100%|██████████| 640/640 [00:03<00:00, 179.39batch/s, loss=0.00439]\n"
     ]
    },
    {
     "name": "stdout",
     "output_type": "stream",
     "text": [
      "Epoch 11/20, Training Loss: 0.00438820012659026\n",
      "Epoch 11/20, Validation Loss: 0.004581469189975913\n"
     ]
    },
    {
     "name": "stderr",
     "output_type": "stream",
     "text": [
      "Epoch 12/20: 100%|██████████| 640/640 [00:03<00:00, 180.34batch/s, loss=0.00422]\n"
     ]
    },
    {
     "name": "stdout",
     "output_type": "stream",
     "text": [
      "Epoch 12/20, Training Loss: 0.004219782976652274\n",
      "Epoch 12/20, Validation Loss: 0.0044094204329699046\n"
     ]
    },
    {
     "name": "stderr",
     "output_type": "stream",
     "text": [
      "Epoch 13/20: 100%|██████████| 640/640 [00:03<00:00, 177.66batch/s, loss=0.00407]\n"
     ]
    },
    {
     "name": "stdout",
     "output_type": "stream",
     "text": [
      "Epoch 13/20, Training Loss: 0.004070089112456488\n",
      "Epoch 13/20, Validation Loss: 0.004255403389988194\n"
     ]
    },
    {
     "name": "stderr",
     "output_type": "stream",
     "text": [
      "Epoch 14/20: 100%|██████████| 640/640 [00:03<00:00, 178.92batch/s, loss=0.00394]\n"
     ]
    },
    {
     "name": "stdout",
     "output_type": "stream",
     "text": [
      "Epoch 14/20, Training Loss: 0.003935469947459939\n",
      "Epoch 14/20, Validation Loss: 0.0041172668758653495\n"
     ]
    },
    {
     "name": "stderr",
     "output_type": "stream",
     "text": [
      "Epoch 15/20: 100%|██████████| 640/640 [00:03<00:00, 179.06batch/s, loss=0.00381]\n"
     ]
    },
    {
     "name": "stdout",
     "output_type": "stream",
     "text": [
      "Epoch 15/20, Training Loss: 0.003812086556907042\n",
      "Epoch 15/20, Validation Loss: 0.003989267699661563\n"
     ]
    },
    {
     "name": "stderr",
     "output_type": "stream",
     "text": [
      "Epoch 16/20: 100%|██████████| 640/640 [00:03<00:00, 177.78batch/s, loss=0.0037] \n"
     ]
    },
    {
     "name": "stdout",
     "output_type": "stream",
     "text": [
      "Epoch 16/20, Training Loss: 0.0036982809232342607\n",
      "Epoch 16/20, Validation Loss: 0.003870175154476531\n"
     ]
    },
    {
     "name": "stderr",
     "output_type": "stream",
     "text": [
      "Epoch 17/20: 100%|██████████| 640/640 [00:03<00:00, 181.36batch/s, loss=0.00359]\n"
     ]
    },
    {
     "name": "stdout",
     "output_type": "stream",
     "text": [
      "Epoch 17/20, Training Loss: 0.003592481303377782\n",
      "Epoch 17/20, Validation Loss: 0.0037587623891769005\n"
     ]
    },
    {
     "name": "stderr",
     "output_type": "stream",
     "text": [
      "Epoch 18/20: 100%|██████████| 640/640 [00:03<00:00, 178.58batch/s, loss=0.00349]\n"
     ]
    },
    {
     "name": "stdout",
     "output_type": "stream",
     "text": [
      "Epoch 18/20, Training Loss: 0.003494450915720609\n",
      "Epoch 18/20, Validation Loss: 0.003654178277953625\n"
     ]
    },
    {
     "name": "stderr",
     "output_type": "stream",
     "text": [
      "Epoch 19/20: 100%|██████████| 640/640 [00:03<00:00, 180.38batch/s, loss=0.0034] \n"
     ]
    },
    {
     "name": "stdout",
     "output_type": "stream",
     "text": [
      "Epoch 19/20, Training Loss: 0.00340321384232039\n",
      "Epoch 19/20, Validation Loss: 0.003559151993577528\n"
     ]
    },
    {
     "name": "stderr",
     "output_type": "stream",
     "text": [
      "Epoch 20/20: 100%|██████████| 640/640 [00:03<00:00, 180.05batch/s, loss=0.00332]\n"
     ]
    },
    {
     "name": "stdout",
     "output_type": "stream",
     "text": [
      "Epoch 20/20, Training Loss: 0.00331877215537595\n",
      "Epoch 20/20, Validation Loss: 0.003469609847070256\n",
      "Mean Absolute Error: 0.04217908660760613\n"
     ]
    },
    {
     "data": {
      "image/png": "[encoded data removed]",
      "text/plain": [
       "<Figure size 432x288 with 1 Axes>"
      ]
     },
     "metadata": {
      "needs_background": "light"
     },
     "output_type": "display_data"
    }
   ],
   "source": [
    "### START CODE HERE ###\n",
    "# Change the structure and parameters to train your own model (Can add RNN layer here)\n",
    "# Reshape X_train and X_val to fit the RNN layer input shape.\n",
    "X_train = X_train.reshape(X_train.shape[0], X_train.shape[1], 1)\n",
    "X_val = X_val.reshape(X_val.shape[0], X_val.shape[1], 1)\n",
    "y_val = y_val.reshape(-1, 1)\n",
    "y_train = y_train.reshape(-1, 1)\n",
    "\n",
    "# Construct the model & Set the parameters.\n",
    "input_size = 1  # Number of input features (1 for single sine wave value)\n",
    "rnn_units = 128  # Number of units in the RNN layer\n",
    "dense_units = 64  # Number of units in the Dense layer\n",
    "output_size = 1  # Number of output classes (1 for single sine wave value)\n",
    "\n",
    "model = Model()\n",
    "model.add(RNN(input_size, rnn_units))\n",
    "model.add(Dense(rnn_units, dense_units))\n",
    "model.add(Activation(\"relu\", None))\n",
    "model.add(Dense(dense_units, dense_units))\n",
    "model.add(Activation(\"relu\", None))\n",
    "model.add(Dense(dense_units, output_size))\n",
    "model.add(Activation(\"linear\", None))\n",
    "\n",
    "# Train the model\n",
    "model.train(X_train, y_train, X_val, y_val, epochs=20, learning_rate=0.01, batch_size=8, loss_function='mse')\n",
    "\n",
    "# Predict the validation set\n",
    "y_pred = model.predict(X_val)\n",
    "# MAE\n",
    "mae = np.mean(np.abs(y_pred - y_val))\n",
    "print(f\"Mean Absolute Error: {mae}\")\n",
    "\n",
    "### END CODE HERE ###\n",
    "\n",
    "# Plot the training and validation losses\n",
    "model.plot_losses()"
   ]
  },
  {
   "cell_type": "markdown",
   "metadata": {
    "id": "DafczhXYA0fJ"
   },
   "source": [
    "#### Predict testing data & Save the answer (For RNN model)\n",
    "Remember to submit your prediction to Kaggle!"
   ]
  },
  {
   "cell_type": "code",
   "execution_count": 14,
   "metadata": {
    "id": "kVkkIBwd-CWf"
   },
   "outputs": [
    {
     "name": "stdout",
     "output_type": "stream",
     "text": [
      "Prediction data has been saved.\n"
     ]
    }
   ],
   "source": [
    "### START CODE HERE ###\n",
    "# Read the X_test.csv file into a DataFrame\n",
    "# Change the path if needed\n",
    "X_test_df = pd.read_csv('dataset/basic/X_test.csv')\n",
    "### END CODE HERE ###\n",
    "\n",
    "\n",
    "# Do not modify this part to get the correct output format!!\n",
    "# Drop the 'Id' column if it exists\n",
    "if 'Id' in X_test_df.columns:\n",
    "    X_test_df = X_test_df.drop(columns=['Id'])\n",
    "\n",
    "# Convert the DataFrame to a numpy array\n",
    "X_test = X_test_df.values\n",
    "X_test = X_test.reshape((X_test.shape[0], X_test.shape[1], 1))  # reshape the X_test to fit RNN layer input shape.\n",
    "y_pred = model.predict(X_test)\n",
    "\n",
    "\n",
    "# Convert the list of predictions to a numpy array\n",
    "y_pred = np.array(y_pred)\n",
    "y_pred_df = pd.DataFrame(y_pred, columns=['answer'])\n",
    "y_pred_df.insert(0, 'Id', range(1, 1 + len(y_pred_df)))\n",
    "y_pred_df.to_csv('y_pred_basic.csv', index=False)\n",
    "\n",
    "print('Prediction data has been saved.')"
   ]
  },
  {
   "cell_type": "markdown",
   "metadata": {
    "id": "NNRANy31n8aW"
   },
   "source": [
    "# Advance part (35%)\n",
    "\n",
    "\n",
    "\n",
    "\n"
   ]
  },
  {
   "cell_type": "markdown",
   "metadata": {
    "id": "Nz7MTnsUFcyP"
   },
   "source": [
    "## Accelerometer and Gyroscope dataset\n",
    "- ⚠⚠ You need to download the training & testing data from Kaggle. ⚠⚠ (Put it into the directory name `Activity data`, or your need to change the path in template.)\n",
    "- In this dataset, we provide the time-series Accelerometer and Gyroscope data each with 3-axial (x, y, z) (total 6 channels).\n",
    "- We classified the activity into 3 different classes:\n",
    "    Activity 1, 2, 3\\\n",
    "    You have to build a RNN model using these time-series data to predict the activity class.\n",
    "- Steps:\n",
    "    1. Load the provided `X_train.npy`, `y_train.npy` and `X_test.npy` and split the part of training data to validation.\\\n",
    "    Note: `y_train.npy` is already one-hot encoded.\n",
    "    2. Visualize the `X_train.npy`.\n",
    "    3. One-hot encode the `y_train.npy` for three classes: Activity 1, Activity 2, Activity 3.\n",
    "    4. Build your own RNN model and train it.\n",
    "    5. Predict with the `X_test.npy` and generate `y_test.csv` then **submit it to Kaggle**!\n",
    "- We have set 3 baselines on public score:\n",
    "    * Accuracy >= 0.65 -> 10 points\n",
    "    * Accuracy >= 0.7  -> 20 points\n",
    "    * Accuracy >= 0.75 -> 25 points\n",
    "- Kaggle link: https://www.kaggle.com/t/95e0b11f63e74566802b0dea5ec4f1b4\n"
   ]
  },
  {
   "cell_type": "markdown",
   "metadata": {
    "id": "AYo4WYfMHws_"
   },
   "source": [
    "### 1. Load training & testing data\n",
    "Load the training and testing data, then split the training data into a validation set using your preferred ratio."
   ]
  },
  {
   "cell_type": "code",
   "execution_count": 15,
   "metadata": {
    "id": "kmP1Uo4PlIwV"
   },
   "outputs": [
    {
     "name": "stdout",
     "output_type": "stream",
     "text": [
      "X_train shape: (7352, 128, 6)\n",
      "y_train shape: (7352, 1)\n",
      "X_test shape: (2947, 128, 6)\n"
     ]
    }
   ],
   "source": [
    "### START CODE HERE ###\n",
    "# Load X_train, y_train and X_test data\n",
    "# Change the path if needed\n",
    "X_train = np.load('dataset/advanced/X_train.npy')\n",
    "y_train = np.load('dataset/advanced/y_train.npy')\n",
    "X_test = np.load('dataset/advanced/X_test.npy')\n",
    "print(f\"X_train shape: {X_train.shape}\")\n",
    "print(f\"y_train shape: {y_train.shape}\")\n",
    "print(f\"X_test shape: {X_test.shape}\")\n",
    "### END CODE HERE ###\n",
    "\n",
    "### START CODE HERE ###\n",
    "# Define the validation ratio in your preferred way\n",
    "# 1. One-hot encode y_train. (3 classes)\n",
    "# 2. Split the X_train, y_train data into train & validation set.\n",
    "num_classes = 3\n",
    "y_train = np.eye(num_classes)[y_train] # one-hot encode y_train\n",
    "\n",
    "validation_ratio = 0.1\n",
    "split_idx = int(X_train.shape[0] * (1 - validation_ratio))\n",
    "X_train, X_val = X_train[:split_idx], X_train[split_idx:]\n",
    "y_train, y_val = y_train[:split_idx], y_train[split_idx:]\n",
    "### END CODE HERE ###"
   ]
  },
  {
   "cell_type": "markdown",
   "metadata": {
    "id": "h0u30s9HLcIL"
   },
   "source": [
    "### 2. Visualize the training data"
   ]
  },
  {
   "cell_type": "code",
   "execution_count": 16,
   "metadata": {
    "id": "XeD88dTg6oSI"
   },
   "outputs": [
    {
     "data": {
      "image/png": "[encoded data removed]",
      "text/plain": [
       "<Figure size 864x432 with 1 Axes>"
      ]
     },
     "metadata": {
      "needs_background": "light"
     },
     "output_type": "display_data"
    },
    {
     "data": {
      "image/png": "[encoded data removed]",
      "text/plain": [
       "<Figure size 864x432 with 1 Axes>"
      ]
     },
     "metadata": {
      "needs_background": "light"
     },
     "output_type": "display_data"
    },
    {
     "data": {
      "image/png": "[encoded data removed]",
      "text/plain": [
       "<Figure size 864x432 with 1 Axes>"
      ]
     },
     "metadata": {
      "needs_background": "light"
     },
     "output_type": "display_data"
    }
   ],
   "source": [
    "# Function to plot a single sample\n",
    "def plot_sample(X, y, sample_index):\n",
    "    plt.figure(figsize=(12, 6))\n",
    "    plt.plot(X[sample_index, :, 0], label='Acc X')\n",
    "    plt.plot(X[sample_index, :, 1], label='Acc Y')\n",
    "    plt.plot(X[sample_index, :, 2], label='Acc Z')\n",
    "    plt.plot(X[sample_index, :, 3], label='Gyro X')\n",
    "    plt.plot(X[sample_index, :, 4], label='Gyro Y')\n",
    "    plt.plot(X[sample_index, :, 5], label='Gyro Z')\n",
    "    plt.title(f'Sample {sample_index} - Activity: {np.argmax(y[sample_index])}')\n",
    "    plt.xlabel('Time Step')\n",
    "    plt.ylabel('Sensor Value')\n",
    "    plt.legend()\n",
    "    plt.show()\n",
    "\n",
    "### START CODE HERE ###\n",
    "# Plot a few samples\n",
    "for i in range(3):              # Change the range to visualize more samples\n",
    "    plot_sample(X_train, y_train, i)\n",
    " ### END CODE HERE ###"
   ]
  },
  {
   "cell_type": "markdown",
   "metadata": {
    "id": "doO7vRXk2t1w"
   },
   "source": [
    "### 3. Contruct and train the model"
   ]
  },
  {
   "cell_type": "code",
   "execution_count": 21,
   "metadata": {
    "id": "0nRlh-1qSsi2"
   },
   "outputs": [
    {
     "name": "stderr",
     "output_type": "stream",
     "text": [
      "Epoch 1/20: 100%|██████████| 413/413 [00:04<00:00, 89.87batch/s, loss=0.976]\n"
     ]
    },
    {
     "name": "stdout",
     "output_type": "stream",
     "text": [
      "Epoch 1/20, Training Loss: 0.9800776769989205\n",
      "Epoch 1/20, Validation Loss: 0.9576708220188105\n"
     ]
    },
    {
     "name": "stderr",
     "output_type": "stream",
     "text": [
      "Epoch 2/20: 100%|██████████| 413/413 [00:04<00:00, 89.36batch/s, loss=0.9]  \n"
     ]
    },
    {
     "name": "stdout",
     "output_type": "stream",
     "text": [
      "Epoch 2/20, Training Loss: 0.9033501431030581\n",
      "Epoch 2/20, Validation Loss: 0.7964651686462593\n"
     ]
    },
    {
     "name": "stderr",
     "output_type": "stream",
     "text": [
      "Epoch 3/20: 100%|██████████| 413/413 [00:04<00:00, 90.15batch/s, loss=0.68] \n"
     ]
    },
    {
     "name": "stdout",
     "output_type": "stream",
     "text": [
      "Epoch 3/20, Training Loss: 0.6834019443414132\n",
      "Epoch 3/20, Validation Loss: 0.5550710473330388\n"
     ]
    },
    {
     "name": "stderr",
     "output_type": "stream",
     "text": [
      "Epoch 4/20: 100%|██████████| 413/413 [00:04<00:00, 90.24batch/s, loss=0.545]\n"
     ]
    },
    {
     "name": "stdout",
     "output_type": "stream",
     "text": [
      "Epoch 4/20, Training Loss: 0.5485495879465064\n",
      "Epoch 4/20, Validation Loss: 0.46543967002118175\n"
     ]
    },
    {
     "name": "stderr",
     "output_type": "stream",
     "text": [
      "Epoch 5/20: 100%|██████████| 413/413 [00:04<00:00, 89.24batch/s, loss=0.485]\n"
     ]
    },
    {
     "name": "stdout",
     "output_type": "stream",
     "text": [
      "Epoch 5/20, Training Loss: 0.48765760860284635\n",
      "Epoch 5/20, Validation Loss: 0.41911944290051556\n"
     ]
    },
    {
     "name": "stderr",
     "output_type": "stream",
     "text": [
      "Epoch 6/20: 100%|██████████| 413/413 [00:04<00:00, 89.45batch/s, loss=0.452]\n"
     ]
    },
    {
     "name": "stdout",
     "output_type": "stream",
     "text": [
      "Epoch 6/20, Training Loss: 0.45372592309819937\n",
      "Epoch 6/20, Validation Loss: 0.40559739281831675\n"
     ]
    },
    {
     "name": "stderr",
     "output_type": "stream",
     "text": [
      "Epoch 7/20: 100%|██████████| 413/413 [00:04<00:00, 89.49batch/s, loss=0.441]\n"
     ]
    },
    {
     "name": "stdout",
     "output_type": "stream",
     "text": [
      "Epoch 7/20, Training Loss: 0.44341371432521787\n",
      "Epoch 7/20, Validation Loss: 0.40422097277142416\n"
     ]
    },
    {
     "name": "stderr",
     "output_type": "stream",
     "text": [
      "Epoch 8/20: 100%|██████████| 413/413 [00:04<00:00, 88.54batch/s, loss=0.436]\n"
     ]
    },
    {
     "name": "stdout",
     "output_type": "stream",
     "text": [
      "Epoch 8/20, Training Loss: 0.437840923587317\n",
      "Epoch 8/20, Validation Loss: 0.40165832734176377\n"
     ]
    },
    {
     "name": "stderr",
     "output_type": "stream",
     "text": [
      "Epoch 9/20: 100%|██████████| 413/413 [00:04<00:00, 90.22batch/s, loss=0.431]\n"
     ]
    },
    {
     "name": "stdout",
     "output_type": "stream",
     "text": [
      "Epoch 9/20, Training Loss: 0.43307735235515704\n",
      "Epoch 9/20, Validation Loss: 0.39903158392007676\n"
     ]
    },
    {
     "name": "stderr",
     "output_type": "stream",
     "text": [
      "Epoch 10/20: 100%|██████████| 413/413 [00:04<00:00, 89.57batch/s, loss=0.426]\n"
     ]
    },
    {
     "name": "stdout",
     "output_type": "stream",
     "text": [
      "Epoch 10/20, Training Loss: 0.42814021452511536\n",
      "Epoch 10/20, Validation Loss: 0.395107281545831\n"
     ]
    },
    {
     "name": "stderr",
     "output_type": "stream",
     "text": [
      "Epoch 11/20: 100%|██████████| 413/413 [00:04<00:00, 90.07batch/s, loss=0.418]\n"
     ]
    },
    {
     "name": "stdout",
     "output_type": "stream",
     "text": [
      "Epoch 11/20, Training Loss: 0.420745043330083\n",
      "Epoch 11/20, Validation Loss: 0.39443104950283964\n"
     ]
    },
    {
     "name": "stderr",
     "output_type": "stream",
     "text": [
      "Epoch 12/20: 100%|██████████| 413/413 [00:04<00:00, 82.69batch/s, loss=0.41] \n"
     ]
    },
    {
     "name": "stdout",
     "output_type": "stream",
     "text": [
      "Epoch 12/20, Training Loss: 0.4123020620283934\n",
      "Epoch 12/20, Validation Loss: 0.39321835996520865\n"
     ]
    },
    {
     "name": "stderr",
     "output_type": "stream",
     "text": [
      "Epoch 13/20: 100%|██████████| 413/413 [00:04<00:00, 90.47batch/s, loss=0.401]\n"
     ]
    },
    {
     "name": "stdout",
     "output_type": "stream",
     "text": [
      "Epoch 13/20, Training Loss: 0.4031489774171365\n",
      "Epoch 13/20, Validation Loss: 0.38717409578571504\n"
     ]
    },
    {
     "name": "stderr",
     "output_type": "stream",
     "text": [
      "Epoch 14/20: 100%|██████████| 413/413 [00:04<00:00, 90.73batch/s, loss=0.392]\n"
     ]
    },
    {
     "name": "stdout",
     "output_type": "stream",
     "text": [
      "Epoch 14/20, Training Loss: 0.3937561460813398\n",
      "Epoch 14/20, Validation Loss: 0.37925755077790607\n"
     ]
    },
    {
     "name": "stderr",
     "output_type": "stream",
     "text": [
      "Epoch 15/20: 100%|██████████| 413/413 [00:04<00:00, 91.54batch/s, loss=0.383]\n"
     ]
    },
    {
     "name": "stdout",
     "output_type": "stream",
     "text": [
      "Epoch 15/20, Training Loss: 0.3857347970632819\n",
      "Epoch 15/20, Validation Loss: 0.36678813739345073\n"
     ]
    },
    {
     "name": "stderr",
     "output_type": "stream",
     "text": [
      "Epoch 16/20: 100%|██████████| 413/413 [00:04<00:00, 89.75batch/s, loss=0.376]\n"
     ]
    },
    {
     "name": "stdout",
     "output_type": "stream",
     "text": [
      "Epoch 16/20, Training Loss: 0.37825997369447106\n",
      "Epoch 16/20, Validation Loss: 0.35560244667027474\n"
     ]
    },
    {
     "name": "stderr",
     "output_type": "stream",
     "text": [
      "Epoch 17/20: 100%|██████████| 413/413 [00:04<00:00, 90.48batch/s, loss=0.37] \n"
     ]
    },
    {
     "name": "stdout",
     "output_type": "stream",
     "text": [
      "Epoch 17/20, Training Loss: 0.3724017855783324\n",
      "Epoch 17/20, Validation Loss: 0.3494313201670348\n"
     ]
    },
    {
     "name": "stderr",
     "output_type": "stream",
     "text": [
      "Epoch 18/20: 100%|██████████| 413/413 [00:04<00:00, 89.50batch/s, loss=0.363]\n"
     ]
    },
    {
     "name": "stdout",
     "output_type": "stream",
     "text": [
      "Epoch 18/20, Training Loss: 0.36519078717545217\n",
      "Epoch 18/20, Validation Loss: 0.3504884281710135\n"
     ]
    },
    {
     "name": "stderr",
     "output_type": "stream",
     "text": [
      "Epoch 19/20: 100%|██████████| 413/413 [00:04<00:00, 90.39batch/s, loss=0.36] \n"
     ]
    },
    {
     "name": "stdout",
     "output_type": "stream",
     "text": [
      "Epoch 19/20, Training Loss: 0.3619199725718325\n",
      "Epoch 19/20, Validation Loss: 0.35018258441523975\n"
     ]
    },
    {
     "name": "stderr",
     "output_type": "stream",
     "text": [
      "Epoch 20/20: 100%|██████████| 413/413 [00:04<00:00, 89.62batch/s, loss=0.356]\n"
     ]
    },
    {
     "name": "stdout",
     "output_type": "stream",
     "text": [
      "Epoch 20/20, Training Loss: 0.3584829298637868\n",
      "Epoch 20/20, Validation Loss: 0.348478657982461\n"
     ]
    },
    {
     "name": "stderr",
     "output_type": "stream",
     "text": [
      "Epoch 1/40: 100%|██████████| 206/206 [00:10<00:00, 20.48batch/s, loss=0.349]\n"
     ]
    },
    {
     "name": "stdout",
     "output_type": "stream",
     "text": [
      "Epoch 1/40, Training Loss: 0.35142169166892534\n",
      "Epoch 1/40, Validation Loss: 0.34491312804859664\n"
     ]
    },
    {
     "name": "stderr",
     "output_type": "stream",
     "text": [
      "Epoch 2/40: 100%|██████████| 206/206 [00:10<00:00, 18.75batch/s, loss=0.347]\n"
     ]
    },
    {
     "name": "stdout",
     "output_type": "stream",
     "text": [
      "Epoch 2/40, Training Loss: 0.34966605851144483\n",
      "Epoch 2/40, Validation Loss: 0.3435623401626035\n"
     ]
    },
    {
     "name": "stderr",
     "output_type": "stream",
     "text": [
      "Epoch 3/40: 100%|██████████| 206/206 [00:09<00:00, 22.44batch/s, loss=0.346]\n"
     ]
    },
    {
     "name": "stdout",
     "output_type": "stream",
     "text": [
      "Epoch 3/40, Training Loss: 0.3483266477813458\n",
      "Epoch 3/40, Validation Loss: 0.3422727635937217\n"
     ]
    },
    {
     "name": "stderr",
     "output_type": "stream",
     "text": [
      "Epoch 4/40: 100%|██████████| 206/206 [00:09<00:00, 22.39batch/s, loss=0.345]\n"
     ]
    },
    {
     "name": "stdout",
     "output_type": "stream",
     "text": [
      "Epoch 4/40, Training Loss: 0.34698235101693514\n",
      "Epoch 4/40, Validation Loss: 0.3407840535106613\n"
     ]
    },
    {
     "name": "stderr",
     "output_type": "stream",
     "text": [
      "Epoch 5/40: 100%|██████████| 206/206 [00:09<00:00, 22.87batch/s, loss=0.343]\n"
     ]
    },
    {
     "name": "stdout",
     "output_type": "stream",
     "text": [
      "Epoch 5/40, Training Loss: 0.3458146047797711\n",
      "Epoch 5/40, Validation Loss: 0.3391725439106291\n"
     ]
    },
    {
     "name": "stderr",
     "output_type": "stream",
     "text": [
      "Epoch 6/40: 100%|██████████| 206/206 [00:08<00:00, 23.37batch/s, loss=0.342]\n"
     ]
    },
    {
     "name": "stdout",
     "output_type": "stream",
     "text": [
      "Epoch 6/40, Training Loss: 0.3447027918886563\n",
      "Epoch 6/40, Validation Loss: 0.3379564472988291\n"
     ]
    },
    {
     "name": "stderr",
     "output_type": "stream",
     "text": [
      "Epoch 7/40: 100%|██████████| 206/206 [00:12<00:00, 16.36batch/s, loss=0.341]\n"
     ]
    },
    {
     "name": "stdout",
     "output_type": "stream",
     "text": [
      "Epoch 7/40, Training Loss: 0.3437789288421379\n",
      "Epoch 7/40, Validation Loss: 0.33679577517661696\n"
     ]
    },
    {
     "name": "stderr",
     "output_type": "stream",
     "text": [
      "Epoch 8/40: 100%|██████████| 206/206 [00:10<00:00, 19.42batch/s, loss=0.34] \n"
     ]
    },
    {
     "name": "stdout",
     "output_type": "stream",
     "text": [
      "Epoch 8/40, Training Loss: 0.3427160669793373\n",
      "Epoch 8/40, Validation Loss: 0.33538570034862686\n"
     ]
    },
    {
     "name": "stderr",
     "output_type": "stream",
     "text": [
      "Epoch 9/40: 100%|██████████| 206/206 [00:10<00:00, 20.52batch/s, loss=0.339]\n"
     ]
    },
    {
     "name": "stdout",
     "output_type": "stream",
     "text": [
      "Epoch 9/40, Training Loss: 0.34161977648824526\n",
      "Epoch 9/40, Validation Loss: 0.3340080470001434\n"
     ]
    },
    {
     "name": "stderr",
     "output_type": "stream",
     "text": [
      "Epoch 10/40: 100%|██████████| 206/206 [00:08<00:00, 23.27batch/s, loss=0.338]\n"
     ]
    },
    {
     "name": "stdout",
     "output_type": "stream",
     "text": [
      "Epoch 10/40, Training Loss: 0.340669698371043\n",
      "Epoch 10/40, Validation Loss: 0.3324416902592202\n"
     ]
    },
    {
     "name": "stderr",
     "output_type": "stream",
     "text": [
      "Epoch 11/40: 100%|██████████| 206/206 [00:08<00:00, 25.21batch/s, loss=0.337]\n"
     ]
    },
    {
     "name": "stdout",
     "output_type": "stream",
     "text": [
      "Epoch 11/40, Training Loss: 0.3397183415854943\n",
      "Epoch 11/40, Validation Loss: 0.33139438603134586\n"
     ]
    },
    {
     "name": "stderr",
     "output_type": "stream",
     "text": [
      "Epoch 12/40: 100%|██████████| 206/206 [00:08<00:00, 23.74batch/s, loss=0.336]\n"
     ]
    },
    {
     "name": "stdout",
     "output_type": "stream",
     "text": [
      "Epoch 12/40, Training Loss: 0.33872996008737466\n",
      "Epoch 12/40, Validation Loss: 0.3302753210231984\n"
     ]
    },
    {
     "name": "stderr",
     "output_type": "stream",
     "text": [
      "Epoch 13/40: 100%|██████████| 206/206 [00:10<00:00, 20.60batch/s, loss=0.335]\n"
     ]
    },
    {
     "name": "stdout",
     "output_type": "stream",
     "text": [
      "Epoch 13/40, Training Loss: 0.3377621027278005\n",
      "Epoch 13/40, Validation Loss: 0.32933993133875206\n"
     ]
    },
    {
     "name": "stderr",
     "output_type": "stream",
     "text": [
      "Epoch 14/40: 100%|██████████| 206/206 [00:09<00:00, 21.20batch/s, loss=0.334]\n"
     ]
    },
    {
     "name": "stdout",
     "output_type": "stream",
     "text": [
      "Epoch 14/40, Training Loss: 0.3368226494742333\n",
      "Epoch 14/40, Validation Loss: 0.32842815490661437\n"
     ]
    },
    {
     "name": "stderr",
     "output_type": "stream",
     "text": [
      "Epoch 15/40: 100%|██████████| 206/206 [00:09<00:00, 21.83batch/s, loss=0.333]\n"
     ]
    },
    {
     "name": "stdout",
     "output_type": "stream",
     "text": [
      "Epoch 15/40, Training Loss: 0.3358412570205187\n",
      "Epoch 15/40, Validation Loss: 0.3276085549255779\n"
     ]
    },
    {
     "name": "stderr",
     "output_type": "stream",
     "text": [
      "Epoch 16/40: 100%|██████████| 206/206 [00:09<00:00, 21.54batch/s, loss=0.332]\n"
     ]
    },
    {
     "name": "stdout",
     "output_type": "stream",
     "text": [
      "Epoch 16/40, Training Loss: 0.33497779094912983\n",
      "Epoch 16/40, Validation Loss: 0.3268596412831738\n"
     ]
    },
    {
     "name": "stderr",
     "output_type": "stream",
     "text": [
      "Epoch 17/40: 100%|██████████| 206/206 [00:09<00:00, 22.77batch/s, loss=0.332]\n"
     ]
    },
    {
     "name": "stdout",
     "output_type": "stream",
     "text": [
      "Epoch 17/40, Training Loss: 0.33411076266288287\n",
      "Epoch 17/40, Validation Loss: 0.32639337496417525\n"
     ]
    },
    {
     "name": "stderr",
     "output_type": "stream",
     "text": [
      "Epoch 18/40: 100%|██████████| 206/206 [00:09<00:00, 21.22batch/s, loss=0.331]\n"
     ]
    },
    {
     "name": "stdout",
     "output_type": "stream",
     "text": [
      "Epoch 18/40, Training Loss: 0.3333979347774176\n",
      "Epoch 18/40, Validation Loss: 0.32596957647765074\n"
     ]
    },
    {
     "name": "stderr",
     "output_type": "stream",
     "text": [
      "Epoch 19/40: 100%|██████████| 206/206 [00:09<00:00, 21.23batch/s, loss=0.33] \n"
     ]
    },
    {
     "name": "stdout",
     "output_type": "stream",
     "text": [
      "Epoch 19/40, Training Loss: 0.3325460162946033\n",
      "Epoch 19/40, Validation Loss: 0.32531208367893166\n"
     ]
    },
    {
     "name": "stderr",
     "output_type": "stream",
     "text": [
      "Epoch 20/40: 100%|██████████| 206/206 [00:09<00:00, 22.14batch/s, loss=0.329]\n"
     ]
    },
    {
     "name": "stdout",
     "output_type": "stream",
     "text": [
      "Epoch 20/40, Training Loss: 0.33168887810902786\n",
      "Epoch 20/40, Validation Loss: 0.32464189191831944\n"
     ]
    },
    {
     "name": "stderr",
     "output_type": "stream",
     "text": [
      "Epoch 21/40: 100%|██████████| 206/206 [00:10<00:00, 19.65batch/s, loss=0.328]\n"
     ]
    },
    {
     "name": "stdout",
     "output_type": "stream",
     "text": [
      "Epoch 21/40, Training Loss: 0.33091065270334236\n",
      "Epoch 21/40, Validation Loss: 0.32417346475129494\n"
     ]
    },
    {
     "name": "stderr",
     "output_type": "stream",
     "text": [
      "Epoch 22/40: 100%|██████████| 206/206 [00:09<00:00, 21.81batch/s, loss=0.328]\n"
     ]
    },
    {
     "name": "stdout",
     "output_type": "stream",
     "text": [
      "Epoch 22/40, Training Loss: 0.3299717204410724\n",
      "Epoch 22/40, Validation Loss: 0.323562488212258\n"
     ]
    },
    {
     "name": "stderr",
     "output_type": "stream",
     "text": [
      "Epoch 23/40: 100%|██████████| 206/206 [00:09<00:00, 22.37batch/s, loss=0.327]\n"
     ]
    },
    {
     "name": "stdout",
     "output_type": "stream",
     "text": [
      "Epoch 23/40, Training Loss: 0.3290450230442355\n",
      "Epoch 23/40, Validation Loss: 0.32283629692982674\n"
     ]
    },
    {
     "name": "stderr",
     "output_type": "stream",
     "text": [
      "Epoch 24/40: 100%|██████████| 206/206 [00:09<00:00, 22.12batch/s, loss=0.326]\n"
     ]
    },
    {
     "name": "stdout",
     "output_type": "stream",
     "text": [
      "Epoch 24/40, Training Loss: 0.32821359158719865\n",
      "Epoch 24/40, Validation Loss: 0.3223034386645381\n"
     ]
    },
    {
     "name": "stderr",
     "output_type": "stream",
     "text": [
      "Epoch 25/40: 100%|██████████| 206/206 [00:09<00:00, 21.49batch/s, loss=0.325]\n"
     ]
    },
    {
     "name": "stdout",
     "output_type": "stream",
     "text": [
      "Epoch 25/40, Training Loss: 0.32727270540535147\n",
      "Epoch 25/40, Validation Loss: 0.321591571533368\n"
     ]
    },
    {
     "name": "stderr",
     "output_type": "stream",
     "text": [
      "Epoch 26/40: 100%|██████████| 206/206 [00:10<00:00, 19.90batch/s, loss=0.324]\n"
     ]
    },
    {
     "name": "stdout",
     "output_type": "stream",
     "text": [
      "Epoch 26/40, Training Loss: 0.32639345565733846\n",
      "Epoch 26/40, Validation Loss: 0.32086956332780225\n"
     ]
    },
    {
     "name": "stderr",
     "output_type": "stream",
     "text": [
      "Epoch 27/40: 100%|██████████| 206/206 [00:09<00:00, 21.90batch/s, loss=0.323]\n"
     ]
    },
    {
     "name": "stdout",
     "output_type": "stream",
     "text": [
      "Epoch 27/40, Training Loss: 0.32546337459215574\n",
      "Epoch 27/40, Validation Loss: 0.3202005778045815\n"
     ]
    },
    {
     "name": "stderr",
     "output_type": "stream",
     "text": [
      "Epoch 28/40: 100%|██████████| 206/206 [00:09<00:00, 21.43batch/s, loss=0.322]\n"
     ]
    },
    {
     "name": "stdout",
     "output_type": "stream",
     "text": [
      "Epoch 28/40, Training Loss: 0.32435914281547656\n",
      "Epoch 28/40, Validation Loss: 0.31947887620131593\n"
     ]
    },
    {
     "name": "stderr",
     "output_type": "stream",
     "text": [
      "Epoch 29/40: 100%|██████████| 206/206 [00:10<00:00, 20.10batch/s, loss=0.321]\n"
     ]
    },
    {
     "name": "stdout",
     "output_type": "stream",
     "text": [
      "Epoch 29/40, Training Loss: 0.3233140465262223\n",
      "Epoch 29/40, Validation Loss: 0.3192358558149454\n"
     ]
    },
    {
     "name": "stderr",
     "output_type": "stream",
     "text": [
      "Epoch 30/40: 100%|██████████| 206/206 [00:09<00:00, 21.84batch/s, loss=0.32] \n"
     ]
    },
    {
     "name": "stdout",
     "output_type": "stream",
     "text": [
      "Epoch 30/40, Training Loss: 0.32212958418245724\n",
      "Epoch 30/40, Validation Loss: 0.316924484822541\n"
     ]
    },
    {
     "name": "stderr",
     "output_type": "stream",
     "text": [
      "Epoch 31/40: 100%|██████████| 206/206 [00:09<00:00, 21.57batch/s, loss=0.319]\n"
     ]
    },
    {
     "name": "stdout",
     "output_type": "stream",
     "text": [
      "Epoch 31/40, Training Loss: 0.3208381365140951\n",
      "Epoch 31/40, Validation Loss: 0.3161614249989259\n"
     ]
    },
    {
     "name": "stderr",
     "output_type": "stream",
     "text": [
      "Epoch 32/40: 100%|██████████| 206/206 [00:09<00:00, 22.29batch/s, loss=0.317]\n"
     ]
    },
    {
     "name": "stdout",
     "output_type": "stream",
     "text": [
      "Epoch 32/40, Training Loss: 0.31963968681449545\n",
      "Epoch 32/40, Validation Loss: 0.31511165192656065\n"
     ]
    },
    {
     "name": "stderr",
     "output_type": "stream",
     "text": [
      "Epoch 33/40: 100%|██████████| 206/206 [00:09<00:00, 21.31batch/s, loss=0.316]\n"
     ]
    },
    {
     "name": "stdout",
     "output_type": "stream",
     "text": [
      "Epoch 33/40, Training Loss: 0.3182181503067773\n",
      "Epoch 33/40, Validation Loss: 0.31362310178478486\n"
     ]
    },
    {
     "name": "stderr",
     "output_type": "stream",
     "text": [
      "Epoch 34/40: 100%|██████████| 206/206 [00:09<00:00, 22.13batch/s, loss=0.315]\n"
     ]
    },
    {
     "name": "stdout",
     "output_type": "stream",
     "text": [
      "Epoch 34/40, Training Loss: 0.31686040851476754\n",
      "Epoch 34/40, Validation Loss: 0.31262765009868565\n"
     ]
    },
    {
     "name": "stderr",
     "output_type": "stream",
     "text": [
      "Epoch 35/40: 100%|██████████| 206/206 [00:08<00:00, 23.60batch/s, loss=0.313]\n"
     ]
    },
    {
     "name": "stdout",
     "output_type": "stream",
     "text": [
      "Epoch 35/40, Training Loss: 0.31544273931500355\n",
      "Epoch 35/40, Validation Loss: 0.31118051258041435\n"
     ]
    },
    {
     "name": "stderr",
     "output_type": "stream",
     "text": [
      "Epoch 36/40: 100%|██████████| 206/206 [00:09<00:00, 22.14batch/s, loss=0.311]\n"
     ]
    },
    {
     "name": "stdout",
     "output_type": "stream",
     "text": [
      "Epoch 36/40, Training Loss: 0.31337460427008274\n",
      "Epoch 36/40, Validation Loss: 0.30902190101286664\n"
     ]
    },
    {
     "name": "stderr",
     "output_type": "stream",
     "text": [
      "Epoch 37/40: 100%|██████████| 206/206 [00:09<00:00, 22.56batch/s, loss=0.308]\n"
     ]
    },
    {
     "name": "stdout",
     "output_type": "stream",
     "text": [
      "Epoch 37/40, Training Loss: 0.310401193087147\n",
      "Epoch 37/40, Validation Loss: 0.307351115180322\n"
     ]
    },
    {
     "name": "stderr",
     "output_type": "stream",
     "text": [
      "Epoch 38/40: 100%|██████████| 206/206 [00:09<00:00, 22.56batch/s, loss=0.304]\n"
     ]
    },
    {
     "name": "stdout",
     "output_type": "stream",
     "text": [
      "Epoch 38/40, Training Loss: 0.3065106678015997\n",
      "Epoch 38/40, Validation Loss: 0.30497444862768847\n"
     ]
    },
    {
     "name": "stderr",
     "output_type": "stream",
     "text": [
      "Epoch 39/40: 100%|██████████| 206/206 [00:09<00:00, 21.96batch/s, loss=0.3]  \n"
     ]
    },
    {
     "name": "stdout",
     "output_type": "stream",
     "text": [
      "Epoch 39/40, Training Loss: 0.30215580251680974\n",
      "Epoch 39/40, Validation Loss: 0.30055598839252\n"
     ]
    },
    {
     "name": "stderr",
     "output_type": "stream",
     "text": [
      "Epoch 40/40: 100%|██████████| 206/206 [00:09<00:00, 22.47batch/s, loss=0.295]\n"
     ]
    },
    {
     "name": "stdout",
     "output_type": "stream",
     "text": [
      "Epoch 40/40, Training Loss: 0.29699299668637374\n",
      "Epoch 40/40, Validation Loss: 0.29318822134554406\n"
     ]
    },
    {
     "name": "stderr",
     "output_type": "stream",
     "text": [
      "Epoch 1/40: 100%|██████████| 137/137 [00:11<00:00, 11.69batch/s, loss=0.286]\n"
     ]
    },
    {
     "name": "stdout",
     "output_type": "stream",
     "text": [
      "Epoch 1/40, Training Loss: 0.2865980803770223\n",
      "Epoch 1/40, Validation Loss: 0.2879667983817196\n"
     ]
    },
    {
     "name": "stderr",
     "output_type": "stream",
     "text": [
      "Epoch 2/40: 100%|██████████| 137/137 [00:11<00:00, 11.59batch/s, loss=0.284]\n"
     ]
    },
    {
     "name": "stdout",
     "output_type": "stream",
     "text": [
      "Epoch 2/40, Training Loss: 0.2841220969966874\n",
      "Epoch 2/40, Validation Loss: 0.28517363143658964\n"
     ]
    },
    {
     "name": "stderr",
     "output_type": "stream",
     "text": [
      "Epoch 3/40: 100%|██████████| 137/137 [00:13<00:00,  9.86batch/s, loss=0.281]\n"
     ]
    },
    {
     "name": "stdout",
     "output_type": "stream",
     "text": [
      "Epoch 3/40, Training Loss: 0.28173002124988533\n",
      "Epoch 3/40, Validation Loss: 0.2827192136789848\n"
     ]
    },
    {
     "name": "stderr",
     "output_type": "stream",
     "text": [
      "Epoch 4/40: 100%|██████████| 137/137 [00:13<00:00, 10.03batch/s, loss=0.279]\n"
     ]
    },
    {
     "name": "stdout",
     "output_type": "stream",
     "text": [
      "Epoch 4/40, Training Loss: 0.27933934438484104\n",
      "Epoch 4/40, Validation Loss: 0.28019021186035764\n"
     ]
    },
    {
     "name": "stderr",
     "output_type": "stream",
     "text": [
      "Epoch 5/40: 100%|██████████| 137/137 [00:15<00:00,  9.03batch/s, loss=0.276]\n"
     ]
    },
    {
     "name": "stdout",
     "output_type": "stream",
     "text": [
      "Epoch 5/40, Training Loss: 0.2767895013534298\n",
      "Epoch 5/40, Validation Loss: 0.2779092833525789\n"
     ]
    },
    {
     "name": "stderr",
     "output_type": "stream",
     "text": [
      "Epoch 6/40: 100%|██████████| 137/137 [00:12<00:00, 10.96batch/s, loss=0.274]\n"
     ]
    },
    {
     "name": "stdout",
     "output_type": "stream",
     "text": [
      "Epoch 6/40, Training Loss: 0.2741537951044551\n",
      "Epoch 6/40, Validation Loss: 0.27513856083203597\n"
     ]
    },
    {
     "name": "stderr",
     "output_type": "stream",
     "text": [
      "Epoch 7/40: 100%|██████████| 137/137 [00:12<00:00, 11.16batch/s, loss=0.27] \n"
     ]
    },
    {
     "name": "stdout",
     "output_type": "stream",
     "text": [
      "Epoch 7/40, Training Loss: 0.2709941894183024\n",
      "Epoch 7/40, Validation Loss: 0.27231330410571497\n"
     ]
    },
    {
     "name": "stderr",
     "output_type": "stream",
     "text": [
      "Epoch 8/40: 100%|██████████| 137/137 [00:12<00:00, 10.94batch/s, loss=0.267]\n"
     ]
    },
    {
     "name": "stdout",
     "output_type": "stream",
     "text": [
      "Epoch 8/40, Training Loss: 0.26757154175342124\n",
      "Epoch 8/40, Validation Loss: 0.2695932028744479\n"
     ]
    },
    {
     "name": "stderr",
     "output_type": "stream",
     "text": [
      "Epoch 9/40: 100%|██████████| 137/137 [00:13<00:00, 10.16batch/s, loss=0.263]\n"
     ]
    },
    {
     "name": "stdout",
     "output_type": "stream",
     "text": [
      "Epoch 9/40, Training Loss: 0.26383047944480054\n",
      "Epoch 9/40, Validation Loss: 0.26671499781827923\n"
     ]
    },
    {
     "name": "stderr",
     "output_type": "stream",
     "text": [
      "Epoch 10/40: 100%|██████████| 137/137 [00:11<00:00, 11.66batch/s, loss=0.259]\n"
     ]
    },
    {
     "name": "stdout",
     "output_type": "stream",
     "text": [
      "Epoch 10/40, Training Loss: 0.2602749364065697\n",
      "Epoch 10/40, Validation Loss: 0.26385456283711134\n"
     ]
    },
    {
     "name": "stderr",
     "output_type": "stream",
     "text": [
      "Epoch 11/40: 100%|██████████| 137/137 [00:13<00:00, 10.38batch/s, loss=0.255]\n"
     ]
    },
    {
     "name": "stdout",
     "output_type": "stream",
     "text": [
      "Epoch 11/40, Training Loss: 0.25672121236001494\n",
      "Epoch 11/40, Validation Loss: 0.26115740870180015\n"
     ]
    },
    {
     "name": "stderr",
     "output_type": "stream",
     "text": [
      "Epoch 12/40: 100%|██████████| 137/137 [00:13<00:00, 10.09batch/s, loss=0.252]\n"
     ]
    },
    {
     "name": "stdout",
     "output_type": "stream",
     "text": [
      "Epoch 12/40, Training Loss: 0.2531442424030003\n",
      "Epoch 12/40, Validation Loss: 0.2576109439278353\n"
     ]
    },
    {
     "name": "stderr",
     "output_type": "stream",
     "text": [
      "Epoch 13/40: 100%|██████████| 137/137 [00:12<00:00, 11.38batch/s, loss=0.248]\n"
     ]
    },
    {
     "name": "stdout",
     "output_type": "stream",
     "text": [
      "Epoch 13/40, Training Loss: 0.24986414372546584\n",
      "Epoch 13/40, Validation Loss: 0.2534554844914596\n"
     ]
    },
    {
     "name": "stderr",
     "output_type": "stream",
     "text": [
      "Epoch 14/40: 100%|██████████| 137/137 [00:12<00:00, 11.27batch/s, loss=0.245]\n"
     ]
    },
    {
     "name": "stdout",
     "output_type": "stream",
     "text": [
      "Epoch 14/40, Training Loss: 0.24660999462461894\n",
      "Epoch 14/40, Validation Loss: 0.2486287051548322\n"
     ]
    },
    {
     "name": "stderr",
     "output_type": "stream",
     "text": [
      "Epoch 15/40: 100%|██████████| 137/137 [00:12<00:00, 11.37batch/s, loss=0.242]\n"
     ]
    },
    {
     "name": "stdout",
     "output_type": "stream",
     "text": [
      "Epoch 15/40, Training Loss: 0.243164235930984\n",
      "Epoch 15/40, Validation Loss: 0.24376853924582292\n"
     ]
    },
    {
     "name": "stderr",
     "output_type": "stream",
     "text": [
      "Epoch 16/40: 100%|██████████| 137/137 [00:12<00:00, 11.14batch/s, loss=0.238]\n"
     ]
    },
    {
     "name": "stdout",
     "output_type": "stream",
     "text": [
      "Epoch 16/40, Training Loss: 0.23969523387578545\n",
      "Epoch 16/40, Validation Loss: 0.23817598110161667\n"
     ]
    },
    {
     "name": "stderr",
     "output_type": "stream",
     "text": [
      "Epoch 17/40: 100%|██████████| 137/137 [00:12<00:00, 10.70batch/s, loss=0.235]\n"
     ]
    },
    {
     "name": "stdout",
     "output_type": "stream",
     "text": [
      "Epoch 17/40, Training Loss: 0.23625238677953672\n",
      "Epoch 17/40, Validation Loss: 0.23222960896843314\n"
     ]
    },
    {
     "name": "stderr",
     "output_type": "stream",
     "text": [
      "Epoch 18/40: 100%|██████████| 137/137 [00:12<00:00, 11.10batch/s, loss=0.231]\n"
     ]
    },
    {
     "name": "stdout",
     "output_type": "stream",
     "text": [
      "Epoch 18/40, Training Loss: 0.23246649142951242\n",
      "Epoch 18/40, Validation Loss: 0.22495213680152285\n"
     ]
    },
    {
     "name": "stderr",
     "output_type": "stream",
     "text": [
      "Epoch 19/40: 100%|██████████| 137/137 [00:11<00:00, 11.50batch/s, loss=0.227]\n"
     ]
    },
    {
     "name": "stdout",
     "output_type": "stream",
     "text": [
      "Epoch 19/40, Training Loss: 0.22854070776669\n",
      "Epoch 19/40, Validation Loss: 0.21802212243464128\n"
     ]
    },
    {
     "name": "stderr",
     "output_type": "stream",
     "text": [
      "Epoch 20/40: 100%|██████████| 137/137 [00:11<00:00, 11.61batch/s, loss=0.223]\n"
     ]
    },
    {
     "name": "stdout",
     "output_type": "stream",
     "text": [
      "Epoch 20/40, Training Loss: 0.22417794199868263\n",
      "Epoch 20/40, Validation Loss: 0.21105340668274014\n"
     ]
    },
    {
     "name": "stderr",
     "output_type": "stream",
     "text": [
      "Epoch 21/40: 100%|██████████| 137/137 [00:12<00:00, 11.36batch/s, loss=0.218]\n"
     ]
    },
    {
     "name": "stdout",
     "output_type": "stream",
     "text": [
      "Epoch 21/40, Training Loss: 0.21962545442221862\n",
      "Epoch 21/40, Validation Loss: 0.20335187963695836\n"
     ]
    },
    {
     "name": "stderr",
     "output_type": "stream",
     "text": [
      "Epoch 22/40: 100%|██████████| 137/137 [00:11<00:00, 11.47batch/s, loss=0.213]\n"
     ]
    },
    {
     "name": "stdout",
     "output_type": "stream",
     "text": [
      "Epoch 22/40, Training Loss: 0.2142985464192655\n",
      "Epoch 22/40, Validation Loss: 0.1949292232020764\n"
     ]
    },
    {
     "name": "stderr",
     "output_type": "stream",
     "text": [
      "Epoch 23/40: 100%|██████████| 137/137 [00:11<00:00, 11.69batch/s, loss=0.207]\n"
     ]
    },
    {
     "name": "stdout",
     "output_type": "stream",
     "text": [
      "Epoch 23/40, Training Loss: 0.2085923893960592\n",
      "Epoch 23/40, Validation Loss: 0.1880350469161905\n"
     ]
    },
    {
     "name": "stderr",
     "output_type": "stream",
     "text": [
      "Epoch 24/40: 100%|██████████| 137/137 [00:11<00:00, 11.65batch/s, loss=0.202]\n"
     ]
    },
    {
     "name": "stdout",
     "output_type": "stream",
     "text": [
      "Epoch 24/40, Training Loss: 0.203569885433509\n",
      "Epoch 24/40, Validation Loss: 0.18259273707334472\n"
     ]
    },
    {
     "name": "stderr",
     "output_type": "stream",
     "text": [
      "Epoch 25/40: 100%|██████████| 137/137 [00:11<00:00, 11.59batch/s, loss=0.198]\n"
     ]
    },
    {
     "name": "stdout",
     "output_type": "stream",
     "text": [
      "Epoch 25/40, Training Loss: 0.1991736648841994\n",
      "Epoch 25/40, Validation Loss: 0.17752022849297913\n"
     ]
    },
    {
     "name": "stderr",
     "output_type": "stream",
     "text": [
      "Epoch 26/40: 100%|██████████| 137/137 [00:12<00:00, 10.95batch/s, loss=0.193]\n"
     ]
    },
    {
     "name": "stdout",
     "output_type": "stream",
     "text": [
      "Epoch 26/40, Training Loss: 0.19410894394344325\n",
      "Epoch 26/40, Validation Loss: 0.1743324264483766\n"
     ]
    },
    {
     "name": "stderr",
     "output_type": "stream",
     "text": [
      "Epoch 27/40: 100%|██████████| 137/137 [00:11<00:00, 11.58batch/s, loss=0.188]\n"
     ]
    },
    {
     "name": "stdout",
     "output_type": "stream",
     "text": [
      "Epoch 27/40, Training Loss: 0.1895118392820269\n",
      "Epoch 27/40, Validation Loss: 0.16995284560514506\n"
     ]
    },
    {
     "name": "stderr",
     "output_type": "stream",
     "text": [
      "Epoch 28/40: 100%|██████████| 137/137 [00:11<00:00, 11.95batch/s, loss=0.189]\n"
     ]
    },
    {
     "name": "stdout",
     "output_type": "stream",
     "text": [
      "Epoch 28/40, Training Loss: 0.1901241106266964\n",
      "Epoch 28/40, Validation Loss: 0.17096880837908363\n"
     ]
    },
    {
     "name": "stderr",
     "output_type": "stream",
     "text": [
      "Epoch 29/40: 100%|██████████| 137/137 [00:12<00:00, 11.20batch/s, loss=0.184]\n"
     ]
    },
    {
     "name": "stdout",
     "output_type": "stream",
     "text": [
      "Epoch 29/40, Training Loss: 0.18490920644619316\n",
      "Epoch 29/40, Validation Loss: 0.16216066311865293\n"
     ]
    },
    {
     "name": "stderr",
     "output_type": "stream",
     "text": [
      "Epoch 30/40: 100%|██████████| 137/137 [00:11<00:00, 11.64batch/s, loss=0.233]\n"
     ]
    },
    {
     "name": "stdout",
     "output_type": "stream",
     "text": [
      "Epoch 30/40, Training Loss: 0.23462083562872169\n",
      "Epoch 30/40, Validation Loss: 0.3248093923533195\n"
     ]
    },
    {
     "name": "stderr",
     "output_type": "stream",
     "text": [
      "Epoch 31/40: 100%|██████████| 137/137 [00:14<00:00,  9.78batch/s, loss=0.251]\n"
     ]
    },
    {
     "name": "stdout",
     "output_type": "stream",
     "text": [
      "Epoch 31/40, Training Loss: 0.25121640153013897\n",
      "Epoch 31/40, Validation Loss: 0.2108803874396559\n"
     ]
    },
    {
     "name": "stderr",
     "output_type": "stream",
     "text": [
      "Epoch 32/40: 100%|██████████| 137/137 [00:11<00:00, 11.83batch/s, loss=0.195]\n"
     ]
    },
    {
     "name": "stdout",
     "output_type": "stream",
     "text": [
      "Epoch 32/40, Training Loss: 0.19571381869550084\n",
      "Epoch 32/40, Validation Loss: 0.17725212677492766\n"
     ]
    },
    {
     "name": "stderr",
     "output_type": "stream",
     "text": [
      "Epoch 33/40: 100%|██████████| 137/137 [00:11<00:00, 12.15batch/s, loss=0.177]\n"
     ]
    },
    {
     "name": "stdout",
     "output_type": "stream",
     "text": [
      "Epoch 33/40, Training Loss: 0.17831146596786288\n",
      "Epoch 33/40, Validation Loss: 0.15758854446424977\n"
     ]
    },
    {
     "name": "stderr",
     "output_type": "stream",
     "text": [
      "Epoch 34/40: 100%|██████████| 137/137 [00:11<00:00, 12.20batch/s, loss=0.177]\n"
     ]
    },
    {
     "name": "stdout",
     "output_type": "stream",
     "text": [
      "Epoch 34/40, Training Loss: 0.1778108283514655\n",
      "Epoch 34/40, Validation Loss: 0.15584903639628972\n"
     ]
    },
    {
     "name": "stderr",
     "output_type": "stream",
     "text": [
      "Epoch 35/40: 100%|██████████| 137/137 [00:13<00:00, 10.28batch/s, loss=0.172]\n"
     ]
    },
    {
     "name": "stdout",
     "output_type": "stream",
     "text": [
      "Epoch 35/40, Training Loss: 0.17231938736106617\n",
      "Epoch 35/40, Validation Loss: 0.1464983240446085\n"
     ]
    },
    {
     "name": "stderr",
     "output_type": "stream",
     "text": [
      "Epoch 36/40: 100%|██████████| 137/137 [00:11<00:00, 11.90batch/s, loss=0.17] \n"
     ]
    },
    {
     "name": "stdout",
     "output_type": "stream",
     "text": [
      "Epoch 36/40, Training Loss: 0.1704558005728244\n",
      "Epoch 36/40, Validation Loss: 0.14361523022185896\n"
     ]
    },
    {
     "name": "stderr",
     "output_type": "stream",
     "text": [
      "Epoch 37/40: 100%|██████████| 137/137 [00:11<00:00, 11.72batch/s, loss=0.192]\n"
     ]
    },
    {
     "name": "stdout",
     "output_type": "stream",
     "text": [
      "Epoch 37/40, Training Loss: 0.192541668059984\n",
      "Epoch 37/40, Validation Loss: 0.19100054981678075\n"
     ]
    },
    {
     "name": "stderr",
     "output_type": "stream",
     "text": [
      "Epoch 38/40: 100%|██████████| 137/137 [00:11<00:00, 11.79batch/s, loss=0.169]\n"
     ]
    },
    {
     "name": "stdout",
     "output_type": "stream",
     "text": [
      "Epoch 38/40, Training Loss: 0.1697247192111584\n",
      "Epoch 38/40, Validation Loss: 0.1392902773559968\n"
     ]
    },
    {
     "name": "stderr",
     "output_type": "stream",
     "text": [
      "Epoch 39/40: 100%|██████████| 137/137 [00:11<00:00, 11.43batch/s, loss=0.201]\n"
     ]
    },
    {
     "name": "stdout",
     "output_type": "stream",
     "text": [
      "Epoch 39/40, Training Loss: 0.20236553771889973\n",
      "Epoch 39/40, Validation Loss: 0.26259385596091644\n"
     ]
    },
    {
     "name": "stderr",
     "output_type": "stream",
     "text": [
      "Epoch 40/40: 100%|██████████| 137/137 [00:11<00:00, 11.50batch/s, loss=0.188]\n"
     ]
    },
    {
     "name": "stdout",
     "output_type": "stream",
     "text": [
      "Epoch 40/40, Training Loss: 0.1880166980507077\n",
      "Epoch 40/40, Validation Loss: 0.15609670882481122\n"
     ]
    },
    {
     "name": "stderr",
     "output_type": "stream",
     "text": [
      "Epoch 1/40: 100%|██████████| 103/103 [00:09<00:00, 10.70batch/s, loss=0.146]\n"
     ]
    },
    {
     "name": "stdout",
     "output_type": "stream",
     "text": [
      "Epoch 1/40, Training Loss: 0.14611467854414364\n",
      "Epoch 1/40, Validation Loss: 0.13065956423841496\n"
     ]
    },
    {
     "name": "stderr",
     "output_type": "stream",
     "text": [
      "Epoch 2/40: 100%|██████████| 103/103 [00:08<00:00, 12.40batch/s, loss=0.14]\n"
     ]
    },
    {
     "name": "stdout",
     "output_type": "stream",
     "text": [
      "Epoch 2/40, Training Loss: 0.13993384947173584\n",
      "Epoch 2/40, Validation Loss: 0.12265229234623991\n"
     ]
    },
    {
     "name": "stderr",
     "output_type": "stream",
     "text": [
      "Epoch 3/40: 100%|██████████| 103/103 [00:08<00:00, 11.74batch/s, loss=0.139]\n"
     ]
    },
    {
     "name": "stdout",
     "output_type": "stream",
     "text": [
      "Epoch 3/40, Training Loss: 0.1387391521798286\n",
      "Epoch 3/40, Validation Loss: 0.11998106477324022\n"
     ]
    },
    {
     "name": "stderr",
     "output_type": "stream",
     "text": [
      "Epoch 4/40: 100%|██████████| 103/103 [00:08<00:00, 12.77batch/s, loss=0.137]\n"
     ]
    },
    {
     "name": "stdout",
     "output_type": "stream",
     "text": [
      "Epoch 4/40, Training Loss: 0.13699339770902302\n",
      "Epoch 4/40, Validation Loss: 0.11784570950566092\n"
     ]
    },
    {
     "name": "stderr",
     "output_type": "stream",
     "text": [
      "Epoch 5/40: 100%|██████████| 103/103 [00:08<00:00, 11.51batch/s, loss=0.136]\n"
     ]
    },
    {
     "name": "stdout",
     "output_type": "stream",
     "text": [
      "Epoch 5/40, Training Loss: 0.1359500895625055\n",
      "Epoch 5/40, Validation Loss: 0.11672743994291705\n"
     ]
    },
    {
     "name": "stderr",
     "output_type": "stream",
     "text": [
      "Epoch 6/40: 100%|██████████| 103/103 [00:09<00:00, 11.36batch/s, loss=0.135]\n"
     ]
    },
    {
     "name": "stdout",
     "output_type": "stream",
     "text": [
      "Epoch 6/40, Training Loss: 0.1350911709489801\n",
      "Epoch 6/40, Validation Loss: 0.11550939145897696\n"
     ]
    },
    {
     "name": "stderr",
     "output_type": "stream",
     "text": [
      "Epoch 7/40: 100%|██████████| 103/103 [00:09<00:00, 11.44batch/s, loss=0.135]\n"
     ]
    },
    {
     "name": "stdout",
     "output_type": "stream",
     "text": [
      "Epoch 7/40, Training Loss: 0.13438076888062422\n",
      "Epoch 7/40, Validation Loss: 0.11488887304861191\n"
     ]
    },
    {
     "name": "stderr",
     "output_type": "stream",
     "text": [
      "Epoch 8/40: 100%|██████████| 103/103 [00:08<00:00, 11.97batch/s, loss=0.134]\n"
     ]
    },
    {
     "name": "stdout",
     "output_type": "stream",
     "text": [
      "Epoch 8/40, Training Loss: 0.13355029712098251\n",
      "Epoch 8/40, Validation Loss: 0.11411892959505378\n"
     ]
    },
    {
     "name": "stderr",
     "output_type": "stream",
     "text": [
      "Epoch 9/40: 100%|██████████| 103/103 [00:09<00:00, 10.53batch/s, loss=0.133]\n"
     ]
    },
    {
     "name": "stdout",
     "output_type": "stream",
     "text": [
      "Epoch 9/40, Training Loss: 0.13253921174514544\n",
      "Epoch 9/40, Validation Loss: 0.11295641657351697\n"
     ]
    },
    {
     "name": "stderr",
     "output_type": "stream",
     "text": [
      "Epoch 10/40: 100%|██████████| 103/103 [00:08<00:00, 12.49batch/s, loss=0.132]\n"
     ]
    },
    {
     "name": "stdout",
     "output_type": "stream",
     "text": [
      "Epoch 10/40, Training Loss: 0.1317505093142502\n",
      "Epoch 10/40, Validation Loss: 0.11193149804432423\n"
     ]
    },
    {
     "name": "stderr",
     "output_type": "stream",
     "text": [
      "Epoch 11/40: 100%|██████████| 103/103 [00:08<00:00, 12.29batch/s, loss=0.131]\n"
     ]
    },
    {
     "name": "stdout",
     "output_type": "stream",
     "text": [
      "Epoch 11/40, Training Loss: 0.13087144293610412\n",
      "Epoch 11/40, Validation Loss: 0.11096060313565513\n"
     ]
    },
    {
     "name": "stderr",
     "output_type": "stream",
     "text": [
      "Epoch 12/40: 100%|██████████| 103/103 [00:10<00:00, 10.20batch/s, loss=0.131]\n"
     ]
    },
    {
     "name": "stdout",
     "output_type": "stream",
     "text": [
      "Epoch 12/40, Training Loss: 0.1300426202754291\n",
      "Epoch 12/40, Validation Loss: 0.1098369978310529\n"
     ]
    },
    {
     "name": "stderr",
     "output_type": "stream",
     "text": [
      "Epoch 13/40: 100%|██████████| 103/103 [00:09<00:00, 10.79batch/s, loss=0.13]\n"
     ]
    },
    {
     "name": "stdout",
     "output_type": "stream",
     "text": [
      "Epoch 13/40, Training Loss: 0.12907756278611893\n",
      "Epoch 13/40, Validation Loss: 0.10887440176170297\n"
     ]
    },
    {
     "name": "stderr",
     "output_type": "stream",
     "text": [
      "Epoch 14/40: 100%|██████████| 103/103 [00:09<00:00, 10.37batch/s, loss=0.129]\n"
     ]
    },
    {
     "name": "stdout",
     "output_type": "stream",
     "text": [
      "Epoch 14/40, Training Loss: 0.12820066469338603\n",
      "Epoch 14/40, Validation Loss: 0.1076838195385012\n"
     ]
    },
    {
     "name": "stderr",
     "output_type": "stream",
     "text": [
      "Epoch 15/40: 100%|██████████| 103/103 [00:08<00:00, 12.31batch/s, loss=0.128]\n"
     ]
    },
    {
     "name": "stdout",
     "output_type": "stream",
     "text": [
      "Epoch 15/40, Training Loss: 0.12744210575805906\n",
      "Epoch 15/40, Validation Loss: 0.10661648174699426\n"
     ]
    },
    {
     "name": "stderr",
     "output_type": "stream",
     "text": [
      "Epoch 16/40: 100%|██████████| 103/103 [00:08<00:00, 12.24batch/s, loss=0.128]\n"
     ]
    },
    {
     "name": "stdout",
     "output_type": "stream",
     "text": [
      "Epoch 16/40, Training Loss: 0.1268558316083202\n",
      "Epoch 16/40, Validation Loss: 0.10587977714391172\n"
     ]
    },
    {
     "name": "stderr",
     "output_type": "stream",
     "text": [
      "Epoch 17/40: 100%|██████████| 103/103 [00:08<00:00, 12.34batch/s, loss=0.127]\n"
     ]
    },
    {
     "name": "stdout",
     "output_type": "stream",
     "text": [
      "Epoch 17/40, Training Loss: 0.1261239731230424\n",
      "Epoch 17/40, Validation Loss: 0.10490139403497416\n"
     ]
    },
    {
     "name": "stderr",
     "output_type": "stream",
     "text": [
      "Epoch 18/40: 100%|██████████| 103/103 [00:08<00:00, 11.86batch/s, loss=0.126]\n"
     ]
    },
    {
     "name": "stdout",
     "output_type": "stream",
     "text": [
      "Epoch 18/40, Training Loss: 0.12559272160264137\n",
      "Epoch 18/40, Validation Loss: 0.10423631495478274\n"
     ]
    },
    {
     "name": "stderr",
     "output_type": "stream",
     "text": [
      "Epoch 19/40: 100%|██████████| 103/103 [00:08<00:00, 12.82batch/s, loss=0.126]\n"
     ]
    },
    {
     "name": "stdout",
     "output_type": "stream",
     "text": [
      "Epoch 19/40, Training Loss: 0.12481577505179797\n",
      "Epoch 19/40, Validation Loss: 0.10319228636644119\n"
     ]
    },
    {
     "name": "stderr",
     "output_type": "stream",
     "text": [
      "Epoch 20/40: 100%|██████████| 103/103 [00:08<00:00, 11.55batch/s, loss=0.125]\n"
     ]
    },
    {
     "name": "stdout",
     "output_type": "stream",
     "text": [
      "Epoch 20/40, Training Loss: 0.12441836609351568\n",
      "Epoch 20/40, Validation Loss: 0.10262620915018911\n"
     ]
    },
    {
     "name": "stderr",
     "output_type": "stream",
     "text": [
      "Epoch 21/40: 100%|██████████| 103/103 [00:08<00:00, 11.68batch/s, loss=0.125]\n"
     ]
    },
    {
     "name": "stdout",
     "output_type": "stream",
     "text": [
      "Epoch 21/40, Training Loss: 0.1237621701505191\n",
      "Epoch 21/40, Validation Loss: 0.10157857045718549\n"
     ]
    },
    {
     "name": "stderr",
     "output_type": "stream",
     "text": [
      "Epoch 22/40: 100%|██████████| 103/103 [00:09<00:00, 10.51batch/s, loss=0.124]\n"
     ]
    },
    {
     "name": "stdout",
     "output_type": "stream",
     "text": [
      "Epoch 22/40, Training Loss: 0.12333476424987021\n",
      "Epoch 22/40, Validation Loss: 0.10086122444411154\n"
     ]
    },
    {
     "name": "stderr",
     "output_type": "stream",
     "text": [
      "Epoch 23/40: 100%|██████████| 103/103 [00:08<00:00, 11.67batch/s, loss=0.124]\n"
     ]
    },
    {
     "name": "stdout",
     "output_type": "stream",
     "text": [
      "Epoch 23/40, Training Loss: 0.1226922573027581\n",
      "Epoch 23/40, Validation Loss: 0.0995537594481737\n"
     ]
    },
    {
     "name": "stderr",
     "output_type": "stream",
     "text": [
      "Epoch 24/40: 100%|██████████| 103/103 [00:08<00:00, 12.27batch/s, loss=0.123]\n"
     ]
    },
    {
     "name": "stdout",
     "output_type": "stream",
     "text": [
      "Epoch 24/40, Training Loss: 0.12237754271198521\n",
      "Epoch 24/40, Validation Loss: 0.10081421411234333\n"
     ]
    },
    {
     "name": "stderr",
     "output_type": "stream",
     "text": [
      "Epoch 25/40: 100%|██████████| 103/103 [00:08<00:00, 11.64batch/s, loss=0.123]\n"
     ]
    },
    {
     "name": "stdout",
     "output_type": "stream",
     "text": [
      "Epoch 25/40, Training Loss: 0.12172474947668184\n",
      "Epoch 25/40, Validation Loss: 0.09974066815169971\n"
     ]
    },
    {
     "name": "stderr",
     "output_type": "stream",
     "text": [
      "Epoch 26/40: 100%|██████████| 103/103 [00:08<00:00, 11.86batch/s, loss=0.122]\n"
     ]
    },
    {
     "name": "stdout",
     "output_type": "stream",
     "text": [
      "Epoch 26/40, Training Loss: 0.12119067460823263\n",
      "Epoch 26/40, Validation Loss: 0.0991636732570275\n"
     ]
    },
    {
     "name": "stderr",
     "output_type": "stream",
     "text": [
      "Epoch 27/40: 100%|██████████| 103/103 [00:09<00:00, 11.17batch/s, loss=0.122]\n"
     ]
    },
    {
     "name": "stdout",
     "output_type": "stream",
     "text": [
      "Epoch 27/40, Training Loss: 0.12071099218171742\n",
      "Epoch 27/40, Validation Loss: 0.09853179669212603\n"
     ]
    },
    {
     "name": "stderr",
     "output_type": "stream",
     "text": [
      "Epoch 28/40: 100%|██████████| 103/103 [00:08<00:00, 12.20batch/s, loss=0.121]\n"
     ]
    },
    {
     "name": "stdout",
     "output_type": "stream",
     "text": [
      "Epoch 28/40, Training Loss: 0.11996066696481703\n",
      "Epoch 28/40, Validation Loss: 0.09766652299931336\n"
     ]
    },
    {
     "name": "stderr",
     "output_type": "stream",
     "text": [
      "Epoch 29/40: 100%|██████████| 103/103 [00:07<00:00, 13.12batch/s, loss=0.12]\n"
     ]
    },
    {
     "name": "stdout",
     "output_type": "stream",
     "text": [
      "Epoch 29/40, Training Loss: 0.11948443245403087\n",
      "Epoch 29/40, Validation Loss: 0.09653290457667967\n"
     ]
    },
    {
     "name": "stderr",
     "output_type": "stream",
     "text": [
      "Epoch 30/40: 100%|██████████| 103/103 [00:09<00:00, 10.60batch/s, loss=0.12]\n"
     ]
    },
    {
     "name": "stdout",
     "output_type": "stream",
     "text": [
      "Epoch 30/40, Training Loss: 0.11902188197275425\n",
      "Epoch 30/40, Validation Loss: 0.09583725368626514\n"
     ]
    },
    {
     "name": "stderr",
     "output_type": "stream",
     "text": [
      "Epoch 31/40: 100%|██████████| 103/103 [00:08<00:00, 12.03batch/s, loss=0.119]\n"
     ]
    },
    {
     "name": "stdout",
     "output_type": "stream",
     "text": [
      "Epoch 31/40, Training Loss: 0.1183911130791931\n",
      "Epoch 31/40, Validation Loss: 0.09508843949227243\n"
     ]
    },
    {
     "name": "stderr",
     "output_type": "stream",
     "text": [
      "Epoch 32/40: 100%|██████████| 103/103 [00:08<00:00, 12.03batch/s, loss=0.119]\n"
     ]
    },
    {
     "name": "stdout",
     "output_type": "stream",
     "text": [
      "Epoch 32/40, Training Loss: 0.1178101992040671\n",
      "Epoch 32/40, Validation Loss: 0.09438902274694562\n"
     ]
    },
    {
     "name": "stderr",
     "output_type": "stream",
     "text": [
      "Epoch 33/40: 100%|██████████| 103/103 [00:08<00:00, 11.74batch/s, loss=0.119]\n"
     ]
    },
    {
     "name": "stdout",
     "output_type": "stream",
     "text": [
      "Epoch 33/40, Training Loss: 0.11751056728749062\n",
      "Epoch 33/40, Validation Loss: 0.09341927313453438\n"
     ]
    },
    {
     "name": "stderr",
     "output_type": "stream",
     "text": [
      "Epoch 34/40: 100%|██████████| 103/103 [00:08<00:00, 11.71batch/s, loss=0.118]\n"
     ]
    },
    {
     "name": "stdout",
     "output_type": "stream",
     "text": [
      "Epoch 34/40, Training Loss: 0.11725421709103696\n",
      "Epoch 34/40, Validation Loss: 0.09298562646116727\n"
     ]
    },
    {
     "name": "stderr",
     "output_type": "stream",
     "text": [
      "Epoch 35/40: 100%|██████████| 103/103 [00:08<00:00, 11.90batch/s, loss=0.118]\n"
     ]
    },
    {
     "name": "stdout",
     "output_type": "stream",
     "text": [
      "Epoch 35/40, Training Loss: 0.11671728759957042\n",
      "Epoch 35/40, Validation Loss: 0.09200862676142071\n"
     ]
    },
    {
     "name": "stderr",
     "output_type": "stream",
     "text": [
      "Epoch 36/40: 100%|██████████| 103/103 [00:08<00:00, 11.93batch/s, loss=0.117]\n"
     ]
    },
    {
     "name": "stdout",
     "output_type": "stream",
     "text": [
      "Epoch 36/40, Training Loss: 0.1163097929348314\n",
      "Epoch 36/40, Validation Loss: 0.09122548904035219\n"
     ]
    },
    {
     "name": "stderr",
     "output_type": "stream",
     "text": [
      "Epoch 37/40: 100%|██████████| 103/103 [00:07<00:00, 12.89batch/s, loss=0.117]\n"
     ]
    },
    {
     "name": "stdout",
     "output_type": "stream",
     "text": [
      "Epoch 37/40, Training Loss: 0.11543244621442178\n",
      "Epoch 37/40, Validation Loss: 0.08917951469998353\n"
     ]
    },
    {
     "name": "stderr",
     "output_type": "stream",
     "text": [
      "Epoch 38/40: 100%|██████████| 103/103 [00:09<00:00, 10.48batch/s, loss=0.116]\n"
     ]
    },
    {
     "name": "stdout",
     "output_type": "stream",
     "text": [
      "Epoch 38/40, Training Loss: 0.11522358024963866\n",
      "Epoch 38/40, Validation Loss: 0.08966283640369344\n"
     ]
    },
    {
     "name": "stderr",
     "output_type": "stream",
     "text": [
      "Epoch 39/40: 100%|██████████| 103/103 [00:08<00:00, 11.92batch/s, loss=0.116]\n"
     ]
    },
    {
     "name": "stdout",
     "output_type": "stream",
     "text": [
      "Epoch 39/40, Training Loss: 0.11455332185248487\n",
      "Epoch 39/40, Validation Loss: 0.08779711186992793\n"
     ]
    },
    {
     "name": "stderr",
     "output_type": "stream",
     "text": [
      "Epoch 40/40: 100%|██████████| 103/103 [00:08<00:00, 12.34batch/s, loss=0.115]\n"
     ]
    },
    {
     "name": "stdout",
     "output_type": "stream",
     "text": [
      "Epoch 40/40, Training Loss: 0.11421982420815326\n",
      "Epoch 40/40, Validation Loss: 0.08752824497034448\n"
     ]
    },
    {
     "name": "stderr",
     "output_type": "stream",
     "text": [
      "Epoch 1/80: 100%|██████████| 82/82 [00:09<00:00,  8.90batch/s, loss=0.104]\n"
     ]
    },
    {
     "name": "stdout",
     "output_type": "stream",
     "text": [
      "Epoch 1/80, Training Loss: 0.10296381376748871\n",
      "Epoch 1/80, Validation Loss: 0.08368300394200409\n"
     ]
    },
    {
     "name": "stderr",
     "output_type": "stream",
     "text": [
      "Epoch 2/80: 100%|██████████| 82/82 [00:08<00:00,  9.48batch/s, loss=0.103]\n"
     ]
    },
    {
     "name": "stdout",
     "output_type": "stream",
     "text": [
      "Epoch 2/80, Training Loss: 0.10189229426742943\n",
      "Epoch 2/80, Validation Loss: 0.08246339276950819\n"
     ]
    },
    {
     "name": "stderr",
     "output_type": "stream",
     "text": [
      "Epoch 3/80: 100%|██████████| 82/82 [00:08<00:00,  9.46batch/s, loss=0.102]\n"
     ]
    },
    {
     "name": "stdout",
     "output_type": "stream",
     "text": [
      "Epoch 3/80, Training Loss: 0.10140732811150072\n",
      "Epoch 3/80, Validation Loss: 0.0818249313050166\n"
     ]
    },
    {
     "name": "stderr",
     "output_type": "stream",
     "text": [
      "Epoch 4/80: 100%|██████████| 82/82 [00:08<00:00,  9.25batch/s, loss=0.102] \n"
     ]
    },
    {
     "name": "stdout",
     "output_type": "stream",
     "text": [
      "Epoch 4/80, Training Loss: 0.10109982997252248\n",
      "Epoch 4/80, Validation Loss: 0.081352632620482\n"
     ]
    },
    {
     "name": "stderr",
     "output_type": "stream",
     "text": [
      "Epoch 5/80: 100%|██████████| 82/82 [00:08<00:00,  9.71batch/s, loss=0.102] \n"
     ]
    },
    {
     "name": "stdout",
     "output_type": "stream",
     "text": [
      "Epoch 5/80, Training Loss: 0.10081972606777506\n",
      "Epoch 5/80, Validation Loss: 0.08102509541246672\n"
     ]
    },
    {
     "name": "stderr",
     "output_type": "stream",
     "text": [
      "Epoch 6/80: 100%|██████████| 82/82 [00:08<00:00,  9.26batch/s, loss=0.102] \n"
     ]
    },
    {
     "name": "stdout",
     "output_type": "stream",
     "text": [
      "Epoch 6/80, Training Loss: 0.1006125551048297\n",
      "Epoch 6/80, Validation Loss: 0.08073705454408174\n"
     ]
    },
    {
     "name": "stderr",
     "output_type": "stream",
     "text": [
      "Epoch 7/80: 100%|██████████| 82/82 [00:09<00:00,  8.35batch/s, loss=0.101] \n"
     ]
    },
    {
     "name": "stdout",
     "output_type": "stream",
     "text": [
      "Epoch 7/80, Training Loss: 0.10044319198858381\n",
      "Epoch 7/80, Validation Loss: 0.08051394340018542\n"
     ]
    },
    {
     "name": "stderr",
     "output_type": "stream",
     "text": [
      "Epoch 8/80: 100%|██████████| 82/82 [00:09<00:00,  8.65batch/s, loss=0.101] \n"
     ]
    },
    {
     "name": "stdout",
     "output_type": "stream",
     "text": [
      "Epoch 8/80, Training Loss: 0.10024630260925446\n",
      "Epoch 8/80, Validation Loss: 0.08036102790459836\n"
     ]
    },
    {
     "name": "stderr",
     "output_type": "stream",
     "text": [
      "Epoch 9/80: 100%|██████████| 82/82 [00:08<00:00,  9.18batch/s, loss=0.101] \n"
     ]
    },
    {
     "name": "stdout",
     "output_type": "stream",
     "text": [
      "Epoch 9/80, Training Loss: 0.10005340598454429\n",
      "Epoch 9/80, Validation Loss: 0.08015977065767381\n"
     ]
    },
    {
     "name": "stderr",
     "output_type": "stream",
     "text": [
      "Epoch 10/80: 100%|██████████| 82/82 [00:08<00:00,  9.48batch/s, loss=0.101] \n"
     ]
    },
    {
     "name": "stdout",
     "output_type": "stream",
     "text": [
      "Epoch 10/80, Training Loss: 0.09991048425765316\n",
      "Epoch 10/80, Validation Loss: 0.07997732561910709\n"
     ]
    },
    {
     "name": "stderr",
     "output_type": "stream",
     "text": [
      "Epoch 11/80: 100%|██████████| 82/82 [00:08<00:00,  9.42batch/s, loss=0.101] \n"
     ]
    },
    {
     "name": "stdout",
     "output_type": "stream",
     "text": [
      "Epoch 11/80, Training Loss: 0.09972127496010452\n",
      "Epoch 11/80, Validation Loss: 0.07966981983452742\n"
     ]
    },
    {
     "name": "stderr",
     "output_type": "stream",
     "text": [
      "Epoch 12/80: 100%|██████████| 82/82 [00:08<00:00,  9.20batch/s, loss=0.1]   \n"
     ]
    },
    {
     "name": "stdout",
     "output_type": "stream",
     "text": [
      "Epoch 12/80, Training Loss: 0.09954842048199516\n",
      "Epoch 12/80, Validation Loss: 0.07959296822184125\n"
     ]
    },
    {
     "name": "stderr",
     "output_type": "stream",
     "text": [
      "Epoch 13/80: 100%|██████████| 82/82 [00:08<00:00,  9.32batch/s, loss=0.1]   \n"
     ]
    },
    {
     "name": "stdout",
     "output_type": "stream",
     "text": [
      "Epoch 13/80, Training Loss: 0.09937672989477163\n",
      "Epoch 13/80, Validation Loss: 0.07947872559850032\n"
     ]
    },
    {
     "name": "stderr",
     "output_type": "stream",
     "text": [
      "Epoch 14/80: 100%|██████████| 82/82 [00:08<00:00,  9.18batch/s, loss=0.1]   \n"
     ]
    },
    {
     "name": "stdout",
     "output_type": "stream",
     "text": [
      "Epoch 14/80, Training Loss: 0.09920934102752567\n",
      "Epoch 14/80, Validation Loss: 0.07932531567363224\n"
     ]
    },
    {
     "name": "stderr",
     "output_type": "stream",
     "text": [
      "Epoch 15/80: 100%|██████████| 82/82 [00:10<00:00,  7.62batch/s, loss=0.0999]\n"
     ]
    },
    {
     "name": "stdout",
     "output_type": "stream",
     "text": [
      "Epoch 15/80, Training Loss: 0.09902217859291926\n",
      "Epoch 15/80, Validation Loss: 0.07912242525262796\n"
     ]
    },
    {
     "name": "stderr",
     "output_type": "stream",
     "text": [
      "Epoch 16/80: 100%|██████████| 82/82 [00:09<00:00,  8.81batch/s, loss=0.0998]\n"
     ]
    },
    {
     "name": "stdout",
     "output_type": "stream",
     "text": [
      "Epoch 16/80, Training Loss: 0.09883502598818909\n",
      "Epoch 16/80, Validation Loss: 0.07886326039214145\n"
     ]
    },
    {
     "name": "stderr",
     "output_type": "stream",
     "text": [
      "Epoch 17/80: 100%|██████████| 82/82 [00:08<00:00,  9.36batch/s, loss=0.0996]\n"
     ]
    },
    {
     "name": "stdout",
     "output_type": "stream",
     "text": [
      "Epoch 17/80, Training Loss: 0.09866349131165397\n",
      "Epoch 17/80, Validation Loss: 0.07874005662209649\n"
     ]
    },
    {
     "name": "stderr",
     "output_type": "stream",
     "text": [
      "Epoch 18/80: 100%|██████████| 82/82 [00:08<00:00,  9.37batch/s, loss=0.0994]\n"
     ]
    },
    {
     "name": "stdout",
     "output_type": "stream",
     "text": [
      "Epoch 18/80, Training Loss: 0.09849145055222569\n",
      "Epoch 18/80, Validation Loss: 0.07845960053460709\n"
     ]
    },
    {
     "name": "stderr",
     "output_type": "stream",
     "text": [
      "Epoch 19/80: 100%|██████████| 82/82 [00:09<00:00,  9.07batch/s, loss=0.0992]\n"
     ]
    },
    {
     "name": "stdout",
     "output_type": "stream",
     "text": [
      "Epoch 19/80, Training Loss: 0.09831388129314209\n",
      "Epoch 19/80, Validation Loss: 0.07828560551168524\n"
     ]
    },
    {
     "name": "stderr",
     "output_type": "stream",
     "text": [
      "Epoch 20/80: 100%|██████████| 82/82 [00:08<00:00,  9.49batch/s, loss=0.0991]\n"
     ]
    },
    {
     "name": "stdout",
     "output_type": "stream",
     "text": [
      "Epoch 20/80, Training Loss: 0.09814801050801496\n",
      "Epoch 20/80, Validation Loss: 0.0779987039676\n"
     ]
    },
    {
     "name": "stderr",
     "output_type": "stream",
     "text": [
      "Epoch 21/80: 100%|██████████| 82/82 [00:08<00:00,  9.20batch/s, loss=0.0989]\n"
     ]
    },
    {
     "name": "stdout",
     "output_type": "stream",
     "text": [
      "Epoch 21/80, Training Loss: 0.097991221489721\n",
      "Epoch 21/80, Validation Loss: 0.0779742356089603\n"
     ]
    },
    {
     "name": "stderr",
     "output_type": "stream",
     "text": [
      "Epoch 22/80: 100%|██████████| 82/82 [00:09<00:00,  9.08batch/s, loss=0.0988]\n"
     ]
    },
    {
     "name": "stdout",
     "output_type": "stream",
     "text": [
      "Epoch 22/80, Training Loss: 0.09782490668289975\n",
      "Epoch 22/80, Validation Loss: 0.07791150049477158\n"
     ]
    },
    {
     "name": "stderr",
     "output_type": "stream",
     "text": [
      "Epoch 23/80: 100%|██████████| 82/82 [00:09<00:00,  9.00batch/s, loss=0.0986]\n"
     ]
    },
    {
     "name": "stdout",
     "output_type": "stream",
     "text": [
      "Epoch 23/80, Training Loss: 0.0976511071069558\n",
      "Epoch 23/80, Validation Loss: 0.07761101520919457\n"
     ]
    },
    {
     "name": "stderr",
     "output_type": "stream",
     "text": [
      "Epoch 24/80: 100%|██████████| 82/82 [00:10<00:00,  8.18batch/s, loss=0.0985]\n"
     ]
    },
    {
     "name": "stdout",
     "output_type": "stream",
     "text": [
      "Epoch 24/80, Training Loss: 0.09751264119811395\n",
      "Epoch 24/80, Validation Loss: 0.07761653436025513\n"
     ]
    },
    {
     "name": "stderr",
     "output_type": "stream",
     "text": [
      "Epoch 25/80: 100%|██████████| 82/82 [00:09<00:00,  9.06batch/s, loss=0.0983]\n"
     ]
    },
    {
     "name": "stdout",
     "output_type": "stream",
     "text": [
      "Epoch 25/80, Training Loss: 0.09738601322972532\n",
      "Epoch 25/80, Validation Loss: 0.07763210395461638\n"
     ]
    },
    {
     "name": "stderr",
     "output_type": "stream",
     "text": [
      "Epoch 26/80: 100%|██████████| 82/82 [00:08<00:00,  9.54batch/s, loss=0.0982]\n"
     ]
    },
    {
     "name": "stdout",
     "output_type": "stream",
     "text": [
      "Epoch 26/80, Training Loss: 0.09722529878745462\n",
      "Epoch 26/80, Validation Loss: 0.07756625457605293\n"
     ]
    },
    {
     "name": "stderr",
     "output_type": "stream",
     "text": [
      "Epoch 27/80: 100%|██████████| 82/82 [00:08<00:00,  9.11batch/s, loss=0.098] \n"
     ]
    },
    {
     "name": "stdout",
     "output_type": "stream",
     "text": [
      "Epoch 27/80, Training Loss: 0.09706071323191376\n",
      "Epoch 27/80, Validation Loss: 0.07742867968218256\n"
     ]
    },
    {
     "name": "stderr",
     "output_type": "stream",
     "text": [
      "Epoch 28/80: 100%|██████████| 82/82 [00:08<00:00,  9.63batch/s, loss=0.0979]\n"
     ]
    },
    {
     "name": "stdout",
     "output_type": "stream",
     "text": [
      "Epoch 28/80, Training Loss: 0.09691692945921254\n",
      "Epoch 28/80, Validation Loss: 0.07724740279490913\n"
     ]
    },
    {
     "name": "stderr",
     "output_type": "stream",
     "text": [
      "Epoch 29/80: 100%|██████████| 82/82 [00:08<00:00,  9.30batch/s, loss=0.0977]\n"
     ]
    },
    {
     "name": "stdout",
     "output_type": "stream",
     "text": [
      "Epoch 29/80, Training Loss: 0.09676915138642692\n",
      "Epoch 29/80, Validation Loss: 0.0771067283072915\n"
     ]
    },
    {
     "name": "stderr",
     "output_type": "stream",
     "text": [
      "Epoch 30/80: 100%|██████████| 82/82 [00:09<00:00,  8.45batch/s, loss=0.0976]\n"
     ]
    },
    {
     "name": "stdout",
     "output_type": "stream",
     "text": [
      "Epoch 30/80, Training Loss: 0.09660375308767453\n",
      "Epoch 30/80, Validation Loss: 0.0769609250344674\n"
     ]
    },
    {
     "name": "stderr",
     "output_type": "stream",
     "text": [
      "Epoch 31/80: 100%|██████████| 82/82 [00:08<00:00,  9.22batch/s, loss=0.0974]\n"
     ]
    },
    {
     "name": "stdout",
     "output_type": "stream",
     "text": [
      "Epoch 31/80, Training Loss: 0.09645388812035058\n",
      "Epoch 31/80, Validation Loss: 0.07672249375258633\n"
     ]
    },
    {
     "name": "stderr",
     "output_type": "stream",
     "text": [
      "Epoch 32/80: 100%|██████████| 82/82 [00:10<00:00,  7.91batch/s, loss=0.0973]\n"
     ]
    },
    {
     "name": "stdout",
     "output_type": "stream",
     "text": [
      "Epoch 32/80, Training Loss: 0.09630440730365544\n",
      "Epoch 32/80, Validation Loss: 0.07657699773996073\n"
     ]
    },
    {
     "name": "stderr",
     "output_type": "stream",
     "text": [
      "Epoch 33/80: 100%|██████████| 82/82 [00:09<00:00,  9.04batch/s, loss=0.0971]\n"
     ]
    },
    {
     "name": "stdout",
     "output_type": "stream",
     "text": [
      "Epoch 33/80, Training Loss: 0.09613259329966356\n",
      "Epoch 33/80, Validation Loss: 0.07638041758676697\n"
     ]
    },
    {
     "name": "stderr",
     "output_type": "stream",
     "text": [
      "Epoch 34/80: 100%|██████████| 82/82 [00:09<00:00,  8.63batch/s, loss=0.0969]\n"
     ]
    },
    {
     "name": "stdout",
     "output_type": "stream",
     "text": [
      "Epoch 34/80, Training Loss: 0.09597529589274287\n",
      "Epoch 34/80, Validation Loss: 0.07625308131411619\n"
     ]
    },
    {
     "name": "stderr",
     "output_type": "stream",
     "text": [
      "Epoch 35/80: 100%|██████████| 82/82 [00:09<00:00,  8.55batch/s, loss=0.0968]\n"
     ]
    },
    {
     "name": "stdout",
     "output_type": "stream",
     "text": [
      "Epoch 35/80, Training Loss: 0.09586233530255797\n",
      "Epoch 35/80, Validation Loss: 0.07606374768084652\n"
     ]
    },
    {
     "name": "stderr",
     "output_type": "stream",
     "text": [
      "Epoch 36/80: 100%|██████████| 82/82 [00:08<00:00,  9.18batch/s, loss=0.0967]\n"
     ]
    },
    {
     "name": "stdout",
     "output_type": "stream",
     "text": [
      "Epoch 36/80, Training Loss: 0.09569976876450728\n",
      "Epoch 36/80, Validation Loss: 0.0758087399312428\n"
     ]
    },
    {
     "name": "stderr",
     "output_type": "stream",
     "text": [
      "Epoch 37/80: 100%|██████████| 82/82 [00:09<00:00,  8.66batch/s, loss=0.0965]\n"
     ]
    },
    {
     "name": "stdout",
     "output_type": "stream",
     "text": [
      "Epoch 37/80, Training Loss: 0.09556016559451833\n",
      "Epoch 37/80, Validation Loss: 0.07573516528387567\n"
     ]
    },
    {
     "name": "stderr",
     "output_type": "stream",
     "text": [
      "Epoch 38/80: 100%|██████████| 82/82 [00:09<00:00,  8.81batch/s, loss=0.0964]\n"
     ]
    },
    {
     "name": "stdout",
     "output_type": "stream",
     "text": [
      "Epoch 38/80, Training Loss: 0.09540868906487507\n",
      "Epoch 38/80, Validation Loss: 0.07552090845204346\n"
     ]
    },
    {
     "name": "stderr",
     "output_type": "stream",
     "text": [
      "Epoch 39/80: 100%|██████████| 82/82 [00:10<00:00,  8.02batch/s, loss=0.0962]\n"
     ]
    },
    {
     "name": "stdout",
     "output_type": "stream",
     "text": [
      "Epoch 39/80, Training Loss: 0.09523652676228507\n",
      "Epoch 39/80, Validation Loss: 0.07541524318603123\n"
     ]
    },
    {
     "name": "stderr",
     "output_type": "stream",
     "text": [
      "Epoch 40/80: 100%|██████████| 82/82 [00:09<00:00,  8.99batch/s, loss=0.096] \n"
     ]
    },
    {
     "name": "stdout",
     "output_type": "stream",
     "text": [
      "Epoch 40/80, Training Loss: 0.09506941315346189\n",
      "Epoch 40/80, Validation Loss: 0.07528397277734152\n"
     ]
    },
    {
     "name": "stderr",
     "output_type": "stream",
     "text": [
      "Epoch 41/80: 100%|██████████| 82/82 [00:09<00:00,  8.80batch/s, loss=0.0959]\n"
     ]
    },
    {
     "name": "stdout",
     "output_type": "stream",
     "text": [
      "Epoch 41/80, Training Loss: 0.09491739525066821\n",
      "Epoch 41/80, Validation Loss: 0.07520278714610572\n"
     ]
    },
    {
     "name": "stderr",
     "output_type": "stream",
     "text": [
      "Epoch 42/80: 100%|██████████| 82/82 [00:09<00:00,  9.00batch/s, loss=0.0957]\n"
     ]
    },
    {
     "name": "stdout",
     "output_type": "stream",
     "text": [
      "Epoch 42/80, Training Loss: 0.09474297851513\n",
      "Epoch 42/80, Validation Loss: 0.07506647099534076\n"
     ]
    },
    {
     "name": "stderr",
     "output_type": "stream",
     "text": [
      "Epoch 43/80: 100%|██████████| 82/82 [00:09<00:00,  9.07batch/s, loss=0.0956]\n"
     ]
    },
    {
     "name": "stdout",
     "output_type": "stream",
     "text": [
      "Epoch 43/80, Training Loss: 0.09460517985864537\n",
      "Epoch 43/80, Validation Loss: 0.07494575160564325\n"
     ]
    },
    {
     "name": "stderr",
     "output_type": "stream",
     "text": [
      "Epoch 44/80: 100%|██████████| 82/82 [00:09<00:00,  8.82batch/s, loss=0.0954]\n"
     ]
    },
    {
     "name": "stdout",
     "output_type": "stream",
     "text": [
      "Epoch 44/80, Training Loss: 0.09447499252005379\n",
      "Epoch 44/80, Validation Loss: 0.07482854915273221\n"
     ]
    },
    {
     "name": "stderr",
     "output_type": "stream",
     "text": [
      "Epoch 45/80: 100%|██████████| 82/82 [00:09<00:00,  8.61batch/s, loss=0.0953]\n"
     ]
    },
    {
     "name": "stdout",
     "output_type": "stream",
     "text": [
      "Epoch 45/80, Training Loss: 0.09432805487083745\n",
      "Epoch 45/80, Validation Loss: 0.07488442068941134\n"
     ]
    },
    {
     "name": "stderr",
     "output_type": "stream",
     "text": [
      "Epoch 46/80: 100%|██████████| 82/82 [00:08<00:00,  9.71batch/s, loss=0.0952]\n"
     ]
    },
    {
     "name": "stdout",
     "output_type": "stream",
     "text": [
      "Epoch 46/80, Training Loss: 0.0941878899745725\n",
      "Epoch 46/80, Validation Loss: 0.07468954831167068\n"
     ]
    },
    {
     "name": "stderr",
     "output_type": "stream",
     "text": [
      "Epoch 47/80: 100%|██████████| 82/82 [00:11<00:00,  7.36batch/s, loss=0.095] \n"
     ]
    },
    {
     "name": "stdout",
     "output_type": "stream",
     "text": [
      "Epoch 47/80, Training Loss: 0.09405176899258613\n",
      "Epoch 47/80, Validation Loss: 0.07453697583480788\n"
     ]
    },
    {
     "name": "stderr",
     "output_type": "stream",
     "text": [
      "Epoch 48/80: 100%|██████████| 82/82 [00:08<00:00,  9.48batch/s, loss=0.0949]\n"
     ]
    },
    {
     "name": "stdout",
     "output_type": "stream",
     "text": [
      "Epoch 48/80, Training Loss: 0.09390687747657193\n",
      "Epoch 48/80, Validation Loss: 0.07441618844472832\n"
     ]
    },
    {
     "name": "stderr",
     "output_type": "stream",
     "text": [
      "Epoch 49/80: 100%|██████████| 82/82 [00:08<00:00,  9.27batch/s, loss=0.0947]\n"
     ]
    },
    {
     "name": "stdout",
     "output_type": "stream",
     "text": [
      "Epoch 49/80, Training Loss: 0.09373238708194201\n",
      "Epoch 49/80, Validation Loss: 0.07427124869602225\n"
     ]
    },
    {
     "name": "stderr",
     "output_type": "stream",
     "text": [
      "Epoch 50/80: 100%|██████████| 82/82 [00:09<00:00,  8.63batch/s, loss=0.0945]\n"
     ]
    },
    {
     "name": "stdout",
     "output_type": "stream",
     "text": [
      "Epoch 50/80, Training Loss: 0.09357886477822566\n",
      "Epoch 50/80, Validation Loss: 0.07410615014367909\n"
     ]
    },
    {
     "name": "stderr",
     "output_type": "stream",
     "text": [
      "Epoch 51/80: 100%|██████████| 82/82 [00:09<00:00,  9.10batch/s, loss=0.0944]\n"
     ]
    },
    {
     "name": "stdout",
     "output_type": "stream",
     "text": [
      "Epoch 51/80, Training Loss: 0.0934249913529404\n",
      "Epoch 51/80, Validation Loss: 0.07404831399351519\n"
     ]
    },
    {
     "name": "stderr",
     "output_type": "stream",
     "text": [
      "Epoch 52/80: 100%|██████████| 82/82 [00:08<00:00,  9.41batch/s, loss=0.0942]\n"
     ]
    },
    {
     "name": "stdout",
     "output_type": "stream",
     "text": [
      "Epoch 52/80, Training Loss: 0.09327466944294115\n",
      "Epoch 52/80, Validation Loss: 0.0737375509581915\n"
     ]
    },
    {
     "name": "stderr",
     "output_type": "stream",
     "text": [
      "Epoch 53/80: 100%|██████████| 82/82 [00:08<00:00,  9.12batch/s, loss=0.0941]\n"
     ]
    },
    {
     "name": "stdout",
     "output_type": "stream",
     "text": [
      "Epoch 53/80, Training Loss: 0.0931342707572821\n",
      "Epoch 53/80, Validation Loss: 0.07361128968721597\n"
     ]
    },
    {
     "name": "stderr",
     "output_type": "stream",
     "text": [
      "Epoch 54/80: 100%|██████████| 82/82 [00:10<00:00,  7.89batch/s, loss=0.0939]\n"
     ]
    },
    {
     "name": "stdout",
     "output_type": "stream",
     "text": [
      "Epoch 54/80, Training Loss: 0.09298555437411175\n",
      "Epoch 54/80, Validation Loss: 0.07342164820029569\n"
     ]
    },
    {
     "name": "stderr",
     "output_type": "stream",
     "text": [
      "Epoch 55/80: 100%|██████████| 82/82 [00:09<00:00,  8.95batch/s, loss=0.0938]\n"
     ]
    },
    {
     "name": "stdout",
     "output_type": "stream",
     "text": [
      "Epoch 55/80, Training Loss: 0.0928386751596212\n",
      "Epoch 55/80, Validation Loss: 0.07335764041858202\n"
     ]
    },
    {
     "name": "stderr",
     "output_type": "stream",
     "text": [
      "Epoch 56/80: 100%|██████████| 82/82 [00:08<00:00,  9.51batch/s, loss=0.0937]\n"
     ]
    },
    {
     "name": "stdout",
     "output_type": "stream",
     "text": [
      "Epoch 56/80, Training Loss: 0.09271203070423925\n",
      "Epoch 56/80, Validation Loss: 0.07318516263909221\n"
     ]
    },
    {
     "name": "stderr",
     "output_type": "stream",
     "text": [
      "Epoch 57/80: 100%|██████████| 82/82 [00:09<00:00,  9.10batch/s, loss=0.0935]\n"
     ]
    },
    {
     "name": "stdout",
     "output_type": "stream",
     "text": [
      "Epoch 57/80, Training Loss: 0.09256404779447049\n",
      "Epoch 57/80, Validation Loss: 0.07303382893052285\n"
     ]
    },
    {
     "name": "stderr",
     "output_type": "stream",
     "text": [
      "Epoch 58/80: 100%|██████████| 82/82 [00:09<00:00,  8.24batch/s, loss=0.0934]\n"
     ]
    },
    {
     "name": "stdout",
     "output_type": "stream",
     "text": [
      "Epoch 58/80, Training Loss: 0.09242197895670735\n",
      "Epoch 58/80, Validation Loss: 0.0727668515586813\n"
     ]
    },
    {
     "name": "stderr",
     "output_type": "stream",
     "text": [
      "Epoch 59/80: 100%|██████████| 82/82 [00:09<00:00,  8.98batch/s, loss=0.0933]\n"
     ]
    },
    {
     "name": "stdout",
     "output_type": "stream",
     "text": [
      "Epoch 59/80, Training Loss: 0.09230308811589737\n",
      "Epoch 59/80, Validation Loss: 0.07258937837862732\n"
     ]
    },
    {
     "name": "stderr",
     "output_type": "stream",
     "text": [
      "Epoch 60/80: 100%|██████████| 82/82 [00:09<00:00,  9.00batch/s, loss=0.0931]\n"
     ]
    },
    {
     "name": "stdout",
     "output_type": "stream",
     "text": [
      "Epoch 60/80, Training Loss: 0.09215702334587271\n",
      "Epoch 60/80, Validation Loss: 0.07241206427076002\n"
     ]
    },
    {
     "name": "stderr",
     "output_type": "stream",
     "text": [
      "Epoch 61/80: 100%|██████████| 82/82 [00:09<00:00,  9.03batch/s, loss=0.093] \n"
     ]
    },
    {
     "name": "stdout",
     "output_type": "stream",
     "text": [
      "Epoch 61/80, Training Loss: 0.09201870548157128\n",
      "Epoch 61/80, Validation Loss: 0.07220982523886378\n"
     ]
    },
    {
     "name": "stderr",
     "output_type": "stream",
     "text": [
      "Epoch 62/80: 100%|██████████| 82/82 [00:08<00:00,  9.90batch/s, loss=0.0929]\n"
     ]
    },
    {
     "name": "stdout",
     "output_type": "stream",
     "text": [
      "Epoch 62/80, Training Loss: 0.0919100261490516\n",
      "Epoch 62/80, Validation Loss: 0.0721049461471175\n"
     ]
    },
    {
     "name": "stderr",
     "output_type": "stream",
     "text": [
      "Epoch 63/80: 100%|██████████| 82/82 [00:08<00:00,  9.43batch/s, loss=0.0927]\n"
     ]
    },
    {
     "name": "stdout",
     "output_type": "stream",
     "text": [
      "Epoch 63/80, Training Loss: 0.09177978249879105\n",
      "Epoch 63/80, Validation Loss: 0.07184829677737344\n"
     ]
    },
    {
     "name": "stderr",
     "output_type": "stream",
     "text": [
      "Epoch 64/80: 100%|██████████| 82/82 [00:09<00:00,  8.34batch/s, loss=0.0926]\n"
     ]
    },
    {
     "name": "stdout",
     "output_type": "stream",
     "text": [
      "Epoch 64/80, Training Loss: 0.09163601488044583\n",
      "Epoch 64/80, Validation Loss: 0.07167906813978171\n"
     ]
    },
    {
     "name": "stderr",
     "output_type": "stream",
     "text": [
      "Epoch 65/80: 100%|██████████| 82/82 [00:08<00:00,  9.20batch/s, loss=0.0925]\n"
     ]
    },
    {
     "name": "stdout",
     "output_type": "stream",
     "text": [
      "Epoch 65/80, Training Loss: 0.09150865290953757\n",
      "Epoch 65/80, Validation Loss: 0.07154201506802522\n"
     ]
    },
    {
     "name": "stderr",
     "output_type": "stream",
     "text": [
      "Epoch 66/80: 100%|██████████| 82/82 [00:10<00:00,  7.86batch/s, loss=0.0923]\n"
     ]
    },
    {
     "name": "stdout",
     "output_type": "stream",
     "text": [
      "Epoch 66/80, Training Loss: 0.09137825083546913\n",
      "Epoch 66/80, Validation Loss: 0.07131518776479105\n"
     ]
    },
    {
     "name": "stderr",
     "output_type": "stream",
     "text": [
      "Epoch 67/80: 100%|██████████| 82/82 [00:08<00:00,  9.46batch/s, loss=0.0922]\n"
     ]
    },
    {
     "name": "stdout",
     "output_type": "stream",
     "text": [
      "Epoch 67/80, Training Loss: 0.0912760739312578\n",
      "Epoch 67/80, Validation Loss: 0.07122651033402354\n"
     ]
    },
    {
     "name": "stderr",
     "output_type": "stream",
     "text": [
      "Epoch 68/80: 100%|██████████| 82/82 [00:08<00:00,  9.28batch/s, loss=0.0921]\n"
     ]
    },
    {
     "name": "stdout",
     "output_type": "stream",
     "text": [
      "Epoch 68/80, Training Loss: 0.09114952286230305\n",
      "Epoch 68/80, Validation Loss: 0.07109589132489155\n"
     ]
    },
    {
     "name": "stderr",
     "output_type": "stream",
     "text": [
      "Epoch 69/80: 100%|██████████| 82/82 [00:09<00:00,  8.75batch/s, loss=0.0919]\n"
     ]
    },
    {
     "name": "stdout",
     "output_type": "stream",
     "text": [
      "Epoch 69/80, Training Loss: 0.09099260256290556\n",
      "Epoch 69/80, Validation Loss: 0.07094064328544189\n"
     ]
    },
    {
     "name": "stderr",
     "output_type": "stream",
     "text": [
      "Epoch 70/80: 100%|██████████| 82/82 [00:09<00:00,  9.06batch/s, loss=0.0918]\n"
     ]
    },
    {
     "name": "stdout",
     "output_type": "stream",
     "text": [
      "Epoch 70/80, Training Loss: 0.09086594751918971\n",
      "Epoch 70/80, Validation Loss: 0.07062870066667039\n"
     ]
    },
    {
     "name": "stderr",
     "output_type": "stream",
     "text": [
      "Epoch 71/80: 100%|██████████| 82/82 [00:11<00:00,  7.04batch/s, loss=0.0917]\n"
     ]
    },
    {
     "name": "stdout",
     "output_type": "stream",
     "text": [
      "Epoch 71/80, Training Loss: 0.09075255229051353\n",
      "Epoch 71/80, Validation Loss: 0.07112466397348667\n"
     ]
    },
    {
     "name": "stderr",
     "output_type": "stream",
     "text": [
      "Epoch 72/80: 100%|██████████| 82/82 [00:08<00:00,  9.38batch/s, loss=0.0915]\n"
     ]
    },
    {
     "name": "stdout",
     "output_type": "stream",
     "text": [
      "Epoch 72/80, Training Loss: 0.09060841035819586\n",
      "Epoch 72/80, Validation Loss: 0.07030870955533812\n"
     ]
    },
    {
     "name": "stderr",
     "output_type": "stream",
     "text": [
      "Epoch 73/80: 100%|██████████| 82/82 [00:09<00:00,  8.35batch/s, loss=0.0915]\n"
     ]
    },
    {
     "name": "stdout",
     "output_type": "stream",
     "text": [
      "Epoch 73/80, Training Loss: 0.09050967195391255\n",
      "Epoch 73/80, Validation Loss: 0.07071182460163106\n"
     ]
    },
    {
     "name": "stderr",
     "output_type": "stream",
     "text": [
      "Epoch 74/80: 100%|██████████| 82/82 [00:09<00:00,  8.68batch/s, loss=0.0913]\n"
     ]
    },
    {
     "name": "stdout",
     "output_type": "stream",
     "text": [
      "Epoch 74/80, Training Loss: 0.09038746328226262\n",
      "Epoch 74/80, Validation Loss: 0.07040053139369994\n"
     ]
    },
    {
     "name": "stderr",
     "output_type": "stream",
     "text": [
      "Epoch 75/80: 100%|██████████| 82/82 [00:09<00:00,  9.08batch/s, loss=0.0912]\n"
     ]
    },
    {
     "name": "stdout",
     "output_type": "stream",
     "text": [
      "Epoch 75/80, Training Loss: 0.09026597948007797\n",
      "Epoch 75/80, Validation Loss: 0.07020061698524029\n"
     ]
    },
    {
     "name": "stderr",
     "output_type": "stream",
     "text": [
      "Epoch 76/80: 100%|██████████| 82/82 [00:08<00:00,  9.13batch/s, loss=0.0911]\n"
     ]
    },
    {
     "name": "stdout",
     "output_type": "stream",
     "text": [
      "Epoch 76/80, Training Loss: 0.0901321276678658\n",
      "Epoch 76/80, Validation Loss: 0.07000434275882228\n"
     ]
    },
    {
     "name": "stderr",
     "output_type": "stream",
     "text": [
      "Epoch 77/80: 100%|██████████| 82/82 [00:08<00:00,  9.35batch/s, loss=0.0909]\n"
     ]
    },
    {
     "name": "stdout",
     "output_type": "stream",
     "text": [
      "Epoch 77/80, Training Loss: 0.08999719202895247\n",
      "Epoch 77/80, Validation Loss: 0.0698353183373883\n"
     ]
    },
    {
     "name": "stderr",
     "output_type": "stream",
     "text": [
      "Epoch 78/80: 100%|██████████| 82/82 [00:10<00:00,  8.02batch/s, loss=0.0908]\n"
     ]
    },
    {
     "name": "stdout",
     "output_type": "stream",
     "text": [
      "Epoch 78/80, Training Loss: 0.08983262471874015\n",
      "Epoch 78/80, Validation Loss: 0.06970682651606089\n"
     ]
    },
    {
     "name": "stderr",
     "output_type": "stream",
     "text": [
      "Epoch 79/80: 100%|██████████| 82/82 [00:08<00:00,  9.70batch/s, loss=0.0906]\n"
     ]
    },
    {
     "name": "stdout",
     "output_type": "stream",
     "text": [
      "Epoch 79/80, Training Loss: 0.08968508338606034\n",
      "Epoch 79/80, Validation Loss: 0.06957784829463803\n"
     ]
    },
    {
     "name": "stderr",
     "output_type": "stream",
     "text": [
      "Epoch 80/80: 100%|██████████| 82/82 [00:08<00:00,  9.21batch/s, loss=0.0905]\n"
     ]
    },
    {
     "name": "stdout",
     "output_type": "stream",
     "text": [
      "Epoch 80/80, Training Loss: 0.08958213229757267\n",
      "Epoch 80/80, Validation Loss: 0.06937999902092883\n"
     ]
    },
    {
     "data": {
      "image/png": "[encoded data removed]",
      "text/plain": [
       "<Figure size 432x288 with 1 Axes>"
      ]
     },
     "metadata": {
      "needs_background": "light"
     },
     "output_type": "display_data"
    }
   ],
   "source": [
    "### START CODE HERE ###\n",
    "# Construct the model & Set the parameters.\n",
    "input_size = 6  # Number of input features (1 for single sine wave value)\n",
    "rnn_units = 128  # Number of units in the RNN layer\n",
    "dense_units = 128  # Number of units in the Dense layer\n",
    "output_size = 3  # Number of output classes\n",
    "\n",
    "model = Model()\n",
    "model.add(RNN(input_size, rnn_units))\n",
    "model.add(Dense(rnn_units, dense_units))\n",
    "model.add(Activation(\"relu\", None))\n",
    "model.add(Dense(dense_units, 64))\n",
    "model.add(Activation(\"relu\", None))\n",
    "model.add(Dense(64, 8))\n",
    "model.add(Activation(\"relu\", None))\n",
    "model.add(Dense(8, output_size))\n",
    "model.add(Activation(\"softmax\", None))\n",
    "\n",
    "# Train the model\n",
    "model.train(X_train, y_train, X_val, y_val, epochs=20, learning_rate=0.01, batch_size=16, loss_function='cce')\n",
    "model.train(X_train, y_train, X_val, y_val, epochs=40, learning_rate=0.008, batch_size=32, loss_function='cce')\n",
    "model.train(X_train, y_train, X_val, y_val, epochs=40, learning_rate=0.004, batch_size=48, loss_function='cce')\n",
    "model.train(X_train, y_train, X_val, y_val, epochs=40, learning_rate=0.002, batch_size=64, loss_function='cce')\n",
    "model.train(X_train, y_train, X_val, y_val, epochs=80, learning_rate=0.0008, batch_size=80, loss_function='cce')\n",
    "### END CODE HERE ###\n",
    "# Plot the training and validation losses\n",
    "model.plot_losses()"
   ]
  },
  {
   "cell_type": "code",
   "execution_count": 24,
   "metadata": {},
   "outputs": [
    {
     "name": "stderr",
     "output_type": "stream",
     "text": [
      "Epoch 1/80: 100%|██████████| 61/61 [00:09<00:00,  6.61batch/s, loss=0.088] \n"
     ]
    },
    {
     "name": "stdout",
     "output_type": "stream",
     "text": [
      "Epoch 1/80, Training Loss: 0.08735020099527477\n",
      "Epoch 1/80, Validation Loss: 0.06669483856613112\n"
     ]
    },
    {
     "name": "stderr",
     "output_type": "stream",
     "text": [
      "Epoch 2/80: 100%|██████████| 61/61 [00:07<00:00,  8.08batch/s, loss=0.0877]\n"
     ]
    },
    {
     "name": "stdout",
     "output_type": "stream",
     "text": [
      "Epoch 2/80, Training Loss: 0.0870358886551839\n",
      "Epoch 2/80, Validation Loss: 0.06657251039892297\n"
     ]
    },
    {
     "name": "stderr",
     "output_type": "stream",
     "text": [
      "Epoch 3/80: 100%|██████████| 61/61 [00:06<00:00,  8.83batch/s, loss=0.0875]\n"
     ]
    },
    {
     "name": "stdout",
     "output_type": "stream",
     "text": [
      "Epoch 3/80, Training Loss: 0.08691037080831426\n",
      "Epoch 3/80, Validation Loss: 0.06643111943755757\n"
     ]
    },
    {
     "name": "stderr",
     "output_type": "stream",
     "text": [
      "Epoch 4/80: 100%|██████████| 61/61 [00:07<00:00,  8.70batch/s, loss=0.0874]\n"
     ]
    },
    {
     "name": "stdout",
     "output_type": "stream",
     "text": [
      "Epoch 4/80, Training Loss: 0.08679979112512037\n",
      "Epoch 4/80, Validation Loss: 0.0662356633745002\n"
     ]
    },
    {
     "name": "stderr",
     "output_type": "stream",
     "text": [
      "Epoch 5/80: 100%|██████████| 61/61 [00:07<00:00,  8.53batch/s, loss=0.0873]\n"
     ]
    },
    {
     "name": "stdout",
     "output_type": "stream",
     "text": [
      "Epoch 5/80, Training Loss: 0.0867039087853241\n",
      "Epoch 5/80, Validation Loss: 0.06610556137890523\n"
     ]
    },
    {
     "name": "stderr",
     "output_type": "stream",
     "text": [
      "Epoch 6/80: 100%|██████████| 61/61 [00:07<00:00,  7.71batch/s, loss=0.0872]\n"
     ]
    },
    {
     "name": "stdout",
     "output_type": "stream",
     "text": [
      "Epoch 6/80, Training Loss: 0.08660376317781224\n",
      "Epoch 6/80, Validation Loss: 0.06608396920203555\n"
     ]
    },
    {
     "name": "stderr",
     "output_type": "stream",
     "text": [
      "Epoch 7/80: 100%|██████████| 61/61 [00:06<00:00,  8.93batch/s, loss=0.0871]\n"
     ]
    },
    {
     "name": "stdout",
     "output_type": "stream",
     "text": [
      "Epoch 7/80, Training Loss: 0.0864792029366204\n",
      "Epoch 7/80, Validation Loss: 0.06594055048686727\n"
     ]
    },
    {
     "name": "stderr",
     "output_type": "stream",
     "text": [
      "Epoch 8/80: 100%|██████████| 61/61 [00:06<00:00,  9.36batch/s, loss=0.087] \n"
     ]
    },
    {
     "name": "stdout",
     "output_type": "stream",
     "text": [
      "Epoch 8/80, Training Loss: 0.0863825134231246\n",
      "Epoch 8/80, Validation Loss: 0.06583760325481346\n"
     ]
    },
    {
     "name": "stderr",
     "output_type": "stream",
     "text": [
      "Epoch 9/80: 100%|██████████| 61/61 [00:06<00:00,  8.82batch/s, loss=0.0869]\n"
     ]
    },
    {
     "name": "stdout",
     "output_type": "stream",
     "text": [
      "Epoch 9/80, Training Loss: 0.08626382926131942\n",
      "Epoch 9/80, Validation Loss: 0.0657081007960873\n"
     ]
    },
    {
     "name": "stderr",
     "output_type": "stream",
     "text": [
      "Epoch 10/80: 100%|██████████| 61/61 [00:07<00:00,  8.31batch/s, loss=0.0868]\n"
     ]
    },
    {
     "name": "stdout",
     "output_type": "stream",
     "text": [
      "Epoch 10/80, Training Loss: 0.08617463437917267\n",
      "Epoch 10/80, Validation Loss: 0.06562428619196972\n"
     ]
    },
    {
     "name": "stderr",
     "output_type": "stream",
     "text": [
      "Epoch 11/80: 100%|██████████| 61/61 [00:06<00:00,  8.97batch/s, loss=0.0867]\n"
     ]
    },
    {
     "name": "stdout",
     "output_type": "stream",
     "text": [
      "Epoch 11/80, Training Loss: 0.08606744995167678\n",
      "Epoch 11/80, Validation Loss: 0.0653874285168473\n"
     ]
    },
    {
     "name": "stderr",
     "output_type": "stream",
     "text": [
      "Epoch 12/80: 100%|██████████| 61/61 [00:06<00:00,  8.79batch/s, loss=0.0866]\n"
     ]
    },
    {
     "name": "stdout",
     "output_type": "stream",
     "text": [
      "Epoch 12/80, Training Loss: 0.08597158446219774\n",
      "Epoch 12/80, Validation Loss: 0.06529124510375926\n"
     ]
    },
    {
     "name": "stderr",
     "output_type": "stream",
     "text": [
      "Epoch 13/80: 100%|██████████| 61/61 [00:07<00:00,  7.96batch/s, loss=0.0865]\n"
     ]
    },
    {
     "name": "stdout",
     "output_type": "stream",
     "text": [
      "Epoch 13/80, Training Loss: 0.08586357603625998\n",
      "Epoch 13/80, Validation Loss: 0.06516463458165377\n"
     ]
    },
    {
     "name": "stderr",
     "output_type": "stream",
     "text": [
      "Epoch 14/80: 100%|██████████| 61/61 [00:11<00:00,  5.45batch/s, loss=0.0864]\n"
     ]
    },
    {
     "name": "stdout",
     "output_type": "stream",
     "text": [
      "Epoch 14/80, Training Loss: 0.08573736638566669\n",
      "Epoch 14/80, Validation Loss: 0.06506350913891629\n"
     ]
    },
    {
     "name": "stderr",
     "output_type": "stream",
     "text": [
      "Epoch 15/80: 100%|██████████| 61/61 [00:07<00:00,  7.84batch/s, loss=0.0863]\n"
     ]
    },
    {
     "name": "stdout",
     "output_type": "stream",
     "text": [
      "Epoch 15/80, Training Loss: 0.08564019602777248\n",
      "Epoch 15/80, Validation Loss: 0.06495799168609863\n"
     ]
    },
    {
     "name": "stderr",
     "output_type": "stream",
     "text": [
      "Epoch 16/80: 100%|██████████| 61/61 [00:08<00:00,  7.03batch/s, loss=0.0862]\n"
     ]
    },
    {
     "name": "stdout",
     "output_type": "stream",
     "text": [
      "Epoch 16/80, Training Loss: 0.08552954822337028\n",
      "Epoch 16/80, Validation Loss: 0.06490721776537925\n"
     ]
    },
    {
     "name": "stderr",
     "output_type": "stream",
     "text": [
      "Epoch 17/80: 100%|██████████| 61/61 [00:07<00:00,  8.32batch/s, loss=0.0861]\n"
     ]
    },
    {
     "name": "stdout",
     "output_type": "stream",
     "text": [
      "Epoch 17/80, Training Loss: 0.08541562259646915\n",
      "Epoch 17/80, Validation Loss: 0.06479360708253822\n"
     ]
    },
    {
     "name": "stderr",
     "output_type": "stream",
     "text": [
      "Epoch 18/80: 100%|██████████| 61/61 [00:07<00:00,  8.66batch/s, loss=0.086] \n"
     ]
    },
    {
     "name": "stdout",
     "output_type": "stream",
     "text": [
      "Epoch 18/80, Training Loss: 0.08533751229659109\n",
      "Epoch 18/80, Validation Loss: 0.06473703643636285\n"
     ]
    },
    {
     "name": "stderr",
     "output_type": "stream",
     "text": [
      "Epoch 19/80: 100%|██████████| 61/61 [00:07<00:00,  8.03batch/s, loss=0.0859]\n"
     ]
    },
    {
     "name": "stdout",
     "output_type": "stream",
     "text": [
      "Epoch 19/80, Training Loss: 0.08525005631532782\n",
      "Epoch 19/80, Validation Loss: 0.06462008852159724\n"
     ]
    },
    {
     "name": "stderr",
     "output_type": "stream",
     "text": [
      "Epoch 20/80: 100%|██████████| 61/61 [00:07<00:00,  7.92batch/s, loss=0.0858]\n"
     ]
    },
    {
     "name": "stdout",
     "output_type": "stream",
     "text": [
      "Epoch 20/80, Training Loss: 0.08513559667001917\n",
      "Epoch 20/80, Validation Loss: 0.0644240435453313\n"
     ]
    },
    {
     "name": "stderr",
     "output_type": "stream",
     "text": [
      "Epoch 21/80: 100%|██████████| 61/61 [00:08<00:00,  7.16batch/s, loss=0.0857]\n"
     ]
    },
    {
     "name": "stdout",
     "output_type": "stream",
     "text": [
      "Epoch 21/80, Training Loss: 0.08505881510872848\n",
      "Epoch 21/80, Validation Loss: 0.06443639361814334\n"
     ]
    },
    {
     "name": "stderr",
     "output_type": "stream",
     "text": [
      "Epoch 22/80: 100%|██████████| 61/61 [00:06<00:00,  8.92batch/s, loss=0.0856]\n"
     ]
    },
    {
     "name": "stdout",
     "output_type": "stream",
     "text": [
      "Epoch 22/80, Training Loss: 0.0849233514796751\n",
      "Epoch 22/80, Validation Loss: 0.06422002665713164\n"
     ]
    },
    {
     "name": "stderr",
     "output_type": "stream",
     "text": [
      "Epoch 23/80: 100%|██████████| 61/61 [00:08<00:00,  6.95batch/s, loss=0.0855]\n"
     ]
    },
    {
     "name": "stdout",
     "output_type": "stream",
     "text": [
      "Epoch 23/80, Training Loss: 0.08482316060268494\n",
      "Epoch 23/80, Validation Loss: 0.06410803138109787\n"
     ]
    },
    {
     "name": "stderr",
     "output_type": "stream",
     "text": [
      "Epoch 24/80: 100%|██████████| 61/61 [00:09<00:00,  6.58batch/s, loss=0.0854]\n"
     ]
    },
    {
     "name": "stdout",
     "output_type": "stream",
     "text": [
      "Epoch 24/80, Training Loss: 0.08471531076308626\n",
      "Epoch 24/80, Validation Loss: 0.06397607072480684\n"
     ]
    },
    {
     "name": "stderr",
     "output_type": "stream",
     "text": [
      "Epoch 25/80: 100%|██████████| 61/61 [00:09<00:00,  6.49batch/s, loss=0.0853]\n"
     ]
    },
    {
     "name": "stdout",
     "output_type": "stream",
     "text": [
      "Epoch 25/80, Training Loss: 0.0846144307317623\n",
      "Epoch 25/80, Validation Loss: 0.06388769878757239\n"
     ]
    },
    {
     "name": "stderr",
     "output_type": "stream",
     "text": [
      "Epoch 26/80: 100%|██████████| 61/61 [00:07<00:00,  8.00batch/s, loss=0.0852]\n"
     ]
    },
    {
     "name": "stdout",
     "output_type": "stream",
     "text": [
      "Epoch 26/80, Training Loss: 0.0845178669752383\n",
      "Epoch 26/80, Validation Loss: 0.0637003426083884\n"
     ]
    },
    {
     "name": "stderr",
     "output_type": "stream",
     "text": [
      "Epoch 27/80: 100%|██████████| 61/61 [00:08<00:00,  7.02batch/s, loss=0.0851]\n"
     ]
    },
    {
     "name": "stdout",
     "output_type": "stream",
     "text": [
      "Epoch 27/80, Training Loss: 0.08441790042898924\n",
      "Epoch 27/80, Validation Loss: 0.06369272554254653\n"
     ]
    },
    {
     "name": "stderr",
     "output_type": "stream",
     "text": [
      "Epoch 28/80: 100%|██████████| 61/61 [00:09<00:00,  6.51batch/s, loss=0.085] \n"
     ]
    },
    {
     "name": "stdout",
     "output_type": "stream",
     "text": [
      "Epoch 28/80, Training Loss: 0.08432797550920344\n",
      "Epoch 28/80, Validation Loss: 0.063601964257558\n"
     ]
    },
    {
     "name": "stderr",
     "output_type": "stream",
     "text": [
      "Epoch 29/80: 100%|██████████| 61/61 [00:06<00:00,  9.00batch/s, loss=0.0849]\n"
     ]
    },
    {
     "name": "stdout",
     "output_type": "stream",
     "text": [
      "Epoch 29/80, Training Loss: 0.08423638431564681\n",
      "Epoch 29/80, Validation Loss: 0.06344442855107103\n"
     ]
    },
    {
     "name": "stderr",
     "output_type": "stream",
     "text": [
      "Epoch 30/80: 100%|██████████| 61/61 [00:08<00:00,  7.20batch/s, loss=0.0848]\n"
     ]
    },
    {
     "name": "stdout",
     "output_type": "stream",
     "text": [
      "Epoch 30/80, Training Loss: 0.0841393399575089\n",
      "Epoch 30/80, Validation Loss: 0.06332441219786067\n"
     ]
    },
    {
     "name": "stderr",
     "output_type": "stream",
     "text": [
      "Epoch 31/80: 100%|██████████| 61/61 [00:07<00:00,  8.36batch/s, loss=0.0847]\n"
     ]
    },
    {
     "name": "stdout",
     "output_type": "stream",
     "text": [
      "Epoch 31/80, Training Loss: 0.08404165300131505\n",
      "Epoch 31/80, Validation Loss: 0.06318326415318315\n"
     ]
    },
    {
     "name": "stderr",
     "output_type": "stream",
     "text": [
      "Epoch 32/80: 100%|██████████| 61/61 [00:08<00:00,  6.99batch/s, loss=0.0846]\n"
     ]
    },
    {
     "name": "stdout",
     "output_type": "stream",
     "text": [
      "Epoch 32/80, Training Loss: 0.0839528551210944\n",
      "Epoch 32/80, Validation Loss: 0.06301669708928213\n"
     ]
    },
    {
     "name": "stderr",
     "output_type": "stream",
     "text": [
      "Epoch 33/80: 100%|██████████| 61/61 [00:07<00:00,  7.77batch/s, loss=0.0845]\n"
     ]
    },
    {
     "name": "stdout",
     "output_type": "stream",
     "text": [
      "Epoch 33/80, Training Loss: 0.08385840767414339\n",
      "Epoch 33/80, Validation Loss: 0.06291182336331608\n"
     ]
    },
    {
     "name": "stderr",
     "output_type": "stream",
     "text": [
      "Epoch 34/80: 100%|██████████| 61/61 [00:07<00:00,  8.56batch/s, loss=0.0844]\n"
     ]
    },
    {
     "name": "stdout",
     "output_type": "stream",
     "text": [
      "Epoch 34/80, Training Loss: 0.08375454467231604\n",
      "Epoch 34/80, Validation Loss: 0.06280336623991006\n"
     ]
    },
    {
     "name": "stderr",
     "output_type": "stream",
     "text": [
      "Epoch 35/80: 100%|██████████| 61/61 [00:08<00:00,  7.34batch/s, loss=0.0843]\n"
     ]
    },
    {
     "name": "stdout",
     "output_type": "stream",
     "text": [
      "Epoch 35/80, Training Loss: 0.08367162341669815\n",
      "Epoch 35/80, Validation Loss: 0.0626610693415183\n"
     ]
    },
    {
     "name": "stderr",
     "output_type": "stream",
     "text": [
      "Epoch 36/80: 100%|██████████| 61/61 [00:07<00:00,  7.83batch/s, loss=0.0842]\n"
     ]
    },
    {
     "name": "stdout",
     "output_type": "stream",
     "text": [
      "Epoch 36/80, Training Loss: 0.08358342738967081\n",
      "Epoch 36/80, Validation Loss: 0.06256565803365072\n"
     ]
    },
    {
     "name": "stderr",
     "output_type": "stream",
     "text": [
      "Epoch 37/80: 100%|██████████| 61/61 [00:06<00:00,  8.86batch/s, loss=0.0841]\n"
     ]
    },
    {
     "name": "stdout",
     "output_type": "stream",
     "text": [
      "Epoch 37/80, Training Loss: 0.08347872365958002\n",
      "Epoch 37/80, Validation Loss: 0.06246881269545206\n"
     ]
    },
    {
     "name": "stderr",
     "output_type": "stream",
     "text": [
      "Epoch 38/80: 100%|██████████| 61/61 [00:07<00:00,  8.37batch/s, loss=0.0841]\n"
     ]
    },
    {
     "name": "stdout",
     "output_type": "stream",
     "text": [
      "Epoch 38/80, Training Loss: 0.08340062083099829\n",
      "Epoch 38/80, Validation Loss: 0.062394700090673584\n"
     ]
    },
    {
     "name": "stderr",
     "output_type": "stream",
     "text": [
      "Epoch 39/80: 100%|██████████| 61/61 [00:11<00:00,  5.38batch/s, loss=0.084] \n"
     ]
    },
    {
     "name": "stdout",
     "output_type": "stream",
     "text": [
      "Epoch 39/80, Training Loss: 0.08331937378610053\n",
      "Epoch 39/80, Validation Loss: 0.06219978720861271\n"
     ]
    },
    {
     "name": "stderr",
     "output_type": "stream",
     "text": [
      "Epoch 40/80: 100%|██████████| 61/61 [00:08<00:00,  7.00batch/s, loss=0.0839]\n"
     ]
    },
    {
     "name": "stdout",
     "output_type": "stream",
     "text": [
      "Epoch 40/80, Training Loss: 0.08322651964328198\n",
      "Epoch 40/80, Validation Loss: 0.062120262431590065\n"
     ]
    },
    {
     "name": "stderr",
     "output_type": "stream",
     "text": [
      "Epoch 41/80: 100%|██████████| 61/61 [00:07<00:00,  8.47batch/s, loss=0.0838]\n"
     ]
    },
    {
     "name": "stdout",
     "output_type": "stream",
     "text": [
      "Epoch 41/80, Training Loss: 0.08316624864481967\n",
      "Epoch 41/80, Validation Loss: 0.062025495874586396\n"
     ]
    },
    {
     "name": "stderr",
     "output_type": "stream",
     "text": [
      "Epoch 42/80: 100%|██████████| 61/61 [00:08<00:00,  7.32batch/s, loss=0.0837]\n"
     ]
    },
    {
     "name": "stdout",
     "output_type": "stream",
     "text": [
      "Epoch 42/80, Training Loss: 0.08306319016812741\n",
      "Epoch 42/80, Validation Loss: 0.06194938317346944\n"
     ]
    },
    {
     "name": "stderr",
     "output_type": "stream",
     "text": [
      "Epoch 43/80: 100%|██████████| 61/61 [00:08<00:00,  7.54batch/s, loss=0.0836]\n"
     ]
    },
    {
     "name": "stdout",
     "output_type": "stream",
     "text": [
      "Epoch 43/80, Training Loss: 0.08298395192929799\n",
      "Epoch 43/80, Validation Loss: 0.06181460123293507\n"
     ]
    },
    {
     "name": "stderr",
     "output_type": "stream",
     "text": [
      "Epoch 44/80: 100%|██████████| 61/61 [00:09<00:00,  6.64batch/s, loss=0.0836]\n"
     ]
    },
    {
     "name": "stdout",
     "output_type": "stream",
     "text": [
      "Epoch 44/80, Training Loss: 0.0829066423382915\n",
      "Epoch 44/80, Validation Loss: 0.061703530037457516\n"
     ]
    },
    {
     "name": "stderr",
     "output_type": "stream",
     "text": [
      "Epoch 45/80: 100%|██████████| 61/61 [00:10<00:00,  5.95batch/s, loss=0.0835]\n"
     ]
    },
    {
     "name": "stdout",
     "output_type": "stream",
     "text": [
      "Epoch 45/80, Training Loss: 0.08283443319838613\n",
      "Epoch 45/80, Validation Loss: 0.06160944334851246\n"
     ]
    },
    {
     "name": "stderr",
     "output_type": "stream",
     "text": [
      "Epoch 46/80: 100%|██████████| 61/61 [00:07<00:00,  8.30batch/s, loss=0.0834]\n"
     ]
    },
    {
     "name": "stdout",
     "output_type": "stream",
     "text": [
      "Epoch 46/80, Training Loss: 0.08275588130587667\n",
      "Epoch 46/80, Validation Loss: 0.06156405906585526\n"
     ]
    },
    {
     "name": "stderr",
     "output_type": "stream",
     "text": [
      "Epoch 47/80: 100%|██████████| 61/61 [00:06<00:00,  8.97batch/s, loss=0.0833]\n"
     ]
    },
    {
     "name": "stdout",
     "output_type": "stream",
     "text": [
      "Epoch 47/80, Training Loss: 0.08268251190984156\n",
      "Epoch 47/80, Validation Loss: 0.06140651439242202\n"
     ]
    },
    {
     "name": "stderr",
     "output_type": "stream",
     "text": [
      "Epoch 48/80: 100%|██████████| 61/61 [00:06<00:00,  8.88batch/s, loss=0.0833]\n"
     ]
    },
    {
     "name": "stdout",
     "output_type": "stream",
     "text": [
      "Epoch 48/80, Training Loss: 0.08260217608177488\n",
      "Epoch 48/80, Validation Loss: 0.06130962047278427\n"
     ]
    },
    {
     "name": "stderr",
     "output_type": "stream",
     "text": [
      "Epoch 49/80: 100%|██████████| 61/61 [00:08<00:00,  6.84batch/s, loss=0.0832]\n"
     ]
    },
    {
     "name": "stdout",
     "output_type": "stream",
     "text": [
      "Epoch 49/80, Training Loss: 0.08251300263522883\n",
      "Epoch 49/80, Validation Loss: 0.061219680967758004\n"
     ]
    },
    {
     "name": "stderr",
     "output_type": "stream",
     "text": [
      "Epoch 50/80: 100%|██████████| 61/61 [00:08<00:00,  6.93batch/s, loss=0.0831]\n"
     ]
    },
    {
     "name": "stdout",
     "output_type": "stream",
     "text": [
      "Epoch 50/80, Training Loss: 0.08243541656141996\n",
      "Epoch 50/80, Validation Loss: 0.061088051276977196\n"
     ]
    },
    {
     "name": "stderr",
     "output_type": "stream",
     "text": [
      "Epoch 51/80: 100%|██████████| 61/61 [00:09<00:00,  6.43batch/s, loss=0.083] \n"
     ]
    },
    {
     "name": "stdout",
     "output_type": "stream",
     "text": [
      "Epoch 51/80, Training Loss: 0.08236541924234003\n",
      "Epoch 51/80, Validation Loss: 0.06099399295756694\n"
     ]
    },
    {
     "name": "stderr",
     "output_type": "stream",
     "text": [
      "Epoch 52/80: 100%|██████████| 61/61 [00:07<00:00,  7.63batch/s, loss=0.0829]\n"
     ]
    },
    {
     "name": "stdout",
     "output_type": "stream",
     "text": [
      "Epoch 52/80, Training Loss: 0.08227535465840204\n",
      "Epoch 52/80, Validation Loss: 0.06087607818608684\n"
     ]
    },
    {
     "name": "stderr",
     "output_type": "stream",
     "text": [
      "Epoch 53/80: 100%|██████████| 61/61 [00:09<00:00,  6.38batch/s, loss=0.0829]\n"
     ]
    },
    {
     "name": "stdout",
     "output_type": "stream",
     "text": [
      "Epoch 53/80, Training Loss: 0.08220137262901818\n",
      "Epoch 53/80, Validation Loss: 0.060763079864407016\n"
     ]
    },
    {
     "name": "stderr",
     "output_type": "stream",
     "text": [
      "Epoch 54/80: 100%|██████████| 61/61 [00:08<00:00,  7.18batch/s, loss=0.0828]\n"
     ]
    },
    {
     "name": "stdout",
     "output_type": "stream",
     "text": [
      "Epoch 54/80, Training Loss: 0.0821177261722073\n",
      "Epoch 54/80, Validation Loss: 0.060653339267509015\n"
     ]
    },
    {
     "name": "stderr",
     "output_type": "stream",
     "text": [
      "Epoch 55/80: 100%|██████████| 61/61 [00:09<00:00,  6.24batch/s, loss=0.0827]\n"
     ]
    },
    {
     "name": "stdout",
     "output_type": "stream",
     "text": [
      "Epoch 55/80, Training Loss: 0.08203368408022436\n",
      "Epoch 55/80, Validation Loss: 0.06055459369982631\n"
     ]
    },
    {
     "name": "stderr",
     "output_type": "stream",
     "text": [
      "Epoch 56/80: 100%|██████████| 61/61 [00:07<00:00,  8.41batch/s, loss=0.0826]\n"
     ]
    },
    {
     "name": "stdout",
     "output_type": "stream",
     "text": [
      "Epoch 56/80, Training Loss: 0.0819433578767748\n",
      "Epoch 56/80, Validation Loss: 0.060493450432035745\n"
     ]
    },
    {
     "name": "stderr",
     "output_type": "stream",
     "text": [
      "Epoch 57/80: 100%|██████████| 61/61 [00:09<00:00,  6.47batch/s, loss=0.0825]\n"
     ]
    },
    {
     "name": "stdout",
     "output_type": "stream",
     "text": [
      "Epoch 57/80, Training Loss: 0.08187153091167891\n",
      "Epoch 57/80, Validation Loss: 0.0604102777657596\n"
     ]
    },
    {
     "name": "stderr",
     "output_type": "stream",
     "text": [
      "Epoch 58/80: 100%|██████████| 61/61 [00:07<00:00,  7.82batch/s, loss=0.0825]\n"
     ]
    },
    {
     "name": "stdout",
     "output_type": "stream",
     "text": [
      "Epoch 58/80, Training Loss: 0.08179038826117715\n",
      "Epoch 58/80, Validation Loss: 0.06029336848872493\n"
     ]
    },
    {
     "name": "stderr",
     "output_type": "stream",
     "text": [
      "Epoch 59/80: 100%|██████████| 61/61 [00:07<00:00,  7.94batch/s, loss=0.0824]\n"
     ]
    },
    {
     "name": "stdout",
     "output_type": "stream",
     "text": [
      "Epoch 59/80, Training Loss: 0.08169629762515324\n",
      "Epoch 59/80, Validation Loss: 0.06019172229923536\n"
     ]
    },
    {
     "name": "stderr",
     "output_type": "stream",
     "text": [
      "Epoch 60/80: 100%|██████████| 61/61 [00:08<00:00,  7.27batch/s, loss=0.0823]\n"
     ]
    },
    {
     "name": "stdout",
     "output_type": "stream",
     "text": [
      "Epoch 60/80, Training Loss: 0.08161288760795589\n",
      "Epoch 60/80, Validation Loss: 0.060104733863171673\n"
     ]
    },
    {
     "name": "stderr",
     "output_type": "stream",
     "text": [
      "Epoch 61/80: 100%|██████████| 61/61 [00:11<00:00,  5.33batch/s, loss=0.0822]\n"
     ]
    },
    {
     "name": "stdout",
     "output_type": "stream",
     "text": [
      "Epoch 61/80, Training Loss: 0.0815429681015888\n",
      "Epoch 61/80, Validation Loss: 0.05997367144127004\n"
     ]
    },
    {
     "name": "stderr",
     "output_type": "stream",
     "text": [
      "Epoch 62/80: 100%|██████████| 61/61 [00:07<00:00,  7.67batch/s, loss=0.0821]\n"
     ]
    },
    {
     "name": "stdout",
     "output_type": "stream",
     "text": [
      "Epoch 62/80, Training Loss: 0.08147177426511724\n",
      "Epoch 62/80, Validation Loss: 0.059891263998048616\n"
     ]
    },
    {
     "name": "stderr",
     "output_type": "stream",
     "text": [
      "Epoch 63/80: 100%|██████████| 61/61 [00:08<00:00,  7.35batch/s, loss=0.0821]\n"
     ]
    },
    {
     "name": "stdout",
     "output_type": "stream",
     "text": [
      "Epoch 63/80, Training Loss: 0.08139235803290544\n",
      "Epoch 63/80, Validation Loss: 0.05982960964287074\n"
     ]
    },
    {
     "name": "stderr",
     "output_type": "stream",
     "text": [
      "Epoch 64/80: 100%|██████████| 61/61 [00:07<00:00,  7.94batch/s, loss=0.082] \n"
     ]
    },
    {
     "name": "stdout",
     "output_type": "stream",
     "text": [
      "Epoch 64/80, Training Loss: 0.08131095334135838\n",
      "Epoch 64/80, Validation Loss: 0.05978521458092215\n"
     ]
    },
    {
     "name": "stderr",
     "output_type": "stream",
     "text": [
      "Epoch 65/80: 100%|██████████| 61/61 [00:07<00:00,  7.76batch/s, loss=0.0819]\n"
     ]
    },
    {
     "name": "stdout",
     "output_type": "stream",
     "text": [
      "Epoch 65/80, Training Loss: 0.0812373246318261\n",
      "Epoch 65/80, Validation Loss: 0.05978983216097578\n"
     ]
    },
    {
     "name": "stderr",
     "output_type": "stream",
     "text": [
      "Epoch 66/80: 100%|██████████| 61/61 [00:10<00:00,  5.98batch/s, loss=0.0818]\n"
     ]
    },
    {
     "name": "stdout",
     "output_type": "stream",
     "text": [
      "Epoch 66/80, Training Loss: 0.08117469089792011\n",
      "Epoch 66/80, Validation Loss: 0.059703341721561436\n"
     ]
    },
    {
     "name": "stderr",
     "output_type": "stream",
     "text": [
      "Epoch 67/80: 100%|██████████| 61/61 [00:10<00:00,  5.85batch/s, loss=0.0817]\n"
     ]
    },
    {
     "name": "stdout",
     "output_type": "stream",
     "text": [
      "Epoch 67/80, Training Loss: 0.0810821857785996\n",
      "Epoch 67/80, Validation Loss: 0.05961005855806083\n"
     ]
    },
    {
     "name": "stderr",
     "output_type": "stream",
     "text": [
      "Epoch 68/80: 100%|██████████| 61/61 [00:08<00:00,  7.49batch/s, loss=0.0817]\n"
     ]
    },
    {
     "name": "stdout",
     "output_type": "stream",
     "text": [
      "Epoch 68/80, Training Loss: 0.08103298133079342\n",
      "Epoch 68/80, Validation Loss: 0.05951928241834086\n"
     ]
    },
    {
     "name": "stderr",
     "output_type": "stream",
     "text": [
      "Epoch 69/80: 100%|██████████| 61/61 [00:09<00:00,  6.22batch/s, loss=0.0816]\n"
     ]
    },
    {
     "name": "stdout",
     "output_type": "stream",
     "text": [
      "Epoch 69/80, Training Loss: 0.08095260240103916\n",
      "Epoch 69/80, Validation Loss: 0.05947750411202875\n"
     ]
    },
    {
     "name": "stderr",
     "output_type": "stream",
     "text": [
      "Epoch 70/80: 100%|██████████| 61/61 [00:11<00:00,  5.20batch/s, loss=0.0815]\n"
     ]
    },
    {
     "name": "stdout",
     "output_type": "stream",
     "text": [
      "Epoch 70/80, Training Loss: 0.08086866453743752\n",
      "Epoch 70/80, Validation Loss: 0.059377384894142134\n"
     ]
    },
    {
     "name": "stderr",
     "output_type": "stream",
     "text": [
      "Epoch 71/80: 100%|██████████| 61/61 [00:10<00:00,  6.06batch/s, loss=0.0814]\n"
     ]
    },
    {
     "name": "stdout",
     "output_type": "stream",
     "text": [
      "Epoch 71/80, Training Loss: 0.08073800166777644\n",
      "Epoch 71/80, Validation Loss: 0.059151376583716476\n"
     ]
    },
    {
     "name": "stderr",
     "output_type": "stream",
     "text": [
      "Epoch 72/80: 100%|██████████| 61/61 [00:08<00:00,  7.02batch/s, loss=0.0814]\n"
     ]
    },
    {
     "name": "stdout",
     "output_type": "stream",
     "text": [
      "Epoch 72/80, Training Loss: 0.080702105210557\n",
      "Epoch 72/80, Validation Loss: 0.05911146982682183\n"
     ]
    },
    {
     "name": "stderr",
     "output_type": "stream",
     "text": [
      "Epoch 73/80: 100%|██████████| 61/61 [00:07<00:00,  7.72batch/s, loss=0.0813]\n"
     ]
    },
    {
     "name": "stdout",
     "output_type": "stream",
     "text": [
      "Epoch 73/80, Training Loss: 0.08059478902457114\n",
      "Epoch 73/80, Validation Loss: 0.059001670292390146\n"
     ]
    },
    {
     "name": "stderr",
     "output_type": "stream",
     "text": [
      "Epoch 74/80: 100%|██████████| 61/61 [00:07<00:00,  8.54batch/s, loss=0.0812]\n"
     ]
    },
    {
     "name": "stdout",
     "output_type": "stream",
     "text": [
      "Epoch 74/80, Training Loss: 0.0805217014120362\n",
      "Epoch 74/80, Validation Loss: 0.05889452174328872\n"
     ]
    },
    {
     "name": "stderr",
     "output_type": "stream",
     "text": [
      "Epoch 75/80: 100%|██████████| 61/61 [00:09<00:00,  6.56batch/s, loss=0.0811]\n"
     ]
    },
    {
     "name": "stdout",
     "output_type": "stream",
     "text": [
      "Epoch 75/80, Training Loss: 0.08045593096520755\n",
      "Epoch 75/80, Validation Loss: 0.05865969501220865\n"
     ]
    },
    {
     "name": "stderr",
     "output_type": "stream",
     "text": [
      "Epoch 76/80: 100%|██████████| 61/61 [00:07<00:00,  8.40batch/s, loss=0.0811]\n"
     ]
    },
    {
     "name": "stdout",
     "output_type": "stream",
     "text": [
      "Epoch 76/80, Training Loss: 0.08041233584833278\n",
      "Epoch 76/80, Validation Loss: 0.05854177605555421\n"
     ]
    },
    {
     "name": "stderr",
     "output_type": "stream",
     "text": [
      "Epoch 77/80: 100%|██████████| 61/61 [00:08<00:00,  7.35batch/s, loss=0.081] \n"
     ]
    },
    {
     "name": "stdout",
     "output_type": "stream",
     "text": [
      "Epoch 77/80, Training Loss: 0.08030828442333908\n",
      "Epoch 77/80, Validation Loss: 0.05844844995893827\n"
     ]
    },
    {
     "name": "stderr",
     "output_type": "stream",
     "text": [
      "Epoch 78/80: 100%|██████████| 61/61 [00:10<00:00,  6.07batch/s, loss=0.0809]\n"
     ]
    },
    {
     "name": "stdout",
     "output_type": "stream",
     "text": [
      "Epoch 78/80, Training Loss: 0.08024398740979442\n",
      "Epoch 78/80, Validation Loss: 0.05834112630836123\n"
     ]
    },
    {
     "name": "stderr",
     "output_type": "stream",
     "text": [
      "Epoch 79/80: 100%|██████████| 61/61 [00:07<00:00,  8.30batch/s, loss=0.0808]\n"
     ]
    },
    {
     "name": "stdout",
     "output_type": "stream",
     "text": [
      "Epoch 79/80, Training Loss: 0.08018341760327308\n",
      "Epoch 79/80, Validation Loss: 0.058233898447903144\n"
     ]
    },
    {
     "name": "stderr",
     "output_type": "stream",
     "text": [
      "Epoch 80/80: 100%|██████████| 61/61 [00:07<00:00,  8.35batch/s, loss=0.0807]\n"
     ]
    },
    {
     "name": "stdout",
     "output_type": "stream",
     "text": [
      "Epoch 80/80, Training Loss: 0.08007533741733351\n",
      "Epoch 80/80, Validation Loss: 0.05812734660891714\n"
     ]
    },
    {
     "name": "stderr",
     "output_type": "stream",
     "text": [
      "Epoch 1/160: 100%|██████████| 50/50 [00:07<00:00,  6.85batch/s, loss=0.0794]\n"
     ]
    },
    {
     "name": "stdout",
     "output_type": "stream",
     "text": [
      "Epoch 1/160, Training Loss: 0.0792961129918271\n",
      "Epoch 1/160, Validation Loss: 0.058254357607442346\n"
     ]
    },
    {
     "name": "stderr",
     "output_type": "stream",
     "text": [
      "Epoch 2/160: 100%|██████████| 50/50 [00:07<00:00,  7.08batch/s, loss=0.0792]\n"
     ]
    },
    {
     "name": "stdout",
     "output_type": "stream",
     "text": [
      "Epoch 2/160, Training Loss: 0.07905692698566381\n",
      "Epoch 2/160, Validation Loss: 0.05833760579252457\n"
     ]
    },
    {
     "name": "stderr",
     "output_type": "stream",
     "text": [
      "Epoch 3/160: 100%|██████████| 50/50 [00:07<00:00,  6.48batch/s, loss=0.0791]\n"
     ]
    },
    {
     "name": "stdout",
     "output_type": "stream",
     "text": [
      "Epoch 3/160, Training Loss: 0.07895054515521834\n",
      "Epoch 3/160, Validation Loss: 0.05844177500717195\n"
     ]
    },
    {
     "name": "stderr",
     "output_type": "stream",
     "text": [
      "Epoch 4/160: 100%|██████████| 50/50 [00:10<00:00,  4.56batch/s, loss=0.079] \n"
     ]
    },
    {
     "name": "stdout",
     "output_type": "stream",
     "text": [
      "Epoch 4/160, Training Loss: 0.07887049742934465\n",
      "Epoch 4/160, Validation Loss: 0.05848226816656401\n"
     ]
    },
    {
     "name": "stderr",
     "output_type": "stream",
     "text": [
      "Epoch 5/160: 100%|██████████| 50/50 [00:06<00:00,  7.58batch/s, loss=0.0789]\n"
     ]
    },
    {
     "name": "stdout",
     "output_type": "stream",
     "text": [
      "Epoch 5/160, Training Loss: 0.07881685365367953\n",
      "Epoch 5/160, Validation Loss: 0.05837554753697174\n"
     ]
    },
    {
     "name": "stderr",
     "output_type": "stream",
     "text": [
      "Epoch 6/160: 100%|██████████| 50/50 [00:07<00:00,  7.02batch/s, loss=0.0789]\n"
     ]
    },
    {
     "name": "stdout",
     "output_type": "stream",
     "text": [
      "Epoch 6/160, Training Loss: 0.07875457238606341\n",
      "Epoch 6/160, Validation Loss: 0.05839883845636384\n"
     ]
    },
    {
     "name": "stderr",
     "output_type": "stream",
     "text": [
      "Epoch 7/160: 100%|██████████| 50/50 [00:06<00:00,  7.66batch/s, loss=0.0788]\n"
     ]
    },
    {
     "name": "stdout",
     "output_type": "stream",
     "text": [
      "Epoch 7/160, Training Loss: 0.07869430800707297\n",
      "Epoch 7/160, Validation Loss: 0.05836482328016539\n"
     ]
    },
    {
     "name": "stderr",
     "output_type": "stream",
     "text": [
      "Epoch 8/160: 100%|██████████| 50/50 [00:09<00:00,  5.28batch/s, loss=0.0788]\n"
     ]
    },
    {
     "name": "stdout",
     "output_type": "stream",
     "text": [
      "Epoch 8/160, Training Loss: 0.07864083998992796\n",
      "Epoch 8/160, Validation Loss: 0.058293581926597386\n"
     ]
    },
    {
     "name": "stderr",
     "output_type": "stream",
     "text": [
      "Epoch 9/160: 100%|██████████| 50/50 [00:06<00:00,  7.78batch/s, loss=0.0787]\n"
     ]
    },
    {
     "name": "stdout",
     "output_type": "stream",
     "text": [
      "Epoch 9/160, Training Loss: 0.07860706439009708\n",
      "Epoch 9/160, Validation Loss: 0.058236799894528846\n"
     ]
    },
    {
     "name": "stderr",
     "output_type": "stream",
     "text": [
      "Epoch 10/160: 100%|██████████| 50/50 [00:06<00:00,  7.16batch/s, loss=0.0787]\n"
     ]
    },
    {
     "name": "stdout",
     "output_type": "stream",
     "text": [
      "Epoch 10/160, Training Loss: 0.07856395778399156\n",
      "Epoch 10/160, Validation Loss: 0.05820398068447588\n"
     ]
    },
    {
     "name": "stderr",
     "output_type": "stream",
     "text": [
      "Epoch 11/160: 100%|██████████| 50/50 [00:06<00:00,  8.13batch/s, loss=0.0787]\n"
     ]
    },
    {
     "name": "stdout",
     "output_type": "stream",
     "text": [
      "Epoch 11/160, Training Loss: 0.07852945272612662\n",
      "Epoch 11/160, Validation Loss: 0.05816404770276251\n"
     ]
    },
    {
     "name": "stderr",
     "output_type": "stream",
     "text": [
      "Epoch 12/160: 100%|██████████| 50/50 [00:07<00:00,  6.93batch/s, loss=0.0786]\n"
     ]
    },
    {
     "name": "stdout",
     "output_type": "stream",
     "text": [
      "Epoch 12/160, Training Loss: 0.07848905256261954\n",
      "Epoch 12/160, Validation Loss: 0.05820091710479917\n"
     ]
    },
    {
     "name": "stderr",
     "output_type": "stream",
     "text": [
      "Epoch 13/160: 100%|██████████| 50/50 [00:06<00:00,  7.62batch/s, loss=0.0786]\n"
     ]
    },
    {
     "name": "stdout",
     "output_type": "stream",
     "text": [
      "Epoch 13/160, Training Loss: 0.07844358049445685\n",
      "Epoch 13/160, Validation Loss: 0.05821694625515864\n"
     ]
    },
    {
     "name": "stderr",
     "output_type": "stream",
     "text": [
      "Epoch 14/160: 100%|██████████| 50/50 [00:06<00:00,  7.59batch/s, loss=0.0785]\n"
     ]
    },
    {
     "name": "stdout",
     "output_type": "stream",
     "text": [
      "Epoch 14/160, Training Loss: 0.07840545590070268\n",
      "Epoch 14/160, Validation Loss: 0.058156196761960974\n"
     ]
    },
    {
     "name": "stderr",
     "output_type": "stream",
     "text": [
      "Epoch 15/160: 100%|██████████| 50/50 [00:06<00:00,  7.60batch/s, loss=0.0785]\n"
     ]
    },
    {
     "name": "stdout",
     "output_type": "stream",
     "text": [
      "Epoch 15/160, Training Loss: 0.0783727811085395\n",
      "Epoch 15/160, Validation Loss: 0.05814220787313782\n"
     ]
    },
    {
     "name": "stderr",
     "output_type": "stream",
     "text": [
      "Epoch 16/160: 100%|██████████| 50/50 [00:06<00:00,  8.24batch/s, loss=0.0785]\n"
     ]
    },
    {
     "name": "stdout",
     "output_type": "stream",
     "text": [
      "Epoch 16/160, Training Loss: 0.07833962997080629\n",
      "Epoch 16/160, Validation Loss: 0.058120817871889746\n"
     ]
    },
    {
     "name": "stderr",
     "output_type": "stream",
     "text": [
      "Epoch 17/160: 100%|██████████| 50/50 [00:05<00:00,  8.98batch/s, loss=0.0784]\n"
     ]
    },
    {
     "name": "stdout",
     "output_type": "stream",
     "text": [
      "Epoch 17/160, Training Loss: 0.07830824961262595\n",
      "Epoch 17/160, Validation Loss: 0.05809525254119941\n"
     ]
    },
    {
     "name": "stderr",
     "output_type": "stream",
     "text": [
      "Epoch 18/160: 100%|██████████| 50/50 [00:06<00:00,  7.57batch/s, loss=0.0784]\n"
     ]
    },
    {
     "name": "stdout",
     "output_type": "stream",
     "text": [
      "Epoch 18/160, Training Loss: 0.07828380805353452\n",
      "Epoch 18/160, Validation Loss: 0.058024076970588936\n"
     ]
    },
    {
     "name": "stderr",
     "output_type": "stream",
     "text": [
      "Epoch 19/160: 100%|██████████| 50/50 [00:07<00:00,  7.12batch/s, loss=0.0784]\n"
     ]
    },
    {
     "name": "stdout",
     "output_type": "stream",
     "text": [
      "Epoch 19/160, Training Loss: 0.07823992604694584\n",
      "Epoch 19/160, Validation Loss: 0.05800991669997046\n"
     ]
    },
    {
     "name": "stderr",
     "output_type": "stream",
     "text": [
      "Epoch 20/160: 100%|██████████| 50/50 [00:06<00:00,  8.30batch/s, loss=0.0783]\n"
     ]
    },
    {
     "name": "stdout",
     "output_type": "stream",
     "text": [
      "Epoch 20/160, Training Loss: 0.07821612935042767\n",
      "Epoch 20/160, Validation Loss: 0.05794105908395732\n"
     ]
    },
    {
     "name": "stderr",
     "output_type": "stream",
     "text": [
      "Epoch 21/160: 100%|██████████| 50/50 [00:06<00:00,  7.94batch/s, loss=0.0783]\n"
     ]
    },
    {
     "name": "stdout",
     "output_type": "stream",
     "text": [
      "Epoch 21/160, Training Loss: 0.0781716098598848\n",
      "Epoch 21/160, Validation Loss: 0.05790897245774896\n"
     ]
    },
    {
     "name": "stderr",
     "output_type": "stream",
     "text": [
      "Epoch 22/160: 100%|██████████| 50/50 [00:06<00:00,  7.38batch/s, loss=0.0783]\n"
     ]
    },
    {
     "name": "stdout",
     "output_type": "stream",
     "text": [
      "Epoch 22/160, Training Loss: 0.07814023226951254\n",
      "Epoch 22/160, Validation Loss: 0.057890153924894994\n"
     ]
    },
    {
     "name": "stderr",
     "output_type": "stream",
     "text": [
      "Epoch 23/160: 100%|██████████| 50/50 [00:06<00:00,  7.98batch/s, loss=0.0782]\n"
     ]
    },
    {
     "name": "stdout",
     "output_type": "stream",
     "text": [
      "Epoch 23/160, Training Loss: 0.07812014301039304\n",
      "Epoch 23/160, Validation Loss: 0.05783953879989202\n"
     ]
    },
    {
     "name": "stderr",
     "output_type": "stream",
     "text": [
      "Epoch 24/160: 100%|██████████| 50/50 [00:07<00:00,  6.32batch/s, loss=0.0782]\n"
     ]
    },
    {
     "name": "stdout",
     "output_type": "stream",
     "text": [
      "Epoch 24/160, Training Loss: 0.07808061143734867\n",
      "Epoch 24/160, Validation Loss: 0.057819192042462275\n"
     ]
    },
    {
     "name": "stderr",
     "output_type": "stream",
     "text": [
      "Epoch 25/160: 100%|██████████| 50/50 [00:07<00:00,  6.39batch/s, loss=0.0782]\n"
     ]
    },
    {
     "name": "stdout",
     "output_type": "stream",
     "text": [
      "Epoch 25/160, Training Loss: 0.07805771244637505\n",
      "Epoch 25/160, Validation Loss: 0.057767194315003365\n"
     ]
    },
    {
     "name": "stderr",
     "output_type": "stream",
     "text": [
      "Epoch 26/160: 100%|██████████| 50/50 [00:06<00:00,  8.12batch/s, loss=0.0781]\n"
     ]
    },
    {
     "name": "stdout",
     "output_type": "stream",
     "text": [
      "Epoch 26/160, Training Loss: 0.07801450430006163\n",
      "Epoch 26/160, Validation Loss: 0.05773135686670233\n"
     ]
    },
    {
     "name": "stderr",
     "output_type": "stream",
     "text": [
      "Epoch 27/160: 100%|██████████| 50/50 [00:05<00:00,  8.43batch/s, loss=0.0781]\n"
     ]
    },
    {
     "name": "stdout",
     "output_type": "stream",
     "text": [
      "Epoch 27/160, Training Loss: 0.07798921157840688\n",
      "Epoch 27/160, Validation Loss: 0.05769473308288767\n"
     ]
    },
    {
     "name": "stderr",
     "output_type": "stream",
     "text": [
      "Epoch 28/160: 100%|██████████| 50/50 [00:07<00:00,  7.12batch/s, loss=0.0781]\n"
     ]
    },
    {
     "name": "stdout",
     "output_type": "stream",
     "text": [
      "Epoch 28/160, Training Loss: 0.07795857234855\n",
      "Epoch 28/160, Validation Loss: 0.05764472371588216\n"
     ]
    },
    {
     "name": "stderr",
     "output_type": "stream",
     "text": [
      "Epoch 29/160: 100%|██████████| 50/50 [00:06<00:00,  8.15batch/s, loss=0.0781]\n"
     ]
    },
    {
     "name": "stdout",
     "output_type": "stream",
     "text": [
      "Epoch 29/160, Training Loss: 0.0779263046653941\n",
      "Epoch 29/160, Validation Loss: 0.05760600027834085\n"
     ]
    },
    {
     "name": "stderr",
     "output_type": "stream",
     "text": [
      "Epoch 30/160: 100%|██████████| 50/50 [00:06<00:00,  7.18batch/s, loss=0.078] \n"
     ]
    },
    {
     "name": "stdout",
     "output_type": "stream",
     "text": [
      "Epoch 30/160, Training Loss: 0.07789506614361623\n",
      "Epoch 30/160, Validation Loss: 0.05757172392977762\n"
     ]
    },
    {
     "name": "stderr",
     "output_type": "stream",
     "text": [
      "Epoch 31/160: 100%|██████████| 50/50 [00:06<00:00,  7.22batch/s, loss=0.078] \n"
     ]
    },
    {
     "name": "stdout",
     "output_type": "stream",
     "text": [
      "Epoch 31/160, Training Loss: 0.07786396076635217\n",
      "Epoch 31/160, Validation Loss: 0.05753272032766356\n"
     ]
    },
    {
     "name": "stderr",
     "output_type": "stream",
     "text": [
      "Epoch 32/160: 100%|██████████| 50/50 [00:09<00:00,  5.23batch/s, loss=0.078] \n"
     ]
    },
    {
     "name": "stdout",
     "output_type": "stream",
     "text": [
      "Epoch 32/160, Training Loss: 0.07783119553189882\n",
      "Epoch 32/160, Validation Loss: 0.05748937919212282\n"
     ]
    },
    {
     "name": "stderr",
     "output_type": "stream",
     "text": [
      "Epoch 33/160: 100%|██████████| 50/50 [00:08<00:00,  5.82batch/s, loss=0.0779]\n"
     ]
    },
    {
     "name": "stdout",
     "output_type": "stream",
     "text": [
      "Epoch 33/160, Training Loss: 0.07779768850862331\n",
      "Epoch 33/160, Validation Loss: 0.05747266660849\n"
     ]
    },
    {
     "name": "stderr",
     "output_type": "stream",
     "text": [
      "Epoch 34/160: 100%|██████████| 50/50 [00:09<00:00,  5.02batch/s, loss=0.0779]\n"
     ]
    },
    {
     "name": "stdout",
     "output_type": "stream",
     "text": [
      "Epoch 34/160, Training Loss: 0.07776884783058956\n",
      "Epoch 34/160, Validation Loss: 0.05743716072753896\n"
     ]
    },
    {
     "name": "stderr",
     "output_type": "stream",
     "text": [
      "Epoch 35/160: 100%|██████████| 50/50 [00:07<00:00,  6.29batch/s, loss=0.0779]\n"
     ]
    },
    {
     "name": "stdout",
     "output_type": "stream",
     "text": [
      "Epoch 35/160, Training Loss: 0.07773934891406248\n",
      "Epoch 35/160, Validation Loss: 0.05740708866545753\n"
     ]
    },
    {
     "name": "stderr",
     "output_type": "stream",
     "text": [
      "Epoch 36/160: 100%|██████████| 50/50 [00:06<00:00,  7.43batch/s, loss=0.0778]\n"
     ]
    },
    {
     "name": "stdout",
     "output_type": "stream",
     "text": [
      "Epoch 36/160, Training Loss: 0.07770815581360452\n",
      "Epoch 36/160, Validation Loss: 0.05736952718267006\n"
     ]
    },
    {
     "name": "stderr",
     "output_type": "stream",
     "text": [
      "Epoch 37/160: 100%|██████████| 50/50 [00:08<00:00,  6.19batch/s, loss=0.0778]\n"
     ]
    },
    {
     "name": "stdout",
     "output_type": "stream",
     "text": [
      "Epoch 37/160, Training Loss: 0.07767440020683185\n",
      "Epoch 37/160, Validation Loss: 0.057327760178146135\n"
     ]
    },
    {
     "name": "stderr",
     "output_type": "stream",
     "text": [
      "Epoch 38/160: 100%|██████████| 50/50 [00:08<00:00,  6.14batch/s, loss=0.0778]\n"
     ]
    },
    {
     "name": "stdout",
     "output_type": "stream",
     "text": [
      "Epoch 38/160, Training Loss: 0.07764148409804719\n",
      "Epoch 38/160, Validation Loss: 0.05729629687061129\n"
     ]
    },
    {
     "name": "stderr",
     "output_type": "stream",
     "text": [
      "Epoch 39/160: 100%|██████████| 50/50 [00:07<00:00,  6.74batch/s, loss=0.0777]\n"
     ]
    },
    {
     "name": "stdout",
     "output_type": "stream",
     "text": [
      "Epoch 39/160, Training Loss: 0.07761212351393937\n",
      "Epoch 39/160, Validation Loss: 0.05726664097390846\n"
     ]
    },
    {
     "name": "stderr",
     "output_type": "stream",
     "text": [
      "Epoch 40/160: 100%|██████████| 50/50 [00:07<00:00,  6.92batch/s, loss=0.0777]\n"
     ]
    },
    {
     "name": "stdout",
     "output_type": "stream",
     "text": [
      "Epoch 40/160, Training Loss: 0.07758546319074407\n",
      "Epoch 40/160, Validation Loss: 0.05724245493459766\n"
     ]
    },
    {
     "name": "stderr",
     "output_type": "stream",
     "text": [
      "Epoch 41/160: 100%|██████████| 50/50 [00:07<00:00,  6.66batch/s, loss=0.0777]\n"
     ]
    },
    {
     "name": "stdout",
     "output_type": "stream",
     "text": [
      "Epoch 41/160, Training Loss: 0.07753830303290882\n",
      "Epoch 41/160, Validation Loss: 0.057208173896252525\n"
     ]
    },
    {
     "name": "stderr",
     "output_type": "stream",
     "text": [
      "Epoch 42/160: 100%|██████████| 50/50 [00:06<00:00,  8.30batch/s, loss=0.0776]\n"
     ]
    },
    {
     "name": "stdout",
     "output_type": "stream",
     "text": [
      "Epoch 42/160, Training Loss: 0.07750889950072176\n",
      "Epoch 42/160, Validation Loss: 0.057165049015961464\n"
     ]
    },
    {
     "name": "stderr",
     "output_type": "stream",
     "text": [
      "Epoch 43/160: 100%|██████████| 50/50 [00:05<00:00,  9.26batch/s, loss=0.0776]\n"
     ]
    },
    {
     "name": "stdout",
     "output_type": "stream",
     "text": [
      "Epoch 43/160, Training Loss: 0.07747963775080068\n",
      "Epoch 43/160, Validation Loss: 0.05713621010625733\n"
     ]
    },
    {
     "name": "stderr",
     "output_type": "stream",
     "text": [
      "Epoch 44/160: 100%|██████████| 50/50 [00:07<00:00,  6.45batch/s, loss=0.0776]\n"
     ]
    },
    {
     "name": "stdout",
     "output_type": "stream",
     "text": [
      "Epoch 44/160, Training Loss: 0.07744640129589604\n",
      "Epoch 44/160, Validation Loss: 0.05709542970931873\n"
     ]
    },
    {
     "name": "stderr",
     "output_type": "stream",
     "text": [
      "Epoch 45/160: 100%|██████████| 50/50 [00:07<00:00,  6.36batch/s, loss=0.0776]\n"
     ]
    },
    {
     "name": "stdout",
     "output_type": "stream",
     "text": [
      "Epoch 45/160, Training Loss: 0.07742623787528403\n",
      "Epoch 45/160, Validation Loss: 0.05707299866877371\n"
     ]
    },
    {
     "name": "stderr",
     "output_type": "stream",
     "text": [
      "Epoch 46/160: 100%|██████████| 50/50 [00:05<00:00,  9.21batch/s, loss=0.0775]\n"
     ]
    },
    {
     "name": "stdout",
     "output_type": "stream",
     "text": [
      "Epoch 46/160, Training Loss: 0.07738046734045598\n",
      "Epoch 46/160, Validation Loss: 0.05702447745740657\n"
     ]
    },
    {
     "name": "stderr",
     "output_type": "stream",
     "text": [
      "Epoch 47/160: 100%|██████████| 50/50 [00:06<00:00,  8.12batch/s, loss=0.0775]\n"
     ]
    },
    {
     "name": "stdout",
     "output_type": "stream",
     "text": [
      "Epoch 47/160, Training Loss: 0.07736511853021116\n",
      "Epoch 47/160, Validation Loss: 0.05700142107322987\n"
     ]
    },
    {
     "name": "stderr",
     "output_type": "stream",
     "text": [
      "Epoch 48/160: 100%|██████████| 50/50 [00:06<00:00,  7.78batch/s, loss=0.0775]\n"
     ]
    },
    {
     "name": "stdout",
     "output_type": "stream",
     "text": [
      "Epoch 48/160, Training Loss: 0.07733244869288639\n",
      "Epoch 48/160, Validation Loss: 0.056952867551831654\n"
     ]
    },
    {
     "name": "stderr",
     "output_type": "stream",
     "text": [
      "Epoch 49/160: 100%|██████████| 50/50 [00:05<00:00,  8.68batch/s, loss=0.0774]\n"
     ]
    },
    {
     "name": "stdout",
     "output_type": "stream",
     "text": [
      "Epoch 49/160, Training Loss: 0.07728428690170665\n",
      "Epoch 49/160, Validation Loss: 0.056921388468657706\n"
     ]
    },
    {
     "name": "stderr",
     "output_type": "stream",
     "text": [
      "Epoch 50/160: 100%|██████████| 50/50 [00:08<00:00,  6.22batch/s, loss=0.0774]\n"
     ]
    },
    {
     "name": "stdout",
     "output_type": "stream",
     "text": [
      "Epoch 50/160, Training Loss: 0.07726949507150736\n",
      "Epoch 50/160, Validation Loss: 0.05690368579701024\n"
     ]
    },
    {
     "name": "stderr",
     "output_type": "stream",
     "text": [
      "Epoch 51/160: 100%|██████████| 50/50 [00:07<00:00,  6.75batch/s, loss=0.0773]\n"
     ]
    },
    {
     "name": "stdout",
     "output_type": "stream",
     "text": [
      "Epoch 51/160, Training Loss: 0.07722063625518473\n",
      "Epoch 51/160, Validation Loss: 0.056862561605466454\n"
     ]
    },
    {
     "name": "stderr",
     "output_type": "stream",
     "text": [
      "Epoch 52/160: 100%|██████████| 50/50 [00:08<00:00,  5.69batch/s, loss=0.0773]\n"
     ]
    },
    {
     "name": "stdout",
     "output_type": "stream",
     "text": [
      "Epoch 52/160, Training Loss: 0.07720247448279303\n",
      "Epoch 52/160, Validation Loss: 0.056831750032773964\n"
     ]
    },
    {
     "name": "stderr",
     "output_type": "stream",
     "text": [
      "Epoch 53/160: 100%|██████████| 50/50 [00:06<00:00,  7.53batch/s, loss=0.0773]\n"
     ]
    },
    {
     "name": "stdout",
     "output_type": "stream",
     "text": [
      "Epoch 53/160, Training Loss: 0.07717005163550997\n",
      "Epoch 53/160, Validation Loss: 0.05681454936776384\n"
     ]
    },
    {
     "name": "stderr",
     "output_type": "stream",
     "text": [
      "Epoch 54/160: 100%|██████████| 50/50 [00:10<00:00,  4.96batch/s, loss=0.0773]\n"
     ]
    },
    {
     "name": "stdout",
     "output_type": "stream",
     "text": [
      "Epoch 54/160, Training Loss: 0.0771406524332532\n",
      "Epoch 54/160, Validation Loss: 0.05678684965693477\n"
     ]
    },
    {
     "name": "stderr",
     "output_type": "stream",
     "text": [
      "Epoch 55/160: 100%|██████████| 50/50 [00:07<00:00,  6.61batch/s, loss=0.0772]\n"
     ]
    },
    {
     "name": "stdout",
     "output_type": "stream",
     "text": [
      "Epoch 55/160, Training Loss: 0.07710731526025115\n",
      "Epoch 55/160, Validation Loss: 0.05673911580806838\n"
     ]
    },
    {
     "name": "stderr",
     "output_type": "stream",
     "text": [
      "Epoch 56/160: 100%|██████████| 50/50 [00:07<00:00,  6.37batch/s, loss=0.0772]\n"
     ]
    },
    {
     "name": "stdout",
     "output_type": "stream",
     "text": [
      "Epoch 56/160, Training Loss: 0.07707660452126297\n",
      "Epoch 56/160, Validation Loss: 0.05670266291436767\n"
     ]
    },
    {
     "name": "stderr",
     "output_type": "stream",
     "text": [
      "Epoch 57/160: 100%|██████████| 50/50 [00:08<00:00,  6.07batch/s, loss=0.0772]\n"
     ]
    },
    {
     "name": "stdout",
     "output_type": "stream",
     "text": [
      "Epoch 57/160, Training Loss: 0.07704894788122955\n",
      "Epoch 57/160, Validation Loss: 0.056661830440777286\n"
     ]
    },
    {
     "name": "stderr",
     "output_type": "stream",
     "text": [
      "Epoch 58/160: 100%|██████████| 50/50 [00:07<00:00,  6.38batch/s, loss=0.0771]\n"
     ]
    },
    {
     "name": "stdout",
     "output_type": "stream",
     "text": [
      "Epoch 58/160, Training Loss: 0.07702096825665182\n",
      "Epoch 58/160, Validation Loss: 0.05663264813094009\n"
     ]
    },
    {
     "name": "stderr",
     "output_type": "stream",
     "text": [
      "Epoch 59/160: 100%|██████████| 50/50 [00:09<00:00,  5.49batch/s, loss=0.0771]\n"
     ]
    },
    {
     "name": "stdout",
     "output_type": "stream",
     "text": [
      "Epoch 59/160, Training Loss: 0.07698980326301924\n",
      "Epoch 59/160, Validation Loss: 0.05659738596208501\n"
     ]
    },
    {
     "name": "stderr",
     "output_type": "stream",
     "text": [
      "Epoch 60/160: 100%|██████████| 50/50 [00:06<00:00,  7.84batch/s, loss=0.0771]\n"
     ]
    },
    {
     "name": "stdout",
     "output_type": "stream",
     "text": [
      "Epoch 60/160, Training Loss: 0.07696174995888398\n",
      "Epoch 60/160, Validation Loss: 0.05657067909718565\n"
     ]
    },
    {
     "name": "stderr",
     "output_type": "stream",
     "text": [
      "Epoch 61/160: 100%|██████████| 50/50 [00:06<00:00,  8.10batch/s, loss=0.0771]\n"
     ]
    },
    {
     "name": "stdout",
     "output_type": "stream",
     "text": [
      "Epoch 61/160, Training Loss: 0.07692908358655105\n",
      "Epoch 61/160, Validation Loss: 0.05653654401228486\n"
     ]
    },
    {
     "name": "stderr",
     "output_type": "stream",
     "text": [
      "Epoch 62/160: 100%|██████████| 50/50 [00:05<00:00,  9.14batch/s, loss=0.077] \n"
     ]
    },
    {
     "name": "stdout",
     "output_type": "stream",
     "text": [
      "Epoch 62/160, Training Loss: 0.07690078103621957\n",
      "Epoch 62/160, Validation Loss: 0.05650522582774791\n"
     ]
    },
    {
     "name": "stderr",
     "output_type": "stream",
     "text": [
      "Epoch 63/160: 100%|██████████| 50/50 [00:06<00:00,  8.07batch/s, loss=0.077] \n"
     ]
    },
    {
     "name": "stdout",
     "output_type": "stream",
     "text": [
      "Epoch 63/160, Training Loss: 0.07687452102856367\n",
      "Epoch 63/160, Validation Loss: 0.056480090599872634\n"
     ]
    },
    {
     "name": "stderr",
     "output_type": "stream",
     "text": [
      "Epoch 64/160: 100%|██████████| 50/50 [00:08<00:00,  5.95batch/s, loss=0.077] \n"
     ]
    },
    {
     "name": "stdout",
     "output_type": "stream",
     "text": [
      "Epoch 64/160, Training Loss: 0.07684020360225371\n",
      "Epoch 64/160, Validation Loss: 0.05642146789394455\n"
     ]
    },
    {
     "name": "stderr",
     "output_type": "stream",
     "text": [
      "Epoch 65/160: 100%|██████████| 50/50 [00:05<00:00,  8.79batch/s, loss=0.0769]\n"
     ]
    },
    {
     "name": "stdout",
     "output_type": "stream",
     "text": [
      "Epoch 65/160, Training Loss: 0.07680682126623821\n",
      "Epoch 65/160, Validation Loss: 0.056383971515853705\n"
     ]
    },
    {
     "name": "stderr",
     "output_type": "stream",
     "text": [
      "Epoch 66/160: 100%|██████████| 50/50 [00:06<00:00,  7.96batch/s, loss=0.0769]\n"
     ]
    },
    {
     "name": "stdout",
     "output_type": "stream",
     "text": [
      "Epoch 66/160, Training Loss: 0.07677674519697336\n",
      "Epoch 66/160, Validation Loss: 0.056359036103587126\n"
     ]
    },
    {
     "name": "stderr",
     "output_type": "stream",
     "text": [
      "Epoch 67/160: 100%|██████████| 50/50 [00:07<00:00,  7.08batch/s, loss=0.0769]\n"
     ]
    },
    {
     "name": "stdout",
     "output_type": "stream",
     "text": [
      "Epoch 67/160, Training Loss: 0.07674571880128904\n",
      "Epoch 67/160, Validation Loss: 0.05633272614405831\n"
     ]
    },
    {
     "name": "stderr",
     "output_type": "stream",
     "text": [
      "Epoch 68/160: 100%|██████████| 50/50 [00:06<00:00,  8.19batch/s, loss=0.0768]\n"
     ]
    },
    {
     "name": "stdout",
     "output_type": "stream",
     "text": [
      "Epoch 68/160, Training Loss: 0.07671552848991292\n",
      "Epoch 68/160, Validation Loss: 0.056307186566758156\n"
     ]
    },
    {
     "name": "stderr",
     "output_type": "stream",
     "text": [
      "Epoch 69/160: 100%|██████████| 50/50 [00:06<00:00,  7.80batch/s, loss=0.0768]\n"
     ]
    },
    {
     "name": "stdout",
     "output_type": "stream",
     "text": [
      "Epoch 69/160, Training Loss: 0.0767005100386483\n",
      "Epoch 69/160, Validation Loss: 0.05629210040533001\n"
     ]
    },
    {
     "name": "stderr",
     "output_type": "stream",
     "text": [
      "Epoch 70/160: 100%|██████████| 50/50 [00:06<00:00,  7.49batch/s, loss=0.0768]\n"
     ]
    },
    {
     "name": "stdout",
     "output_type": "stream",
     "text": [
      "Epoch 70/160, Training Loss: 0.07665987001898832\n",
      "Epoch 70/160, Validation Loss: 0.05627204348908312\n"
     ]
    },
    {
     "name": "stderr",
     "output_type": "stream",
     "text": [
      "Epoch 71/160: 100%|██████████| 50/50 [00:05<00:00,  9.07batch/s, loss=0.0768]\n"
     ]
    },
    {
     "name": "stdout",
     "output_type": "stream",
     "text": [
      "Epoch 71/160, Training Loss: 0.07662612245972471\n",
      "Epoch 71/160, Validation Loss: 0.05624382676320496\n"
     ]
    },
    {
     "name": "stderr",
     "output_type": "stream",
     "text": [
      "Epoch 72/160: 100%|██████████| 50/50 [00:06<00:00,  8.14batch/s, loss=0.0767]\n"
     ]
    },
    {
     "name": "stdout",
     "output_type": "stream",
     "text": [
      "Epoch 72/160, Training Loss: 0.07659807495157\n",
      "Epoch 72/160, Validation Loss: 0.056223754027524865\n"
     ]
    },
    {
     "name": "stderr",
     "output_type": "stream",
     "text": [
      "Epoch 73/160: 100%|██████████| 50/50 [00:05<00:00,  8.52batch/s, loss=0.0767]\n"
     ]
    },
    {
     "name": "stdout",
     "output_type": "stream",
     "text": [
      "Epoch 73/160, Training Loss: 0.0765657042661272\n",
      "Epoch 73/160, Validation Loss: 0.05620423592131054\n"
     ]
    },
    {
     "name": "stderr",
     "output_type": "stream",
     "text": [
      "Epoch 74/160: 100%|██████████| 50/50 [00:07<00:00,  7.07batch/s, loss=0.0767]\n"
     ]
    },
    {
     "name": "stdout",
     "output_type": "stream",
     "text": [
      "Epoch 74/160, Training Loss: 0.07653625070510953\n",
      "Epoch 74/160, Validation Loss: 0.056182642594756665\n"
     ]
    },
    {
     "name": "stderr",
     "output_type": "stream",
     "text": [
      "Epoch 75/160: 100%|██████████| 50/50 [00:06<00:00,  8.04batch/s, loss=0.0766]\n"
     ]
    },
    {
     "name": "stdout",
     "output_type": "stream",
     "text": [
      "Epoch 75/160, Training Loss: 0.0765084800820465\n",
      "Epoch 75/160, Validation Loss: 0.05615692476184777\n"
     ]
    },
    {
     "name": "stderr",
     "output_type": "stream",
     "text": [
      "Epoch 76/160: 100%|██████████| 50/50 [00:05<00:00,  8.93batch/s, loss=0.0766]\n"
     ]
    },
    {
     "name": "stdout",
     "output_type": "stream",
     "text": [
      "Epoch 76/160, Training Loss: 0.07647523896486166\n",
      "Epoch 76/160, Validation Loss: 0.056127304828723946\n"
     ]
    },
    {
     "name": "stderr",
     "output_type": "stream",
     "text": [
      "Epoch 77/160: 100%|██████████| 50/50 [00:06<00:00,  7.87batch/s, loss=0.0766]\n"
     ]
    },
    {
     "name": "stdout",
     "output_type": "stream",
     "text": [
      "Epoch 77/160, Training Loss: 0.07644740217118742\n",
      "Epoch 77/160, Validation Loss: 0.05611392346846545\n"
     ]
    },
    {
     "name": "stderr",
     "output_type": "stream",
     "text": [
      "Epoch 78/160: 100%|██████████| 50/50 [00:08<00:00,  6.15batch/s, loss=0.0765]\n"
     ]
    },
    {
     "name": "stdout",
     "output_type": "stream",
     "text": [
      "Epoch 78/160, Training Loss: 0.07641781779504886\n",
      "Epoch 78/160, Validation Loss: 0.05607478525545228\n"
     ]
    },
    {
     "name": "stderr",
     "output_type": "stream",
     "text": [
      "Epoch 79/160: 100%|██████████| 50/50 [00:06<00:00,  7.18batch/s, loss=0.0765]\n"
     ]
    },
    {
     "name": "stdout",
     "output_type": "stream",
     "text": [
      "Epoch 79/160, Training Loss: 0.07638429963075673\n",
      "Epoch 79/160, Validation Loss: 0.056046551717097375\n"
     ]
    },
    {
     "name": "stderr",
     "output_type": "stream",
     "text": [
      "Epoch 80/160: 100%|██████████| 50/50 [00:05<00:00,  8.83batch/s, loss=0.0765]\n"
     ]
    },
    {
     "name": "stdout",
     "output_type": "stream",
     "text": [
      "Epoch 80/160, Training Loss: 0.07635521498742658\n",
      "Epoch 80/160, Validation Loss: 0.056015071260690684\n"
     ]
    },
    {
     "name": "stderr",
     "output_type": "stream",
     "text": [
      "Epoch 81/160: 100%|██████████| 50/50 [00:06<00:00,  8.07batch/s, loss=0.0765]\n"
     ]
    },
    {
     "name": "stdout",
     "output_type": "stream",
     "text": [
      "Epoch 81/160, Training Loss: 0.07632831681314278\n",
      "Epoch 81/160, Validation Loss: 0.0559864959500579\n"
     ]
    },
    {
     "name": "stderr",
     "output_type": "stream",
     "text": [
      "Epoch 82/160: 100%|██████████| 50/50 [00:05<00:00,  8.60batch/s, loss=0.0764]\n"
     ]
    },
    {
     "name": "stdout",
     "output_type": "stream",
     "text": [
      "Epoch 82/160, Training Loss: 0.07630034966751001\n",
      "Epoch 82/160, Validation Loss: 0.055950095458341204\n"
     ]
    },
    {
     "name": "stderr",
     "output_type": "stream",
     "text": [
      "Epoch 83/160: 100%|██████████| 50/50 [00:08<00:00,  5.56batch/s, loss=0.0764]\n"
     ]
    },
    {
     "name": "stdout",
     "output_type": "stream",
     "text": [
      "Epoch 83/160, Training Loss: 0.07626235747410398\n",
      "Epoch 83/160, Validation Loss: 0.05590665496844673\n"
     ]
    },
    {
     "name": "stderr",
     "output_type": "stream",
     "text": [
      "Epoch 84/160: 100%|██████████| 50/50 [00:06<00:00,  7.21batch/s, loss=0.0764]\n"
     ]
    },
    {
     "name": "stdout",
     "output_type": "stream",
     "text": [
      "Epoch 84/160, Training Loss: 0.07624522427350967\n",
      "Epoch 84/160, Validation Loss: 0.05587267230430321\n"
     ]
    },
    {
     "name": "stderr",
     "output_type": "stream",
     "text": [
      "Epoch 85/160: 100%|██████████| 50/50 [00:06<00:00,  8.12batch/s, loss=0.0763]\n"
     ]
    },
    {
     "name": "stdout",
     "output_type": "stream",
     "text": [
      "Epoch 85/160, Training Loss: 0.07621153653924535\n",
      "Epoch 85/160, Validation Loss: 0.05578350373013192\n"
     ]
    },
    {
     "name": "stderr",
     "output_type": "stream",
     "text": [
      "Epoch 86/160: 100%|██████████| 50/50 [00:07<00:00,  6.92batch/s, loss=0.0763]\n"
     ]
    },
    {
     "name": "stdout",
     "output_type": "stream",
     "text": [
      "Epoch 86/160, Training Loss: 0.07618462608042315\n",
      "Epoch 86/160, Validation Loss: 0.05575463496945362\n"
     ]
    },
    {
     "name": "stderr",
     "output_type": "stream",
     "text": [
      "Epoch 87/160: 100%|██████████| 50/50 [00:10<00:00,  4.76batch/s, loss=0.0763]\n"
     ]
    },
    {
     "name": "stdout",
     "output_type": "stream",
     "text": [
      "Epoch 87/160, Training Loss: 0.07615671407478865\n",
      "Epoch 87/160, Validation Loss: 0.05573512749012968\n"
     ]
    },
    {
     "name": "stderr",
     "output_type": "stream",
     "text": [
      "Epoch 88/160: 100%|██████████| 50/50 [00:07<00:00,  6.96batch/s, loss=0.0763]\n"
     ]
    },
    {
     "name": "stdout",
     "output_type": "stream",
     "text": [
      "Epoch 88/160, Training Loss: 0.07612558138244314\n",
      "Epoch 88/160, Validation Loss: 0.05571701738656492\n"
     ]
    },
    {
     "name": "stderr",
     "output_type": "stream",
     "text": [
      "Epoch 89/160: 100%|██████████| 50/50 [00:05<00:00,  8.36batch/s, loss=0.0762]\n"
     ]
    },
    {
     "name": "stdout",
     "output_type": "stream",
     "text": [
      "Epoch 89/160, Training Loss: 0.07610098735144756\n",
      "Epoch 89/160, Validation Loss: 0.055692370623886614\n"
     ]
    },
    {
     "name": "stderr",
     "output_type": "stream",
     "text": [
      "Epoch 90/160: 100%|██████████| 50/50 [00:05<00:00,  8.47batch/s, loss=0.0762]\n"
     ]
    },
    {
     "name": "stdout",
     "output_type": "stream",
     "text": [
      "Epoch 90/160, Training Loss: 0.0760715949826867\n",
      "Epoch 90/160, Validation Loss: 0.05568035565599376\n"
     ]
    },
    {
     "name": "stderr",
     "output_type": "stream",
     "text": [
      "Epoch 91/160: 100%|██████████| 50/50 [00:06<00:00,  7.95batch/s, loss=0.0762]\n"
     ]
    },
    {
     "name": "stdout",
     "output_type": "stream",
     "text": [
      "Epoch 91/160, Training Loss: 0.07604239704864357\n",
      "Epoch 91/160, Validation Loss: 0.055643934254765444\n"
     ]
    },
    {
     "name": "stderr",
     "output_type": "stream",
     "text": [
      "Epoch 92/160: 100%|██████████| 50/50 [00:06<00:00,  7.75batch/s, loss=0.0761]\n"
     ]
    },
    {
     "name": "stdout",
     "output_type": "stream",
     "text": [
      "Epoch 92/160, Training Loss: 0.07601485117361632\n",
      "Epoch 92/160, Validation Loss: 0.0556141862032445\n"
     ]
    },
    {
     "name": "stderr",
     "output_type": "stream",
     "text": [
      "Epoch 93/160: 100%|██████████| 50/50 [00:05<00:00,  9.12batch/s, loss=0.0761]\n"
     ]
    },
    {
     "name": "stdout",
     "output_type": "stream",
     "text": [
      "Epoch 93/160, Training Loss: 0.07598559151137202\n",
      "Epoch 93/160, Validation Loss: 0.05558767616580622\n"
     ]
    },
    {
     "name": "stderr",
     "output_type": "stream",
     "text": [
      "Epoch 94/160: 100%|██████████| 50/50 [00:06<00:00,  7.16batch/s, loss=0.0761]\n"
     ]
    },
    {
     "name": "stdout",
     "output_type": "stream",
     "text": [
      "Epoch 94/160, Training Loss: 0.07597181308215513\n",
      "Epoch 94/160, Validation Loss: 0.055567719234927246\n"
     ]
    },
    {
     "name": "stderr",
     "output_type": "stream",
     "text": [
      "Epoch 95/160: 100%|██████████| 50/50 [00:05<00:00,  8.98batch/s, loss=0.0761]\n"
     ]
    },
    {
     "name": "stdout",
     "output_type": "stream",
     "text": [
      "Epoch 95/160, Training Loss: 0.07594318809999084\n",
      "Epoch 95/160, Validation Loss: 0.05554591294246558\n"
     ]
    },
    {
     "name": "stderr",
     "output_type": "stream",
     "text": [
      "Epoch 96/160: 100%|██████████| 50/50 [00:06<00:00,  7.77batch/s, loss=0.076] \n"
     ]
    },
    {
     "name": "stdout",
     "output_type": "stream",
     "text": [
      "Epoch 96/160, Training Loss: 0.075914458902455\n",
      "Epoch 96/160, Validation Loss: 0.055504092732253534\n"
     ]
    },
    {
     "name": "stderr",
     "output_type": "stream",
     "text": [
      "Epoch 97/160: 100%|██████████| 50/50 [00:06<00:00,  7.85batch/s, loss=0.076] \n"
     ]
    },
    {
     "name": "stdout",
     "output_type": "stream",
     "text": [
      "Epoch 97/160, Training Loss: 0.07588020198222116\n",
      "Epoch 97/160, Validation Loss: 0.055458816209825484\n"
     ]
    },
    {
     "name": "stderr",
     "output_type": "stream",
     "text": [
      "Epoch 98/160: 100%|██████████| 50/50 [00:05<00:00,  8.94batch/s, loss=0.076] \n"
     ]
    },
    {
     "name": "stdout",
     "output_type": "stream",
     "text": [
      "Epoch 98/160, Training Loss: 0.0758578152078627\n",
      "Epoch 98/160, Validation Loss: 0.05543990211178469\n"
     ]
    },
    {
     "name": "stderr",
     "output_type": "stream",
     "text": [
      "Epoch 99/160: 100%|██████████| 50/50 [00:06<00:00,  8.12batch/s, loss=0.076] \n"
     ]
    },
    {
     "name": "stdout",
     "output_type": "stream",
     "text": [
      "Epoch 99/160, Training Loss: 0.07582418128067976\n",
      "Epoch 99/160, Validation Loss: 0.05539972693165294\n"
     ]
    },
    {
     "name": "stderr",
     "output_type": "stream",
     "text": [
      "Epoch 100/160: 100%|██████████| 50/50 [00:05<00:00,  8.63batch/s, loss=0.0759]\n"
     ]
    },
    {
     "name": "stdout",
     "output_type": "stream",
     "text": [
      "Epoch 100/160, Training Loss: 0.07580379603068112\n",
      "Epoch 100/160, Validation Loss: 0.055369737655472435\n"
     ]
    },
    {
     "name": "stderr",
     "output_type": "stream",
     "text": [
      "Epoch 101/160: 100%|██████████| 50/50 [00:06<00:00,  7.93batch/s, loss=0.0759]\n"
     ]
    },
    {
     "name": "stdout",
     "output_type": "stream",
     "text": [
      "Epoch 101/160, Training Loss: 0.0757694472928422\n",
      "Epoch 101/160, Validation Loss: 0.05534904435890133\n"
     ]
    },
    {
     "name": "stderr",
     "output_type": "stream",
     "text": [
      "Epoch 102/160: 100%|██████████| 50/50 [00:06<00:00,  8.01batch/s, loss=0.0759]\n"
     ]
    },
    {
     "name": "stdout",
     "output_type": "stream",
     "text": [
      "Epoch 102/160, Training Loss: 0.07574830093885121\n",
      "Epoch 102/160, Validation Loss: 0.055359868513338004\n"
     ]
    },
    {
     "name": "stderr",
     "output_type": "stream",
     "text": [
      "Epoch 103/160: 100%|██████████| 50/50 [00:05<00:00,  9.06batch/s, loss=0.0758]\n"
     ]
    },
    {
     "name": "stdout",
     "output_type": "stream",
     "text": [
      "Epoch 103/160, Training Loss: 0.07571430909903981\n",
      "Epoch 103/160, Validation Loss: 0.055333738996521206\n"
     ]
    },
    {
     "name": "stderr",
     "output_type": "stream",
     "text": [
      "Epoch 104/160: 100%|██████████| 50/50 [00:06<00:00,  8.00batch/s, loss=0.0758]\n"
     ]
    },
    {
     "name": "stdout",
     "output_type": "stream",
     "text": [
      "Epoch 104/160, Training Loss: 0.07568863348217182\n",
      "Epoch 104/160, Validation Loss: 0.05529888126742496\n"
     ]
    },
    {
     "name": "stderr",
     "output_type": "stream",
     "text": [
      "Epoch 105/160: 100%|██████████| 50/50 [00:05<00:00,  8.98batch/s, loss=0.0758]\n"
     ]
    },
    {
     "name": "stdout",
     "output_type": "stream",
     "text": [
      "Epoch 105/160, Training Loss: 0.0756642814087937\n",
      "Epoch 105/160, Validation Loss: 0.05527102766411413\n"
     ]
    },
    {
     "name": "stderr",
     "output_type": "stream",
     "text": [
      "Epoch 106/160: 100%|██████████| 50/50 [00:06<00:00,  8.31batch/s, loss=0.0758]\n"
     ]
    },
    {
     "name": "stdout",
     "output_type": "stream",
     "text": [
      "Epoch 106/160, Training Loss: 0.07563275572036987\n",
      "Epoch 106/160, Validation Loss: 0.05524220699548787\n"
     ]
    },
    {
     "name": "stderr",
     "output_type": "stream",
     "text": [
      "Epoch 107/160: 100%|██████████| 50/50 [00:05<00:00,  8.50batch/s, loss=0.0757]\n"
     ]
    },
    {
     "name": "stdout",
     "output_type": "stream",
     "text": [
      "Epoch 107/160, Training Loss: 0.07560356827207687\n",
      "Epoch 107/160, Validation Loss: 0.05521395600703354\n"
     ]
    },
    {
     "name": "stderr",
     "output_type": "stream",
     "text": [
      "Epoch 108/160: 100%|██████████| 50/50 [00:05<00:00,  8.41batch/s, loss=0.0757]\n"
     ]
    },
    {
     "name": "stdout",
     "output_type": "stream",
     "text": [
      "Epoch 108/160, Training Loss: 0.0755768652998713\n",
      "Epoch 108/160, Validation Loss: 0.055181165408383984\n"
     ]
    },
    {
     "name": "stderr",
     "output_type": "stream",
     "text": [
      "Epoch 109/160: 100%|██████████| 50/50 [00:06<00:00,  8.25batch/s, loss=0.0757]\n"
     ]
    },
    {
     "name": "stdout",
     "output_type": "stream",
     "text": [
      "Epoch 109/160, Training Loss: 0.0755383335134944\n",
      "Epoch 109/160, Validation Loss: 0.055129301729284694\n"
     ]
    },
    {
     "name": "stderr",
     "output_type": "stream",
     "text": [
      "Epoch 110/160: 100%|██████████| 50/50 [00:06<00:00,  8.04batch/s, loss=0.0756]\n"
     ]
    },
    {
     "name": "stdout",
     "output_type": "stream",
     "text": [
      "Epoch 110/160, Training Loss: 0.07551275011993648\n",
      "Epoch 110/160, Validation Loss: 0.05509521379811705\n"
     ]
    },
    {
     "name": "stderr",
     "output_type": "stream",
     "text": [
      "Epoch 111/160: 100%|██████████| 50/50 [00:05<00:00,  9.02batch/s, loss=0.0756]\n"
     ]
    },
    {
     "name": "stdout",
     "output_type": "stream",
     "text": [
      "Epoch 111/160, Training Loss: 0.07548600716731421\n",
      "Epoch 111/160, Validation Loss: 0.055063596885559056\n"
     ]
    },
    {
     "name": "stderr",
     "output_type": "stream",
     "text": [
      "Epoch 112/160: 100%|██████████| 50/50 [00:06<00:00,  7.94batch/s, loss=0.0756]\n"
     ]
    },
    {
     "name": "stdout",
     "output_type": "stream",
     "text": [
      "Epoch 112/160, Training Loss: 0.07545802064285165\n",
      "Epoch 112/160, Validation Loss: 0.05504148537855885\n"
     ]
    },
    {
     "name": "stderr",
     "output_type": "stream",
     "text": [
      "Epoch 113/160: 100%|██████████| 50/50 [00:05<00:00,  8.67batch/s, loss=0.0756]\n"
     ]
    },
    {
     "name": "stdout",
     "output_type": "stream",
     "text": [
      "Epoch 113/160, Training Loss: 0.07542691399870506\n",
      "Epoch 113/160, Validation Loss: 0.055017019967443376\n"
     ]
    },
    {
     "name": "stderr",
     "output_type": "stream",
     "text": [
      "Epoch 114/160: 100%|██████████| 50/50 [00:06<00:00,  7.90batch/s, loss=0.0755]\n"
     ]
    },
    {
     "name": "stdout",
     "output_type": "stream",
     "text": [
      "Epoch 114/160, Training Loss: 0.07539936458876902\n",
      "Epoch 114/160, Validation Loss: 0.05498681298099912\n"
     ]
    },
    {
     "name": "stderr",
     "output_type": "stream",
     "text": [
      "Epoch 115/160: 100%|██████████| 50/50 [00:06<00:00,  8.04batch/s, loss=0.0755]\n"
     ]
    },
    {
     "name": "stdout",
     "output_type": "stream",
     "text": [
      "Epoch 115/160, Training Loss: 0.07537026010692792\n",
      "Epoch 115/160, Validation Loss: 0.05493013629148357\n"
     ]
    },
    {
     "name": "stderr",
     "output_type": "stream",
     "text": [
      "Epoch 116/160: 100%|██████████| 50/50 [00:05<00:00,  8.76batch/s, loss=0.0755]\n"
     ]
    },
    {
     "name": "stdout",
     "output_type": "stream",
     "text": [
      "Epoch 116/160, Training Loss: 0.07534444504197707\n",
      "Epoch 116/160, Validation Loss: 0.05491261633203858\n"
     ]
    },
    {
     "name": "stderr",
     "output_type": "stream",
     "text": [
      "Epoch 117/160: 100%|██████████| 50/50 [00:06<00:00,  7.57batch/s, loss=0.0754]\n"
     ]
    },
    {
     "name": "stdout",
     "output_type": "stream",
     "text": [
      "Epoch 117/160, Training Loss: 0.07531193806489571\n",
      "Epoch 117/160, Validation Loss: 0.054873080753752246\n"
     ]
    },
    {
     "name": "stderr",
     "output_type": "stream",
     "text": [
      "Epoch 118/160: 100%|██████████| 50/50 [00:05<00:00,  8.62batch/s, loss=0.0754]\n"
     ]
    },
    {
     "name": "stdout",
     "output_type": "stream",
     "text": [
      "Epoch 118/160, Training Loss: 0.07528735318465662\n",
      "Epoch 118/160, Validation Loss: 0.05484616808723141\n"
     ]
    },
    {
     "name": "stderr",
     "output_type": "stream",
     "text": [
      "Epoch 119/160: 100%|██████████| 50/50 [00:05<00:00,  8.39batch/s, loss=0.0754]\n"
     ]
    },
    {
     "name": "stdout",
     "output_type": "stream",
     "text": [
      "Epoch 119/160, Training Loss: 0.07526132219654838\n",
      "Epoch 119/160, Validation Loss: 0.05481378476375351\n"
     ]
    },
    {
     "name": "stderr",
     "output_type": "stream",
     "text": [
      "Epoch 120/160: 100%|██████████| 50/50 [00:06<00:00,  8.09batch/s, loss=0.0754]\n"
     ]
    },
    {
     "name": "stdout",
     "output_type": "stream",
     "text": [
      "Epoch 120/160, Training Loss: 0.07523274367690407\n",
      "Epoch 120/160, Validation Loss: 0.05477632521629889\n"
     ]
    },
    {
     "name": "stderr",
     "output_type": "stream",
     "text": [
      "Epoch 121/160: 100%|██████████| 50/50 [00:05<00:00,  9.00batch/s, loss=0.0753]\n"
     ]
    },
    {
     "name": "stdout",
     "output_type": "stream",
     "text": [
      "Epoch 121/160, Training Loss: 0.07520752038235677\n",
      "Epoch 121/160, Validation Loss: 0.054738251329019376\n"
     ]
    },
    {
     "name": "stderr",
     "output_type": "stream",
     "text": [
      "Epoch 122/160: 100%|██████████| 50/50 [00:06<00:00,  8.25batch/s, loss=0.0753]\n"
     ]
    },
    {
     "name": "stdout",
     "output_type": "stream",
     "text": [
      "Epoch 122/160, Training Loss: 0.07517755397874276\n",
      "Epoch 122/160, Validation Loss: 0.054721604401977174\n"
     ]
    },
    {
     "name": "stderr",
     "output_type": "stream",
     "text": [
      "Epoch 123/160: 100%|██████████| 50/50 [00:05<00:00,  8.71batch/s, loss=0.0753]\n"
     ]
    },
    {
     "name": "stdout",
     "output_type": "stream",
     "text": [
      "Epoch 123/160, Training Loss: 0.07514633214066732\n",
      "Epoch 123/160, Validation Loss: 0.05471427452817727\n"
     ]
    },
    {
     "name": "stderr",
     "output_type": "stream",
     "text": [
      "Epoch 124/160: 100%|██████████| 50/50 [00:05<00:00,  8.34batch/s, loss=0.0753]\n"
     ]
    },
    {
     "name": "stdout",
     "output_type": "stream",
     "text": [
      "Epoch 124/160, Training Loss: 0.07512121954547511\n",
      "Epoch 124/160, Validation Loss: 0.054640526879525024\n"
     ]
    },
    {
     "name": "stderr",
     "output_type": "stream",
     "text": [
      "Epoch 125/160: 100%|██████████| 50/50 [00:06<00:00,  7.90batch/s, loss=0.0752]\n"
     ]
    },
    {
     "name": "stdout",
     "output_type": "stream",
     "text": [
      "Epoch 125/160, Training Loss: 0.07509362949710485\n",
      "Epoch 125/160, Validation Loss: 0.054628282340366444\n"
     ]
    },
    {
     "name": "stderr",
     "output_type": "stream",
     "text": [
      "Epoch 126/160: 100%|██████████| 50/50 [00:05<00:00,  8.71batch/s, loss=0.0752]\n"
     ]
    },
    {
     "name": "stdout",
     "output_type": "stream",
     "text": [
      "Epoch 126/160, Training Loss: 0.07506379686903468\n",
      "Epoch 126/160, Validation Loss: 0.0546061203480332\n"
     ]
    },
    {
     "name": "stderr",
     "output_type": "stream",
     "text": [
      "Epoch 127/160: 100%|██████████| 50/50 [00:06<00:00,  7.84batch/s, loss=0.0752]\n"
     ]
    },
    {
     "name": "stdout",
     "output_type": "stream",
     "text": [
      "Epoch 127/160, Training Loss: 0.07503241132116628\n",
      "Epoch 127/160, Validation Loss: 0.054553099758913405\n"
     ]
    },
    {
     "name": "stderr",
     "output_type": "stream",
     "text": [
      "Epoch 128/160: 100%|██████████| 50/50 [00:06<00:00,  7.83batch/s, loss=0.0751]\n"
     ]
    },
    {
     "name": "stdout",
     "output_type": "stream",
     "text": [
      "Epoch 128/160, Training Loss: 0.0750059925235377\n",
      "Epoch 128/160, Validation Loss: 0.054542530755675334\n"
     ]
    },
    {
     "name": "stderr",
     "output_type": "stream",
     "text": [
      "Epoch 129/160: 100%|██████████| 50/50 [00:05<00:00,  8.43batch/s, loss=0.0751]\n"
     ]
    },
    {
     "name": "stdout",
     "output_type": "stream",
     "text": [
      "Epoch 129/160, Training Loss: 0.0749725031565643\n",
      "Epoch 129/160, Validation Loss: 0.054482553188341075\n"
     ]
    },
    {
     "name": "stderr",
     "output_type": "stream",
     "text": [
      "Epoch 130/160: 100%|██████████| 50/50 [00:06<00:00,  7.83batch/s, loss=0.0751]\n"
     ]
    },
    {
     "name": "stdout",
     "output_type": "stream",
     "text": [
      "Epoch 130/160, Training Loss: 0.07495010639264295\n",
      "Epoch 130/160, Validation Loss: 0.05444885643347173\n"
     ]
    },
    {
     "name": "stderr",
     "output_type": "stream",
     "text": [
      "Epoch 131/160: 100%|██████████| 50/50 [00:05<00:00,  9.29batch/s, loss=0.075] \n"
     ]
    },
    {
     "name": "stdout",
     "output_type": "stream",
     "text": [
      "Epoch 131/160, Training Loss: 0.07491773284867789\n",
      "Epoch 131/160, Validation Loss: 0.05442533857234702\n"
     ]
    },
    {
     "name": "stderr",
     "output_type": "stream",
     "text": [
      "Epoch 132/160: 100%|██████████| 50/50 [00:06<00:00,  7.95batch/s, loss=0.075] \n"
     ]
    },
    {
     "name": "stdout",
     "output_type": "stream",
     "text": [
      "Epoch 132/160, Training Loss: 0.07488353831044513\n",
      "Epoch 132/160, Validation Loss: 0.05440153004359346\n"
     ]
    },
    {
     "name": "stderr",
     "output_type": "stream",
     "text": [
      "Epoch 133/160: 100%|██████████| 50/50 [00:06<00:00,  8.11batch/s, loss=0.075] \n"
     ]
    },
    {
     "name": "stdout",
     "output_type": "stream",
     "text": [
      "Epoch 133/160, Training Loss: 0.07486119690111383\n",
      "Epoch 133/160, Validation Loss: 0.05437831193571653\n"
     ]
    },
    {
     "name": "stderr",
     "output_type": "stream",
     "text": [
      "Epoch 134/160: 100%|██████████| 50/50 [00:05<00:00,  8.94batch/s, loss=0.075] \n"
     ]
    },
    {
     "name": "stdout",
     "output_type": "stream",
     "text": [
      "Epoch 134/160, Training Loss: 0.07483374990615553\n",
      "Epoch 134/160, Validation Loss: 0.054338999258271195\n"
     ]
    },
    {
     "name": "stderr",
     "output_type": "stream",
     "text": [
      "Epoch 135/160: 100%|██████████| 50/50 [00:06<00:00,  8.07batch/s, loss=0.0749]\n"
     ]
    },
    {
     "name": "stdout",
     "output_type": "stream",
     "text": [
      "Epoch 135/160, Training Loss: 0.07480469253201391\n",
      "Epoch 135/160, Validation Loss: 0.054303660850464695\n"
     ]
    },
    {
     "name": "stderr",
     "output_type": "stream",
     "text": [
      "Epoch 136/160: 100%|██████████| 50/50 [00:05<00:00,  8.74batch/s, loss=0.0749]\n"
     ]
    },
    {
     "name": "stdout",
     "output_type": "stream",
     "text": [
      "Epoch 136/160, Training Loss: 0.07477955260889949\n",
      "Epoch 136/160, Validation Loss: 0.054277698505265363\n"
     ]
    },
    {
     "name": "stderr",
     "output_type": "stream",
     "text": [
      "Epoch 137/160: 100%|██████████| 50/50 [00:06<00:00,  7.89batch/s, loss=0.0749]\n"
     ]
    },
    {
     "name": "stdout",
     "output_type": "stream",
     "text": [
      "Epoch 137/160, Training Loss: 0.0747553241647372\n",
      "Epoch 137/160, Validation Loss: 0.05423249250398544\n"
     ]
    },
    {
     "name": "stderr",
     "output_type": "stream",
     "text": [
      "Epoch 138/160: 100%|██████████| 50/50 [00:06<00:00,  7.76batch/s, loss=0.0749]\n"
     ]
    },
    {
     "name": "stdout",
     "output_type": "stream",
     "text": [
      "Epoch 138/160, Training Loss: 0.07472662856146661\n",
      "Epoch 138/160, Validation Loss: 0.05419871017576537\n"
     ]
    },
    {
     "name": "stderr",
     "output_type": "stream",
     "text": [
      "Epoch 139/160: 100%|██████████| 50/50 [00:05<00:00,  8.79batch/s, loss=0.0748]\n"
     ]
    },
    {
     "name": "stdout",
     "output_type": "stream",
     "text": [
      "Epoch 139/160, Training Loss: 0.07469505669259578\n",
      "Epoch 139/160, Validation Loss: 0.05420766671722623\n"
     ]
    },
    {
     "name": "stderr",
     "output_type": "stream",
     "text": [
      "Epoch 140/160: 100%|██████████| 50/50 [00:06<00:00,  7.50batch/s, loss=0.0748]\n"
     ]
    },
    {
     "name": "stdout",
     "output_type": "stream",
     "text": [
      "Epoch 140/160, Training Loss: 0.07466868999891652\n",
      "Epoch 140/160, Validation Loss: 0.05415805262294094\n"
     ]
    },
    {
     "name": "stderr",
     "output_type": "stream",
     "text": [
      "Epoch 141/160: 100%|██████████| 50/50 [00:05<00:00,  9.20batch/s, loss=0.0748]\n"
     ]
    },
    {
     "name": "stdout",
     "output_type": "stream",
     "text": [
      "Epoch 141/160, Training Loss: 0.07464318139291796\n",
      "Epoch 141/160, Validation Loss: 0.05418018999886137\n"
     ]
    },
    {
     "name": "stderr",
     "output_type": "stream",
     "text": [
      "Epoch 142/160: 100%|██████████| 50/50 [00:06<00:00,  7.70batch/s, loss=0.0747]\n"
     ]
    },
    {
     "name": "stdout",
     "output_type": "stream",
     "text": [
      "Epoch 142/160, Training Loss: 0.0746063730650969\n",
      "Epoch 142/160, Validation Loss: 0.054192212111103866\n"
     ]
    },
    {
     "name": "stderr",
     "output_type": "stream",
     "text": [
      "Epoch 143/160: 100%|██████████| 50/50 [00:06<00:00,  7.89batch/s, loss=0.0747]\n"
     ]
    },
    {
     "name": "stdout",
     "output_type": "stream",
     "text": [
      "Epoch 143/160, Training Loss: 0.07457633917773765\n",
      "Epoch 143/160, Validation Loss: 0.054164376778555866\n"
     ]
    },
    {
     "name": "stderr",
     "output_type": "stream",
     "text": [
      "Epoch 144/160: 100%|██████████| 50/50 [00:05<00:00,  8.37batch/s, loss=0.0747]\n"
     ]
    },
    {
     "name": "stdout",
     "output_type": "stream",
     "text": [
      "Epoch 144/160, Training Loss: 0.07455029073766568\n",
      "Epoch 144/160, Validation Loss: 0.05412995890052234\n"
     ]
    },
    {
     "name": "stderr",
     "output_type": "stream",
     "text": [
      "Epoch 145/160: 100%|██████████| 50/50 [00:06<00:00,  8.05batch/s, loss=0.0747]\n"
     ]
    },
    {
     "name": "stdout",
     "output_type": "stream",
     "text": [
      "Epoch 145/160, Training Loss: 0.07452480410585333\n",
      "Epoch 145/160, Validation Loss: 0.054103997899649994\n"
     ]
    },
    {
     "name": "stderr",
     "output_type": "stream",
     "text": [
      "Epoch 146/160: 100%|██████████| 50/50 [00:06<00:00,  8.19batch/s, loss=0.0746]\n"
     ]
    },
    {
     "name": "stdout",
     "output_type": "stream",
     "text": [
      "Epoch 146/160, Training Loss: 0.07451284814029664\n",
      "Epoch 146/160, Validation Loss: 0.054079815152713116\n"
     ]
    },
    {
     "name": "stderr",
     "output_type": "stream",
     "text": [
      "Epoch 147/160: 100%|██████████| 50/50 [00:05<00:00,  8.81batch/s, loss=0.0746]\n"
     ]
    },
    {
     "name": "stdout",
     "output_type": "stream",
     "text": [
      "Epoch 147/160, Training Loss: 0.07448608815243232\n",
      "Epoch 147/160, Validation Loss: 0.05407117840581936\n"
     ]
    },
    {
     "name": "stderr",
     "output_type": "stream",
     "text": [
      "Epoch 148/160: 100%|██████████| 50/50 [00:06<00:00,  7.80batch/s, loss=0.0746]\n"
     ]
    },
    {
     "name": "stdout",
     "output_type": "stream",
     "text": [
      "Epoch 148/160, Training Loss: 0.07445536700553446\n",
      "Epoch 148/160, Validation Loss: 0.05404576273157745\n"
     ]
    },
    {
     "name": "stderr",
     "output_type": "stream",
     "text": [
      "Epoch 149/160: 100%|██████████| 50/50 [00:05<00:00,  8.61batch/s, loss=0.0746]\n"
     ]
    },
    {
     "name": "stdout",
     "output_type": "stream",
     "text": [
      "Epoch 149/160, Training Loss: 0.0744213568765988\n",
      "Epoch 149/160, Validation Loss: 0.05401596193485113\n"
     ]
    },
    {
     "name": "stderr",
     "output_type": "stream",
     "text": [
      "Epoch 150/160: 100%|██████████| 50/50 [00:06<00:00,  7.97batch/s, loss=0.0745]\n"
     ]
    },
    {
     "name": "stdout",
     "output_type": "stream",
     "text": [
      "Epoch 150/160, Training Loss: 0.07439826565998428\n",
      "Epoch 150/160, Validation Loss: 0.05399711228859829\n"
     ]
    },
    {
     "name": "stderr",
     "output_type": "stream",
     "text": [
      "Epoch 151/160: 100%|██████████| 50/50 [00:06<00:00,  8.08batch/s, loss=0.0745]\n"
     ]
    },
    {
     "name": "stdout",
     "output_type": "stream",
     "text": [
      "Epoch 151/160, Training Loss: 0.07436976995415953\n",
      "Epoch 151/160, Validation Loss: 0.0539608067188403\n"
     ]
    },
    {
     "name": "stderr",
     "output_type": "stream",
     "text": [
      "Epoch 152/160: 100%|██████████| 50/50 [00:05<00:00,  8.64batch/s, loss=0.0745]\n"
     ]
    },
    {
     "name": "stdout",
     "output_type": "stream",
     "text": [
      "Epoch 152/160, Training Loss: 0.07434356692399044\n",
      "Epoch 152/160, Validation Loss: 0.05392899776184178\n"
     ]
    },
    {
     "name": "stderr",
     "output_type": "stream",
     "text": [
      "Epoch 153/160: 100%|██████████| 50/50 [00:06<00:00,  8.23batch/s, loss=0.0744]\n"
     ]
    },
    {
     "name": "stdout",
     "output_type": "stream",
     "text": [
      "Epoch 153/160, Training Loss: 0.0743137101037737\n",
      "Epoch 153/160, Validation Loss: 0.05388145398046441\n"
     ]
    },
    {
     "name": "stderr",
     "output_type": "stream",
     "text": [
      "Epoch 154/160: 100%|██████████| 50/50 [00:05<00:00,  8.91batch/s, loss=0.0744]\n"
     ]
    },
    {
     "name": "stdout",
     "output_type": "stream",
     "text": [
      "Epoch 154/160, Training Loss: 0.0742891975517522\n",
      "Epoch 154/160, Validation Loss: 0.053846888718695564\n"
     ]
    },
    {
     "name": "stderr",
     "output_type": "stream",
     "text": [
      "Epoch 155/160: 100%|██████████| 50/50 [00:06<00:00,  7.84batch/s, loss=0.0744]\n"
     ]
    },
    {
     "name": "stdout",
     "output_type": "stream",
     "text": [
      "Epoch 155/160, Training Loss: 0.0742613762177344\n",
      "Epoch 155/160, Validation Loss: 0.05381523283728715\n"
     ]
    },
    {
     "name": "stderr",
     "output_type": "stream",
     "text": [
      "Epoch 156/160: 100%|██████████| 50/50 [00:06<00:00,  8.16batch/s, loss=0.0744]\n"
     ]
    },
    {
     "name": "stdout",
     "output_type": "stream",
     "text": [
      "Epoch 156/160, Training Loss: 0.07423653276302376\n",
      "Epoch 156/160, Validation Loss: 0.05377619771605607\n"
     ]
    },
    {
     "name": "stderr",
     "output_type": "stream",
     "text": [
      "Epoch 157/160: 100%|██████████| 50/50 [00:05<00:00,  9.43batch/s, loss=0.0743]\n"
     ]
    },
    {
     "name": "stdout",
     "output_type": "stream",
     "text": [
      "Epoch 157/160, Training Loss: 0.0742056588942478\n",
      "Epoch 157/160, Validation Loss: 0.053740714946245556\n"
     ]
    },
    {
     "name": "stderr",
     "output_type": "stream",
     "text": [
      "Epoch 158/160: 100%|██████████| 50/50 [00:06<00:00,  7.61batch/s, loss=0.0743]\n"
     ]
    },
    {
     "name": "stdout",
     "output_type": "stream",
     "text": [
      "Epoch 158/160, Training Loss: 0.0741784270396509\n",
      "Epoch 158/160, Validation Loss: 0.053702433443348956\n"
     ]
    },
    {
     "name": "stderr",
     "output_type": "stream",
     "text": [
      "Epoch 159/160: 100%|██████████| 50/50 [00:05<00:00,  8.57batch/s, loss=0.0743]\n"
     ]
    },
    {
     "name": "stdout",
     "output_type": "stream",
     "text": [
      "Epoch 159/160, Training Loss: 0.07415396467804418\n",
      "Epoch 159/160, Validation Loss: 0.05365930920334693\n"
     ]
    },
    {
     "name": "stderr",
     "output_type": "stream",
     "text": [
      "Epoch 160/160: 100%|██████████| 50/50 [00:06<00:00,  8.30batch/s, loss=0.0743]\n"
     ]
    },
    {
     "name": "stdout",
     "output_type": "stream",
     "text": [
      "Epoch 160/160, Training Loss: 0.07412818089636694\n",
      "Epoch 160/160, Validation Loss: 0.053617816253404664\n"
     ]
    },
    {
     "name": "stderr",
     "output_type": "stream",
     "text": [
      "Epoch 1/160: 100%|██████████| 41/41 [00:06<00:00,  6.43batch/s, loss=0.0748]\n"
     ]
    },
    {
     "name": "stdout",
     "output_type": "stream",
     "text": [
      "Epoch 1/160, Training Loss: 0.0738250709529759\n",
      "Epoch 1/160, Validation Loss: 0.0538385932042719\n"
     ]
    },
    {
     "name": "stderr",
     "output_type": "stream",
     "text": [
      "Epoch 2/160: 100%|██████████| 41/41 [00:06<00:00,  6.26batch/s, loss=0.0747]\n"
     ]
    },
    {
     "name": "stdout",
     "output_type": "stream",
     "text": [
      "Epoch 2/160, Training Loss: 0.07374602139240678\n",
      "Epoch 2/160, Validation Loss: 0.05406975317353484\n"
     ]
    },
    {
     "name": "stderr",
     "output_type": "stream",
     "text": [
      "Epoch 3/160: 100%|██████████| 41/41 [00:06<00:00,  6.61batch/s, loss=0.0747]\n"
     ]
    },
    {
     "name": "stdout",
     "output_type": "stream",
     "text": [
      "Epoch 3/160, Training Loss: 0.07371821107479742\n",
      "Epoch 3/160, Validation Loss: 0.05421145461401069\n"
     ]
    },
    {
     "name": "stderr",
     "output_type": "stream",
     "text": [
      "Epoch 4/160: 100%|██████████| 41/41 [00:05<00:00,  6.90batch/s, loss=0.0746]\n"
     ]
    },
    {
     "name": "stdout",
     "output_type": "stream",
     "text": [
      "Epoch 4/160, Training Loss: 0.07368701995151483\n",
      "Epoch 4/160, Validation Loss: 0.054275248286732254\n"
     ]
    },
    {
     "name": "stderr",
     "output_type": "stream",
     "text": [
      "Epoch 5/160: 100%|██████████| 41/41 [00:05<00:00,  7.82batch/s, loss=0.0746]\n"
     ]
    },
    {
     "name": "stdout",
     "output_type": "stream",
     "text": [
      "Epoch 5/160, Training Loss: 0.07367669491964979\n",
      "Epoch 5/160, Validation Loss: 0.05427061765210851\n"
     ]
    },
    {
     "name": "stderr",
     "output_type": "stream",
     "text": [
      "Epoch 6/160: 100%|██████████| 41/41 [00:05<00:00,  6.84batch/s, loss=0.0746]\n"
     ]
    },
    {
     "name": "stdout",
     "output_type": "stream",
     "text": [
      "Epoch 6/160, Training Loss: 0.0736639119552604\n",
      "Epoch 6/160, Validation Loss: 0.0542644015941919\n"
     ]
    },
    {
     "name": "stderr",
     "output_type": "stream",
     "text": [
      "Epoch 7/160: 100%|██████████| 41/41 [00:05<00:00,  7.60batch/s, loss=0.0746]\n"
     ]
    },
    {
     "name": "stdout",
     "output_type": "stream",
     "text": [
      "Epoch 7/160, Training Loss: 0.07365227177422436\n",
      "Epoch 7/160, Validation Loss: 0.054250587168205126\n"
     ]
    },
    {
     "name": "stderr",
     "output_type": "stream",
     "text": [
      "Epoch 8/160: 100%|██████████| 41/41 [00:05<00:00,  6.93batch/s, loss=0.0746]\n"
     ]
    },
    {
     "name": "stdout",
     "output_type": "stream",
     "text": [
      "Epoch 8/160, Training Loss: 0.07364154664045344\n",
      "Epoch 8/160, Validation Loss: 0.05423975224044562\n"
     ]
    },
    {
     "name": "stderr",
     "output_type": "stream",
     "text": [
      "Epoch 9/160: 100%|██████████| 41/41 [00:05<00:00,  7.29batch/s, loss=0.0746]\n"
     ]
    },
    {
     "name": "stdout",
     "output_type": "stream",
     "text": [
      "Epoch 9/160, Training Loss: 0.07363048925228123\n",
      "Epoch 9/160, Validation Loss: 0.05423250673085742\n"
     ]
    },
    {
     "name": "stderr",
     "output_type": "stream",
     "text": [
      "Epoch 10/160: 100%|██████████| 41/41 [00:05<00:00,  7.03batch/s, loss=0.0746]\n"
     ]
    },
    {
     "name": "stdout",
     "output_type": "stream",
     "text": [
      "Epoch 10/160, Training Loss: 0.0736200559202284\n",
      "Epoch 10/160, Validation Loss: 0.054208279910599344\n"
     ]
    },
    {
     "name": "stderr",
     "output_type": "stream",
     "text": [
      "Epoch 11/160: 100%|██████████| 41/41 [00:05<00:00,  7.19batch/s, loss=0.0745]\n"
     ]
    },
    {
     "name": "stdout",
     "output_type": "stream",
     "text": [
      "Epoch 11/160, Training Loss: 0.07360876213281287\n",
      "Epoch 11/160, Validation Loss: 0.054191083107736356\n"
     ]
    },
    {
     "name": "stderr",
     "output_type": "stream",
     "text": [
      "Epoch 12/160: 100%|██████████| 41/41 [00:05<00:00,  7.84batch/s, loss=0.0745]\n"
     ]
    },
    {
     "name": "stdout",
     "output_type": "stream",
     "text": [
      "Epoch 12/160, Training Loss: 0.07359828331280159\n",
      "Epoch 12/160, Validation Loss: 0.05417684855075154\n"
     ]
    },
    {
     "name": "stderr",
     "output_type": "stream",
     "text": [
      "Epoch 13/160: 100%|██████████| 41/41 [00:05<00:00,  7.12batch/s, loss=0.0745]\n"
     ]
    },
    {
     "name": "stdout",
     "output_type": "stream",
     "text": [
      "Epoch 13/160, Training Loss: 0.07358538171859999\n",
      "Epoch 13/160, Validation Loss: 0.054170798959301526\n"
     ]
    },
    {
     "name": "stderr",
     "output_type": "stream",
     "text": [
      "Epoch 14/160: 100%|██████████| 41/41 [00:05<00:00,  7.47batch/s, loss=0.0745]\n"
     ]
    },
    {
     "name": "stdout",
     "output_type": "stream",
     "text": [
      "Epoch 14/160, Training Loss: 0.07357301518181214\n",
      "Epoch 14/160, Validation Loss: 0.05416286541758124\n"
     ]
    },
    {
     "name": "stderr",
     "output_type": "stream",
     "text": [
      "Epoch 15/160: 100%|██████████| 41/41 [00:06<00:00,  5.99batch/s, loss=0.0745]\n"
     ]
    },
    {
     "name": "stdout",
     "output_type": "stream",
     "text": [
      "Epoch 15/160, Training Loss: 0.07356068251789244\n",
      "Epoch 15/160, Validation Loss: 0.0541487434613459\n"
     ]
    },
    {
     "name": "stderr",
     "output_type": "stream",
     "text": [
      "Epoch 16/160: 100%|██████████| 41/41 [00:05<00:00,  7.29batch/s, loss=0.0745]\n"
     ]
    },
    {
     "name": "stdout",
     "output_type": "stream",
     "text": [
      "Epoch 16/160, Training Loss: 0.07354898021680346\n",
      "Epoch 16/160, Validation Loss: 0.05414125218928476\n"
     ]
    },
    {
     "name": "stderr",
     "output_type": "stream",
     "text": [
      "Epoch 17/160: 100%|██████████| 41/41 [00:05<00:00,  7.92batch/s, loss=0.0745]\n"
     ]
    },
    {
     "name": "stdout",
     "output_type": "stream",
     "text": [
      "Epoch 17/160, Training Loss: 0.07353607970811378\n",
      "Epoch 17/160, Validation Loss: 0.05413360714910927\n"
     ]
    },
    {
     "name": "stderr",
     "output_type": "stream",
     "text": [
      "Epoch 18/160: 100%|██████████| 41/41 [00:05<00:00,  7.22batch/s, loss=0.0745]\n"
     ]
    },
    {
     "name": "stdout",
     "output_type": "stream",
     "text": [
      "Epoch 18/160, Training Loss: 0.07352122199721672\n",
      "Epoch 18/160, Validation Loss: 0.054120077927326087\n"
     ]
    },
    {
     "name": "stderr",
     "output_type": "stream",
     "text": [
      "Epoch 19/160: 100%|██████████| 41/41 [00:05<00:00,  7.49batch/s, loss=0.0744]\n"
     ]
    },
    {
     "name": "stdout",
     "output_type": "stream",
     "text": [
      "Epoch 19/160, Training Loss: 0.07351035236355047\n",
      "Epoch 19/160, Validation Loss: 0.05410847058782937\n"
     ]
    },
    {
     "name": "stderr",
     "output_type": "stream",
     "text": [
      "Epoch 20/160: 100%|██████████| 41/41 [00:06<00:00,  6.82batch/s, loss=0.0744]\n"
     ]
    },
    {
     "name": "stdout",
     "output_type": "stream",
     "text": [
      "Epoch 20/160, Training Loss: 0.0734991089373398\n",
      "Epoch 20/160, Validation Loss: 0.054099866150589634\n"
     ]
    },
    {
     "name": "stderr",
     "output_type": "stream",
     "text": [
      "Epoch 21/160: 100%|██████████| 41/41 [00:05<00:00,  7.75batch/s, loss=0.0744]\n"
     ]
    },
    {
     "name": "stdout",
     "output_type": "stream",
     "text": [
      "Epoch 21/160, Training Loss: 0.07348750164242936\n",
      "Epoch 21/160, Validation Loss: 0.054086742508301235\n"
     ]
    },
    {
     "name": "stderr",
     "output_type": "stream",
     "text": [
      "Epoch 22/160: 100%|██████████| 41/41 [00:05<00:00,  7.15batch/s, loss=0.0744]\n"
     ]
    },
    {
     "name": "stdout",
     "output_type": "stream",
     "text": [
      "Epoch 22/160, Training Loss: 0.07347589845297857\n",
      "Epoch 22/160, Validation Loss: 0.05407187067418517\n"
     ]
    },
    {
     "name": "stderr",
     "output_type": "stream",
     "text": [
      "Epoch 23/160: 100%|██████████| 41/41 [00:05<00:00,  7.83batch/s, loss=0.0744]\n"
     ]
    },
    {
     "name": "stdout",
     "output_type": "stream",
     "text": [
      "Epoch 23/160, Training Loss: 0.07346427034527374\n",
      "Epoch 23/160, Validation Loss: 0.054062129268652497\n"
     ]
    },
    {
     "name": "stderr",
     "output_type": "stream",
     "text": [
      "Epoch 24/160: 100%|██████████| 41/41 [00:05<00:00,  6.91batch/s, loss=0.0744]\n"
     ]
    },
    {
     "name": "stdout",
     "output_type": "stream",
     "text": [
      "Epoch 24/160, Training Loss: 0.0734530365645861\n",
      "Epoch 24/160, Validation Loss: 0.05405248794358777\n"
     ]
    },
    {
     "name": "stderr",
     "output_type": "stream",
     "text": [
      "Epoch 25/160: 100%|██████████| 41/41 [00:05<00:00,  6.90batch/s, loss=0.0744]\n"
     ]
    },
    {
     "name": "stdout",
     "output_type": "stream",
     "text": [
      "Epoch 25/160, Training Loss: 0.0734416982457664\n",
      "Epoch 25/160, Validation Loss: 0.05404152680296345\n"
     ]
    },
    {
     "name": "stderr",
     "output_type": "stream",
     "text": [
      "Epoch 26/160: 100%|██████████| 41/41 [00:05<00:00,  7.81batch/s, loss=0.0744]\n"
     ]
    },
    {
     "name": "stdout",
     "output_type": "stream",
     "text": [
      "Epoch 26/160, Training Loss: 0.07343017116206593\n",
      "Epoch 26/160, Validation Loss: 0.05403163289222914\n"
     ]
    },
    {
     "name": "stderr",
     "output_type": "stream",
     "text": [
      "Epoch 27/160: 100%|██████████| 41/41 [00:05<00:00,  6.95batch/s, loss=0.0744]\n"
     ]
    },
    {
     "name": "stdout",
     "output_type": "stream",
     "text": [
      "Epoch 27/160, Training Loss: 0.07341849211905457\n",
      "Epoch 27/160, Validation Loss: 0.05402119427232881\n"
     ]
    },
    {
     "name": "stderr",
     "output_type": "stream",
     "text": [
      "Epoch 28/160: 100%|██████████| 41/41 [00:05<00:00,  7.57batch/s, loss=0.0743]\n"
     ]
    },
    {
     "name": "stdout",
     "output_type": "stream",
     "text": [
      "Epoch 28/160, Training Loss: 0.07340701413640374\n",
      "Epoch 28/160, Validation Loss: 0.054010582241055746\n"
     ]
    },
    {
     "name": "stderr",
     "output_type": "stream",
     "text": [
      "Epoch 29/160: 100%|██████████| 41/41 [00:06<00:00,  6.83batch/s, loss=0.0743]\n"
     ]
    },
    {
     "name": "stdout",
     "output_type": "stream",
     "text": [
      "Epoch 29/160, Training Loss: 0.07339548788224266\n",
      "Epoch 29/160, Validation Loss: 0.054000605635467054\n"
     ]
    },
    {
     "name": "stderr",
     "output_type": "stream",
     "text": [
      "Epoch 30/160: 100%|██████████| 41/41 [00:05<00:00,  7.05batch/s, loss=0.0743]\n"
     ]
    },
    {
     "name": "stdout",
     "output_type": "stream",
     "text": [
      "Epoch 30/160, Training Loss: 0.07338485136596569\n",
      "Epoch 30/160, Validation Loss: 0.05399202239763901\n"
     ]
    },
    {
     "name": "stderr",
     "output_type": "stream",
     "text": [
      "Epoch 31/160: 100%|██████████| 41/41 [00:05<00:00,  7.90batch/s, loss=0.0743]\n"
     ]
    },
    {
     "name": "stdout",
     "output_type": "stream",
     "text": [
      "Epoch 31/160, Training Loss: 0.07337128856855611\n",
      "Epoch 31/160, Validation Loss: 0.05398443663983778\n"
     ]
    },
    {
     "name": "stderr",
     "output_type": "stream",
     "text": [
      "Epoch 32/160: 100%|██████████| 41/41 [00:05<00:00,  7.00batch/s, loss=0.0743]\n"
     ]
    },
    {
     "name": "stdout",
     "output_type": "stream",
     "text": [
      "Epoch 32/160, Training Loss: 0.07335989439531584\n",
      "Epoch 32/160, Validation Loss: 0.05397038234074363\n"
     ]
    },
    {
     "name": "stderr",
     "output_type": "stream",
     "text": [
      "Epoch 33/160: 100%|██████████| 41/41 [00:05<00:00,  8.13batch/s, loss=0.0743]\n"
     ]
    },
    {
     "name": "stdout",
     "output_type": "stream",
     "text": [
      "Epoch 33/160, Training Loss: 0.07334983887713595\n",
      "Epoch 33/160, Validation Loss: 0.05396124380170255\n"
     ]
    },
    {
     "name": "stderr",
     "output_type": "stream",
     "text": [
      "Epoch 34/160: 100%|██████████| 41/41 [00:07<00:00,  5.77batch/s, loss=0.0743]\n"
     ]
    },
    {
     "name": "stdout",
     "output_type": "stream",
     "text": [
      "Epoch 34/160, Training Loss: 0.07333651548620754\n",
      "Epoch 34/160, Validation Loss: 0.053944355865987184\n"
     ]
    },
    {
     "name": "stderr",
     "output_type": "stream",
     "text": [
      "Epoch 35/160: 100%|██████████| 41/41 [00:05<00:00,  7.93batch/s, loss=0.0743]\n"
     ]
    },
    {
     "name": "stdout",
     "output_type": "stream",
     "text": [
      "Epoch 35/160, Training Loss: 0.0733257174968526\n",
      "Epoch 35/160, Validation Loss: 0.05392441193000782\n"
     ]
    },
    {
     "name": "stderr",
     "output_type": "stream",
     "text": [
      "Epoch 36/160: 100%|██████████| 41/41 [00:05<00:00,  6.90batch/s, loss=0.0743]\n"
     ]
    },
    {
     "name": "stdout",
     "output_type": "stream",
     "text": [
      "Epoch 36/160, Training Loss: 0.07331685333458772\n",
      "Epoch 36/160, Validation Loss: 0.05390606963321944\n"
     ]
    },
    {
     "name": "stderr",
     "output_type": "stream",
     "text": [
      "Epoch 37/160: 100%|██████████| 41/41 [00:05<00:00,  7.03batch/s, loss=0.0742]\n"
     ]
    },
    {
     "name": "stdout",
     "output_type": "stream",
     "text": [
      "Epoch 37/160, Training Loss: 0.07330385016922904\n",
      "Epoch 37/160, Validation Loss: 0.05389503156363632\n"
     ]
    },
    {
     "name": "stderr",
     "output_type": "stream",
     "text": [
      "Epoch 38/160: 100%|██████████| 41/41 [00:05<00:00,  7.81batch/s, loss=0.0742]\n"
     ]
    },
    {
     "name": "stdout",
     "output_type": "stream",
     "text": [
      "Epoch 38/160, Training Loss: 0.07329308439527528\n",
      "Epoch 38/160, Validation Loss: 0.05388415475433034\n"
     ]
    },
    {
     "name": "stderr",
     "output_type": "stream",
     "text": [
      "Epoch 39/160: 100%|██████████| 41/41 [00:05<00:00,  7.04batch/s, loss=0.0742]\n"
     ]
    },
    {
     "name": "stdout",
     "output_type": "stream",
     "text": [
      "Epoch 39/160, Training Loss: 0.07328144168359887\n",
      "Epoch 39/160, Validation Loss: 0.05386516987700496\n"
     ]
    },
    {
     "name": "stderr",
     "output_type": "stream",
     "text": [
      "Epoch 40/160: 100%|██████████| 41/41 [00:05<00:00,  7.98batch/s, loss=0.0742]\n"
     ]
    },
    {
     "name": "stdout",
     "output_type": "stream",
     "text": [
      "Epoch 40/160, Training Loss: 0.0732711068042175\n",
      "Epoch 40/160, Validation Loss: 0.05384828786423945\n"
     ]
    },
    {
     "name": "stderr",
     "output_type": "stream",
     "text": [
      "Epoch 41/160: 100%|██████████| 41/41 [00:05<00:00,  7.19batch/s, loss=0.0742]\n"
     ]
    },
    {
     "name": "stdout",
     "output_type": "stream",
     "text": [
      "Epoch 41/160, Training Loss: 0.07325898498674896\n",
      "Epoch 41/160, Validation Loss: 0.05383201816195168\n"
     ]
    },
    {
     "name": "stderr",
     "output_type": "stream",
     "text": [
      "Epoch 42/160: 100%|██████████| 41/41 [00:05<00:00,  7.77batch/s, loss=0.0742]\n"
     ]
    },
    {
     "name": "stdout",
     "output_type": "stream",
     "text": [
      "Epoch 42/160, Training Loss: 0.0732478681749925\n",
      "Epoch 42/160, Validation Loss: 0.053818745861885835\n"
     ]
    },
    {
     "name": "stderr",
     "output_type": "stream",
     "text": [
      "Epoch 43/160: 100%|██████████| 41/41 [00:05<00:00,  6.99batch/s, loss=0.0742]\n"
     ]
    },
    {
     "name": "stdout",
     "output_type": "stream",
     "text": [
      "Epoch 43/160, Training Loss: 0.07323695103832288\n",
      "Epoch 43/160, Validation Loss: 0.053804826350731756\n"
     ]
    },
    {
     "name": "stderr",
     "output_type": "stream",
     "text": [
      "Epoch 44/160: 100%|██████████| 41/41 [00:05<00:00,  7.92batch/s, loss=0.0742]\n"
     ]
    },
    {
     "name": "stdout",
     "output_type": "stream",
     "text": [
      "Epoch 44/160, Training Loss: 0.07322557211780634\n",
      "Epoch 44/160, Validation Loss: 0.05379330480376943\n"
     ]
    },
    {
     "name": "stderr",
     "output_type": "stream",
     "text": [
      "Epoch 45/160: 100%|██████████| 41/41 [00:06<00:00,  5.90batch/s, loss=0.0741]\n"
     ]
    },
    {
     "name": "stdout",
     "output_type": "stream",
     "text": [
      "Epoch 45/160, Training Loss: 0.07321448260282572\n",
      "Epoch 45/160, Validation Loss: 0.05378112402926988\n"
     ]
    },
    {
     "name": "stderr",
     "output_type": "stream",
     "text": [
      "Epoch 46/160: 100%|██████████| 41/41 [00:06<00:00,  6.64batch/s, loss=0.0741]\n"
     ]
    },
    {
     "name": "stdout",
     "output_type": "stream",
     "text": [
      "Epoch 46/160, Training Loss: 0.07320268093514969\n",
      "Epoch 46/160, Validation Loss: 0.053752082875479015\n"
     ]
    },
    {
     "name": "stderr",
     "output_type": "stream",
     "text": [
      "Epoch 47/160: 100%|██████████| 41/41 [00:05<00:00,  7.97batch/s, loss=0.0741]\n"
     ]
    },
    {
     "name": "stdout",
     "output_type": "stream",
     "text": [
      "Epoch 47/160, Training Loss: 0.07319215172867627\n",
      "Epoch 47/160, Validation Loss: 0.05373257267157198\n"
     ]
    },
    {
     "name": "stderr",
     "output_type": "stream",
     "text": [
      "Epoch 48/160: 100%|██████████| 41/41 [00:05<00:00,  6.88batch/s, loss=0.0741]\n"
     ]
    },
    {
     "name": "stdout",
     "output_type": "stream",
     "text": [
      "Epoch 48/160, Training Loss: 0.07318077804184987\n",
      "Epoch 48/160, Validation Loss: 0.053714173774195864\n"
     ]
    },
    {
     "name": "stderr",
     "output_type": "stream",
     "text": [
      "Epoch 49/160: 100%|██████████| 41/41 [00:05<00:00,  7.62batch/s, loss=0.0741]\n"
     ]
    },
    {
     "name": "stdout",
     "output_type": "stream",
     "text": [
      "Epoch 49/160, Training Loss: 0.07316960493944243\n",
      "Epoch 49/160, Validation Loss: 0.05369835433878554\n"
     ]
    },
    {
     "name": "stderr",
     "output_type": "stream",
     "text": [
      "Epoch 50/160: 100%|██████████| 41/41 [00:05<00:00,  7.35batch/s, loss=0.0741]\n"
     ]
    },
    {
     "name": "stdout",
     "output_type": "stream",
     "text": [
      "Epoch 50/160, Training Loss: 0.0731580973175188\n",
      "Epoch 50/160, Validation Loss: 0.053690633257919694\n"
     ]
    },
    {
     "name": "stderr",
     "output_type": "stream",
     "text": [
      "Epoch 51/160: 100%|██████████| 41/41 [00:05<00:00,  7.16batch/s, loss=0.0741]\n"
     ]
    },
    {
     "name": "stdout",
     "output_type": "stream",
     "text": [
      "Epoch 51/160, Training Loss: 0.0731470292422548\n",
      "Epoch 51/160, Validation Loss: 0.05366952960960606\n"
     ]
    },
    {
     "name": "stderr",
     "output_type": "stream",
     "text": [
      "Epoch 52/160: 100%|██████████| 41/41 [00:06<00:00,  6.51batch/s, loss=0.0741]\n"
     ]
    },
    {
     "name": "stdout",
     "output_type": "stream",
     "text": [
      "Epoch 52/160, Training Loss: 0.07313596527993017\n",
      "Epoch 52/160, Validation Loss: 0.05365324275502756\n"
     ]
    },
    {
     "name": "stderr",
     "output_type": "stream",
     "text": [
      "Epoch 53/160: 100%|██████████| 41/41 [00:05<00:00,  7.24batch/s, loss=0.0741]\n"
     ]
    },
    {
     "name": "stdout",
     "output_type": "stream",
     "text": [
      "Epoch 53/160, Training Loss: 0.07312389667186993\n",
      "Epoch 53/160, Validation Loss: 0.05364662390358545\n"
     ]
    },
    {
     "name": "stderr",
     "output_type": "stream",
     "text": [
      "Epoch 54/160: 100%|██████████| 41/41 [00:05<00:00,  7.62batch/s, loss=0.074] \n"
     ]
    },
    {
     "name": "stdout",
     "output_type": "stream",
     "text": [
      "Epoch 54/160, Training Loss: 0.07311344395453771\n",
      "Epoch 54/160, Validation Loss: 0.0536342882642574\n"
     ]
    },
    {
     "name": "stderr",
     "output_type": "stream",
     "text": [
      "Epoch 55/160: 100%|██████████| 41/41 [00:06<00:00,  6.83batch/s, loss=0.074] \n"
     ]
    },
    {
     "name": "stdout",
     "output_type": "stream",
     "text": [
      "Epoch 55/160, Training Loss: 0.0731029560861851\n",
      "Epoch 55/160, Validation Loss: 0.05362036692502686\n"
     ]
    },
    {
     "name": "stderr",
     "output_type": "stream",
     "text": [
      "Epoch 56/160: 100%|██████████| 41/41 [00:05<00:00,  7.63batch/s, loss=0.074] \n"
     ]
    },
    {
     "name": "stdout",
     "output_type": "stream",
     "text": [
      "Epoch 56/160, Training Loss: 0.07309063258759553\n",
      "Epoch 56/160, Validation Loss: 0.05361672689714557\n"
     ]
    },
    {
     "name": "stderr",
     "output_type": "stream",
     "text": [
      "Epoch 57/160: 100%|██████████| 41/41 [00:06<00:00,  6.79batch/s, loss=0.074] \n"
     ]
    },
    {
     "name": "stdout",
     "output_type": "stream",
     "text": [
      "Epoch 57/160, Training Loss: 0.07307992311195158\n",
      "Epoch 57/160, Validation Loss: 0.0536075335235775\n"
     ]
    },
    {
     "name": "stderr",
     "output_type": "stream",
     "text": [
      "Epoch 58/160: 100%|██████████| 41/41 [00:05<00:00,  7.09batch/s, loss=0.074] \n"
     ]
    },
    {
     "name": "stdout",
     "output_type": "stream",
     "text": [
      "Epoch 58/160, Training Loss: 0.07306847473512376\n",
      "Epoch 58/160, Validation Loss: 0.05359852024303504\n"
     ]
    },
    {
     "name": "stderr",
     "output_type": "stream",
     "text": [
      "Epoch 59/160: 100%|██████████| 41/41 [00:05<00:00,  7.76batch/s, loss=0.074] \n"
     ]
    },
    {
     "name": "stdout",
     "output_type": "stream",
     "text": [
      "Epoch 59/160, Training Loss: 0.07305788085005517\n",
      "Epoch 59/160, Validation Loss: 0.05358077774977657\n"
     ]
    },
    {
     "name": "stderr",
     "output_type": "stream",
     "text": [
      "Epoch 60/160: 100%|██████████| 41/41 [00:06<00:00,  6.01batch/s, loss=0.074] \n"
     ]
    },
    {
     "name": "stdout",
     "output_type": "stream",
     "text": [
      "Epoch 60/160, Training Loss: 0.07304781322730054\n",
      "Epoch 60/160, Validation Loss: 0.05356641909971826\n"
     ]
    },
    {
     "name": "stderr",
     "output_type": "stream",
     "text": [
      "Epoch 61/160: 100%|██████████| 41/41 [00:05<00:00,  7.52batch/s, loss=0.074] \n"
     ]
    },
    {
     "name": "stdout",
     "output_type": "stream",
     "text": [
      "Epoch 61/160, Training Loss: 0.0730355623280985\n",
      "Epoch 61/160, Validation Loss: 0.05355978732052373\n"
     ]
    },
    {
     "name": "stderr",
     "output_type": "stream",
     "text": [
      "Epoch 62/160: 100%|██████████| 41/41 [00:05<00:00,  6.99batch/s, loss=0.074] \n"
     ]
    },
    {
     "name": "stdout",
     "output_type": "stream",
     "text": [
      "Epoch 62/160, Training Loss: 0.07302549682998906\n",
      "Epoch 62/160, Validation Loss: 0.05355582208772551\n"
     ]
    },
    {
     "name": "stderr",
     "output_type": "stream",
     "text": [
      "Epoch 63/160: 100%|██████████| 41/41 [00:05<00:00,  6.95batch/s, loss=0.0739]\n"
     ]
    },
    {
     "name": "stdout",
     "output_type": "stream",
     "text": [
      "Epoch 63/160, Training Loss: 0.07301275204453034\n",
      "Epoch 63/160, Validation Loss: 0.0535477070020009\n"
     ]
    },
    {
     "name": "stderr",
     "output_type": "stream",
     "text": [
      "Epoch 64/160: 100%|██████████| 41/41 [00:06<00:00,  6.07batch/s, loss=0.0739]\n"
     ]
    },
    {
     "name": "stdout",
     "output_type": "stream",
     "text": [
      "Epoch 64/160, Training Loss: 0.07300273382939765\n",
      "Epoch 64/160, Validation Loss: 0.05352821780470382\n"
     ]
    },
    {
     "name": "stderr",
     "output_type": "stream",
     "text": [
      "Epoch 65/160: 100%|██████████| 41/41 [00:06<00:00,  6.03batch/s, loss=0.0739]\n"
     ]
    },
    {
     "name": "stdout",
     "output_type": "stream",
     "text": [
      "Epoch 65/160, Training Loss: 0.072994557893212\n",
      "Epoch 65/160, Validation Loss: 0.053516670395881635\n"
     ]
    },
    {
     "name": "stderr",
     "output_type": "stream",
     "text": [
      "Epoch 66/160: 100%|██████████| 41/41 [00:05<00:00,  7.50batch/s, loss=0.0739]\n"
     ]
    },
    {
     "name": "stdout",
     "output_type": "stream",
     "text": [
      "Epoch 66/160, Training Loss: 0.07298192689355897\n",
      "Epoch 66/160, Validation Loss: 0.05350738853672975\n"
     ]
    },
    {
     "name": "stderr",
     "output_type": "stream",
     "text": [
      "Epoch 67/160: 100%|██████████| 41/41 [00:05<00:00,  6.93batch/s, loss=0.0739]\n"
     ]
    },
    {
     "name": "stdout",
     "output_type": "stream",
     "text": [
      "Epoch 67/160, Training Loss: 0.0729721046618789\n",
      "Epoch 67/160, Validation Loss: 0.053493015821694904\n"
     ]
    },
    {
     "name": "stderr",
     "output_type": "stream",
     "text": [
      "Epoch 68/160: 100%|██████████| 41/41 [00:05<00:00,  7.07batch/s, loss=0.0739]\n"
     ]
    },
    {
     "name": "stdout",
     "output_type": "stream",
     "text": [
      "Epoch 68/160, Training Loss: 0.07295991922558373\n",
      "Epoch 68/160, Validation Loss: 0.053486374707955565\n"
     ]
    },
    {
     "name": "stderr",
     "output_type": "stream",
     "text": [
      "Epoch 69/160: 100%|██████████| 41/41 [00:05<00:00,  7.69batch/s, loss=0.0739]\n"
     ]
    },
    {
     "name": "stdout",
     "output_type": "stream",
     "text": [
      "Epoch 69/160, Training Loss: 0.0729502344111116\n",
      "Epoch 69/160, Validation Loss: 0.05347282057865319\n"
     ]
    },
    {
     "name": "stderr",
     "output_type": "stream",
     "text": [
      "Epoch 70/160: 100%|██████████| 41/41 [00:05<00:00,  7.08batch/s, loss=0.0739]\n"
     ]
    },
    {
     "name": "stdout",
     "output_type": "stream",
     "text": [
      "Epoch 70/160, Training Loss: 0.0729406433494442\n",
      "Epoch 70/160, Validation Loss: 0.05345657419876843\n"
     ]
    },
    {
     "name": "stderr",
     "output_type": "stream",
     "text": [
      "Epoch 71/160: 100%|██████████| 41/41 [00:05<00:00,  7.98batch/s, loss=0.0739]\n"
     ]
    },
    {
     "name": "stdout",
     "output_type": "stream",
     "text": [
      "Epoch 71/160, Training Loss: 0.07292919904975212\n",
      "Epoch 71/160, Validation Loss: 0.053449619979586985\n"
     ]
    },
    {
     "name": "stderr",
     "output_type": "stream",
     "text": [
      "Epoch 72/160: 100%|██████████| 41/41 [00:05<00:00,  6.88batch/s, loss=0.0738]\n"
     ]
    },
    {
     "name": "stdout",
     "output_type": "stream",
     "text": [
      "Epoch 72/160, Training Loss: 0.07291731119120733\n",
      "Epoch 72/160, Validation Loss: 0.05344367305173907\n"
     ]
    },
    {
     "name": "stderr",
     "output_type": "stream",
     "text": [
      "Epoch 73/160: 100%|██████████| 41/41 [00:05<00:00,  7.68batch/s, loss=0.0738]\n"
     ]
    },
    {
     "name": "stdout",
     "output_type": "stream",
     "text": [
      "Epoch 73/160, Training Loss: 0.07290839498138188\n",
      "Epoch 73/160, Validation Loss: 0.05342343017385421\n"
     ]
    },
    {
     "name": "stderr",
     "output_type": "stream",
     "text": [
      "Epoch 74/160: 100%|██████████| 41/41 [00:05<00:00,  7.72batch/s, loss=0.0738]\n"
     ]
    },
    {
     "name": "stdout",
     "output_type": "stream",
     "text": [
      "Epoch 74/160, Training Loss: 0.07289567023498211\n",
      "Epoch 74/160, Validation Loss: 0.05342040542179663\n"
     ]
    },
    {
     "name": "stderr",
     "output_type": "stream",
     "text": [
      "Epoch 75/160: 100%|██████████| 41/41 [00:05<00:00,  7.13batch/s, loss=0.0738]\n"
     ]
    },
    {
     "name": "stdout",
     "output_type": "stream",
     "text": [
      "Epoch 75/160, Training Loss: 0.07288586771222022\n",
      "Epoch 75/160, Validation Loss: 0.05340591301743109\n"
     ]
    },
    {
     "name": "stderr",
     "output_type": "stream",
     "text": [
      "Epoch 76/160: 100%|██████████| 41/41 [00:06<00:00,  6.22batch/s, loss=0.0738]\n"
     ]
    },
    {
     "name": "stdout",
     "output_type": "stream",
     "text": [
      "Epoch 76/160, Training Loss: 0.07287604070742455\n",
      "Epoch 76/160, Validation Loss: 0.05338760852061466\n"
     ]
    },
    {
     "name": "stderr",
     "output_type": "stream",
     "text": [
      "Epoch 77/160: 100%|██████████| 41/41 [00:06<00:00,  6.51batch/s, loss=0.0738]\n"
     ]
    },
    {
     "name": "stdout",
     "output_type": "stream",
     "text": [
      "Epoch 77/160, Training Loss: 0.07286359400008155\n",
      "Epoch 77/160, Validation Loss: 0.053380636427037886\n"
     ]
    },
    {
     "name": "stderr",
     "output_type": "stream",
     "text": [
      "Epoch 78/160: 100%|██████████| 41/41 [00:05<00:00,  7.54batch/s, loss=0.0738]\n"
     ]
    },
    {
     "name": "stdout",
     "output_type": "stream",
     "text": [
      "Epoch 78/160, Training Loss: 0.07285192331633981\n",
      "Epoch 78/160, Validation Loss: 0.053369827253593065\n"
     ]
    },
    {
     "name": "stderr",
     "output_type": "stream",
     "text": [
      "Epoch 79/160: 100%|██████████| 41/41 [00:05<00:00,  7.01batch/s, loss=0.0738]\n"
     ]
    },
    {
     "name": "stdout",
     "output_type": "stream",
     "text": [
      "Epoch 79/160, Training Loss: 0.07284322555385613\n",
      "Epoch 79/160, Validation Loss: 0.05334843230958774\n"
     ]
    },
    {
     "name": "stderr",
     "output_type": "stream",
     "text": [
      "Epoch 80/160: 100%|██████████| 41/41 [00:05<00:00,  6.96batch/s, loss=0.0738]\n"
     ]
    },
    {
     "name": "stdout",
     "output_type": "stream",
     "text": [
      "Epoch 80/160, Training Loss: 0.07283254927106582\n",
      "Epoch 80/160, Validation Loss: 0.05333359992795655\n"
     ]
    },
    {
     "name": "stderr",
     "output_type": "stream",
     "text": [
      "Epoch 81/160: 100%|██████████| 41/41 [00:05<00:00,  7.97batch/s, loss=0.0738]\n"
     ]
    },
    {
     "name": "stdout",
     "output_type": "stream",
     "text": [
      "Epoch 81/160, Training Loss: 0.07282037758341788\n",
      "Epoch 81/160, Validation Loss: 0.05333192540407592\n"
     ]
    },
    {
     "name": "stderr",
     "output_type": "stream",
     "text": [
      "Epoch 82/160: 100%|██████████| 41/41 [00:05<00:00,  7.13batch/s, loss=0.0737]\n"
     ]
    },
    {
     "name": "stdout",
     "output_type": "stream",
     "text": [
      "Epoch 82/160, Training Loss: 0.07280992179411508\n",
      "Epoch 82/160, Validation Loss: 0.05331596822639257\n"
     ]
    },
    {
     "name": "stderr",
     "output_type": "stream",
     "text": [
      "Epoch 83/160: 100%|██████████| 41/41 [00:05<00:00,  7.60batch/s, loss=0.0737]\n"
     ]
    },
    {
     "name": "stdout",
     "output_type": "stream",
     "text": [
      "Epoch 83/160, Training Loss: 0.07279825687795086\n",
      "Epoch 83/160, Validation Loss: 0.05331061070129678\n"
     ]
    },
    {
     "name": "stderr",
     "output_type": "stream",
     "text": [
      "Epoch 84/160: 100%|██████████| 41/41 [00:06<00:00,  6.81batch/s, loss=0.0737]\n"
     ]
    },
    {
     "name": "stdout",
     "output_type": "stream",
     "text": [
      "Epoch 84/160, Training Loss: 0.07278808325457284\n",
      "Epoch 84/160, Validation Loss: 0.05329484618670359\n"
     ]
    },
    {
     "name": "stderr",
     "output_type": "stream",
     "text": [
      "Epoch 85/160: 100%|██████████| 41/41 [00:05<00:00,  7.15batch/s, loss=0.0737]\n"
     ]
    },
    {
     "name": "stdout",
     "output_type": "stream",
     "text": [
      "Epoch 85/160, Training Loss: 0.07277658606945947\n",
      "Epoch 85/160, Validation Loss: 0.05329038366477707\n"
     ]
    },
    {
     "name": "stderr",
     "output_type": "stream",
     "text": [
      "Epoch 86/160: 100%|██████████| 41/41 [00:05<00:00,  7.86batch/s, loss=0.0737]\n"
     ]
    },
    {
     "name": "stdout",
     "output_type": "stream",
     "text": [
      "Epoch 86/160, Training Loss: 0.07276679757249026\n",
      "Epoch 86/160, Validation Loss: 0.053272069708080454\n"
     ]
    },
    {
     "name": "stderr",
     "output_type": "stream",
     "text": [
      "Epoch 87/160: 100%|██████████| 41/41 [00:05<00:00,  7.17batch/s, loss=0.0737]\n"
     ]
    },
    {
     "name": "stdout",
     "output_type": "stream",
     "text": [
      "Epoch 87/160, Training Loss: 0.07275531411090269\n",
      "Epoch 87/160, Validation Loss: 0.05326472837060447\n"
     ]
    },
    {
     "name": "stderr",
     "output_type": "stream",
     "text": [
      "Epoch 88/160: 100%|██████████| 41/41 [00:05<00:00,  8.04batch/s, loss=0.0737]\n"
     ]
    },
    {
     "name": "stdout",
     "output_type": "stream",
     "text": [
      "Epoch 88/160, Training Loss: 0.07274542413043106\n",
      "Epoch 88/160, Validation Loss: 0.05325092745275372\n"
     ]
    },
    {
     "name": "stderr",
     "output_type": "stream",
     "text": [
      "Epoch 89/160: 100%|██████████| 41/41 [00:06<00:00,  6.72batch/s, loss=0.0737]\n"
     ]
    },
    {
     "name": "stdout",
     "output_type": "stream",
     "text": [
      "Epoch 89/160, Training Loss: 0.07273368657865875\n",
      "Epoch 89/160, Validation Loss: 0.053242017860766634\n"
     ]
    },
    {
     "name": "stderr",
     "output_type": "stream",
     "text": [
      "Epoch 90/160: 100%|██████████| 41/41 [00:05<00:00,  7.67batch/s, loss=0.0737]\n"
     ]
    },
    {
     "name": "stdout",
     "output_type": "stream",
     "text": [
      "Epoch 90/160, Training Loss: 0.07272460707720206\n",
      "Epoch 90/160, Validation Loss: 0.05322356362406821\n"
     ]
    },
    {
     "name": "stderr",
     "output_type": "stream",
     "text": [
      "Epoch 91/160: 100%|██████████| 41/41 [00:05<00:00,  7.12batch/s, loss=0.0736]\n"
     ]
    },
    {
     "name": "stdout",
     "output_type": "stream",
     "text": [
      "Epoch 91/160, Training Loss: 0.07271190230532376\n",
      "Epoch 91/160, Validation Loss: 0.05321946249109074\n"
     ]
    },
    {
     "name": "stderr",
     "output_type": "stream",
     "text": [
      "Epoch 92/160: 100%|██████████| 41/41 [00:05<00:00,  7.40batch/s, loss=0.0736]\n"
     ]
    },
    {
     "name": "stdout",
     "output_type": "stream",
     "text": [
      "Epoch 92/160, Training Loss: 0.07269967646341263\n",
      "Epoch 92/160, Validation Loss: 0.05320666413541773\n"
     ]
    },
    {
     "name": "stderr",
     "output_type": "stream",
     "text": [
      "Epoch 93/160: 100%|██████████| 41/41 [00:05<00:00,  6.92batch/s, loss=0.0736]\n"
     ]
    },
    {
     "name": "stdout",
     "output_type": "stream",
     "text": [
      "Epoch 93/160, Training Loss: 0.07269269294266224\n",
      "Epoch 93/160, Validation Loss: 0.053186434718411515\n"
     ]
    },
    {
     "name": "stderr",
     "output_type": "stream",
     "text": [
      "Epoch 94/160: 100%|██████████| 41/41 [00:05<00:00,  7.06batch/s, loss=0.0736]\n"
     ]
    },
    {
     "name": "stdout",
     "output_type": "stream",
     "text": [
      "Epoch 94/160, Training Loss: 0.07267934225436506\n",
      "Epoch 94/160, Validation Loss: 0.053177088504967045\n"
     ]
    },
    {
     "name": "stderr",
     "output_type": "stream",
     "text": [
      "Epoch 95/160: 100%|██████████| 41/41 [00:04<00:00,  8.22batch/s, loss=0.0736]\n"
     ]
    },
    {
     "name": "stdout",
     "output_type": "stream",
     "text": [
      "Epoch 95/160, Training Loss: 0.07266761613110638\n",
      "Epoch 95/160, Validation Loss: 0.05317213388926517\n"
     ]
    },
    {
     "name": "stderr",
     "output_type": "stream",
     "text": [
      "Epoch 96/160: 100%|██████████| 41/41 [00:05<00:00,  7.17batch/s, loss=0.0736]\n"
     ]
    },
    {
     "name": "stdout",
     "output_type": "stream",
     "text": [
      "Epoch 96/160, Training Loss: 0.07265710142845358\n",
      "Epoch 96/160, Validation Loss: 0.05315731924485453\n"
     ]
    },
    {
     "name": "stderr",
     "output_type": "stream",
     "text": [
      "Epoch 97/160: 100%|██████████| 41/41 [00:05<00:00,  7.78batch/s, loss=0.0736]\n"
     ]
    },
    {
     "name": "stdout",
     "output_type": "stream",
     "text": [
      "Epoch 97/160, Training Loss: 0.07264497326924793\n",
      "Epoch 97/160, Validation Loss: 0.053141845393524775\n"
     ]
    },
    {
     "name": "stderr",
     "output_type": "stream",
     "text": [
      "Epoch 98/160: 100%|██████████| 41/41 [00:05<00:00,  7.06batch/s, loss=0.0736]\n"
     ]
    },
    {
     "name": "stdout",
     "output_type": "stream",
     "text": [
      "Epoch 98/160, Training Loss: 0.07263698342899748\n",
      "Epoch 98/160, Validation Loss: 0.05312376290653696\n"
     ]
    },
    {
     "name": "stderr",
     "output_type": "stream",
     "text": [
      "Epoch 99/160: 100%|██████████| 41/41 [00:05<00:00,  7.05batch/s, loss=0.0736]\n"
     ]
    },
    {
     "name": "stdout",
     "output_type": "stream",
     "text": [
      "Epoch 99/160, Training Loss: 0.07262413195326066\n",
      "Epoch 99/160, Validation Loss: 0.053123022968100654\n"
     ]
    },
    {
     "name": "stderr",
     "output_type": "stream",
     "text": [
      "Epoch 100/160: 100%|██████████| 41/41 [00:05<00:00,  7.20batch/s, loss=0.0735]\n"
     ]
    },
    {
     "name": "stdout",
     "output_type": "stream",
     "text": [
      "Epoch 100/160, Training Loss: 0.07261378216017668\n",
      "Epoch 100/160, Validation Loss: 0.05311444108447685\n"
     ]
    },
    {
     "name": "stderr",
     "output_type": "stream",
     "text": [
      "Epoch 101/160: 100%|██████████| 41/41 [00:06<00:00,  6.64batch/s, loss=0.0735]\n"
     ]
    },
    {
     "name": "stdout",
     "output_type": "stream",
     "text": [
      "Epoch 101/160, Training Loss: 0.0726030945743608\n",
      "Epoch 101/160, Validation Loss: 0.0531020944638174\n"
     ]
    },
    {
     "name": "stderr",
     "output_type": "stream",
     "text": [
      "Epoch 102/160: 100%|██████████| 41/41 [00:05<00:00,  7.87batch/s, loss=0.0735]\n"
     ]
    },
    {
     "name": "stdout",
     "output_type": "stream",
     "text": [
      "Epoch 102/160, Training Loss: 0.07259330943797343\n",
      "Epoch 102/160, Validation Loss: 0.05309401393383149\n"
     ]
    },
    {
     "name": "stderr",
     "output_type": "stream",
     "text": [
      "Epoch 103/160: 100%|██████████| 41/41 [00:05<00:00,  6.87batch/s, loss=0.0735]\n"
     ]
    },
    {
     "name": "stdout",
     "output_type": "stream",
     "text": [
      "Epoch 103/160, Training Loss: 0.07258227502119242\n",
      "Epoch 103/160, Validation Loss: 0.05308286604978229\n"
     ]
    },
    {
     "name": "stderr",
     "output_type": "stream",
     "text": [
      "Epoch 104/160: 100%|██████████| 41/41 [00:05<00:00,  7.83batch/s, loss=0.0735]\n"
     ]
    },
    {
     "name": "stdout",
     "output_type": "stream",
     "text": [
      "Epoch 104/160, Training Loss: 0.07257124749294193\n",
      "Epoch 104/160, Validation Loss: 0.05306702932232701\n"
     ]
    },
    {
     "name": "stderr",
     "output_type": "stream",
     "text": [
      "Epoch 105/160: 100%|██████████| 41/41 [00:06<00:00,  6.83batch/s, loss=0.0735]\n"
     ]
    },
    {
     "name": "stdout",
     "output_type": "stream",
     "text": [
      "Epoch 105/160, Training Loss: 0.07256378400678731\n",
      "Epoch 105/160, Validation Loss: 0.05304718604287083\n"
     ]
    },
    {
     "name": "stderr",
     "output_type": "stream",
     "text": [
      "Epoch 106/160: 100%|██████████| 41/41 [00:05<00:00,  7.14batch/s, loss=0.0735]\n"
     ]
    },
    {
     "name": "stdout",
     "output_type": "stream",
     "text": [
      "Epoch 106/160, Training Loss: 0.07255096999152844\n",
      "Epoch 106/160, Validation Loss: 0.05303597634105397\n"
     ]
    },
    {
     "name": "stderr",
     "output_type": "stream",
     "text": [
      "Epoch 107/160: 100%|██████████| 41/41 [00:05<00:00,  7.73batch/s, loss=0.0735]\n"
     ]
    },
    {
     "name": "stdout",
     "output_type": "stream",
     "text": [
      "Epoch 107/160, Training Loss: 0.07254008245531937\n",
      "Epoch 107/160, Validation Loss: 0.05302624180178807\n"
     ]
    },
    {
     "name": "stderr",
     "output_type": "stream",
     "text": [
      "Epoch 108/160: 100%|██████████| 41/41 [00:05<00:00,  7.22batch/s, loss=0.0735]\n"
     ]
    },
    {
     "name": "stdout",
     "output_type": "stream",
     "text": [
      "Epoch 108/160, Training Loss: 0.0725298307886689\n",
      "Epoch 108/160, Validation Loss: 0.053014417597947276\n"
     ]
    },
    {
     "name": "stderr",
     "output_type": "stream",
     "text": [
      "Epoch 109/160: 100%|██████████| 41/41 [00:05<00:00,  8.03batch/s, loss=0.0734]\n"
     ]
    },
    {
     "name": "stdout",
     "output_type": "stream",
     "text": [
      "Epoch 109/160, Training Loss: 0.07251915674987938\n",
      "Epoch 109/160, Validation Loss: 0.05300444461737645\n"
     ]
    },
    {
     "name": "stderr",
     "output_type": "stream",
     "text": [
      "Epoch 110/160: 100%|██████████| 41/41 [00:05<00:00,  7.13batch/s, loss=0.0734]\n"
     ]
    },
    {
     "name": "stdout",
     "output_type": "stream",
     "text": [
      "Epoch 110/160, Training Loss: 0.07250829002644271\n",
      "Epoch 110/160, Validation Loss: 0.05299143083488266\n"
     ]
    },
    {
     "name": "stderr",
     "output_type": "stream",
     "text": [
      "Epoch 111/160: 100%|██████████| 41/41 [00:05<00:00,  8.16batch/s, loss=0.0734]\n"
     ]
    },
    {
     "name": "stdout",
     "output_type": "stream",
     "text": [
      "Epoch 111/160, Training Loss: 0.07249799068920296\n",
      "Epoch 111/160, Validation Loss: 0.05298021567747279\n"
     ]
    },
    {
     "name": "stderr",
     "output_type": "stream",
     "text": [
      "Epoch 112/160: 100%|██████████| 41/41 [00:05<00:00,  7.04batch/s, loss=0.0734]\n"
     ]
    },
    {
     "name": "stdout",
     "output_type": "stream",
     "text": [
      "Epoch 112/160, Training Loss: 0.07248763317735114\n",
      "Epoch 112/160, Validation Loss: 0.05296378162611508\n"
     ]
    },
    {
     "name": "stderr",
     "output_type": "stream",
     "text": [
      "Epoch 113/160: 100%|██████████| 41/41 [00:05<00:00,  7.52batch/s, loss=0.0734]\n"
     ]
    },
    {
     "name": "stdout",
     "output_type": "stream",
     "text": [
      "Epoch 113/160, Training Loss: 0.0724766691701078\n",
      "Epoch 113/160, Validation Loss: 0.05295724074947194\n"
     ]
    },
    {
     "name": "stderr",
     "output_type": "stream",
     "text": [
      "Epoch 114/160: 100%|██████████| 41/41 [00:05<00:00,  7.04batch/s, loss=0.0734]\n"
     ]
    },
    {
     "name": "stdout",
     "output_type": "stream",
     "text": [
      "Epoch 114/160, Training Loss: 0.07246640664190188\n",
      "Epoch 114/160, Validation Loss: 0.05294392730688272\n"
     ]
    },
    {
     "name": "stderr",
     "output_type": "stream",
     "text": [
      "Epoch 115/160: 100%|██████████| 41/41 [00:05<00:00,  7.49batch/s, loss=0.0734]\n"
     ]
    },
    {
     "name": "stdout",
     "output_type": "stream",
     "text": [
      "Epoch 115/160, Training Loss: 0.07245501684412921\n",
      "Epoch 115/160, Validation Loss: 0.052935258332984556\n"
     ]
    },
    {
     "name": "stderr",
     "output_type": "stream",
     "text": [
      "Epoch 116/160: 100%|██████████| 41/41 [00:05<00:00,  7.29batch/s, loss=0.0734]\n"
     ]
    },
    {
     "name": "stdout",
     "output_type": "stream",
     "text": [
      "Epoch 116/160, Training Loss: 0.07244532840112639\n",
      "Epoch 116/160, Validation Loss: 0.052925273714454525\n"
     ]
    },
    {
     "name": "stderr",
     "output_type": "stream",
     "text": [
      "Epoch 117/160: 100%|██████████| 41/41 [00:05<00:00,  7.34batch/s, loss=0.0734]\n"
     ]
    },
    {
     "name": "stdout",
     "output_type": "stream",
     "text": [
      "Epoch 117/160, Training Loss: 0.07243550635702449\n",
      "Epoch 117/160, Validation Loss: 0.05291614818628474\n"
     ]
    },
    {
     "name": "stderr",
     "output_type": "stream",
     "text": [
      "Epoch 118/160: 100%|██████████| 41/41 [00:05<00:00,  7.71batch/s, loss=0.0734]\n"
     ]
    },
    {
     "name": "stdout",
     "output_type": "stream",
     "text": [
      "Epoch 118/160, Training Loss: 0.0724245493822653\n",
      "Epoch 118/160, Validation Loss: 0.05290430594070959\n"
     ]
    },
    {
     "name": "stderr",
     "output_type": "stream",
     "text": [
      "Epoch 119/160: 100%|██████████| 41/41 [00:05<00:00,  7.20batch/s, loss=0.0733]\n"
     ]
    },
    {
     "name": "stdout",
     "output_type": "stream",
     "text": [
      "Epoch 119/160, Training Loss: 0.07241582167770037\n",
      "Epoch 119/160, Validation Loss: 0.052889181379333364\n"
     ]
    },
    {
     "name": "stderr",
     "output_type": "stream",
     "text": [
      "Epoch 120/160: 100%|██████████| 41/41 [00:05<00:00,  7.60batch/s, loss=0.0733]\n"
     ]
    },
    {
     "name": "stdout",
     "output_type": "stream",
     "text": [
      "Epoch 120/160, Training Loss: 0.07240409182508045\n",
      "Epoch 120/160, Validation Loss: 0.05288356553962808\n"
     ]
    },
    {
     "name": "stderr",
     "output_type": "stream",
     "text": [
      "Epoch 121/160: 100%|██████████| 41/41 [00:05<00:00,  6.86batch/s, loss=0.0733]\n"
     ]
    },
    {
     "name": "stdout",
     "output_type": "stream",
     "text": [
      "Epoch 121/160, Training Loss: 0.07239309204598944\n",
      "Epoch 121/160, Validation Loss: 0.05287356539895738\n"
     ]
    },
    {
     "name": "stderr",
     "output_type": "stream",
     "text": [
      "Epoch 122/160: 100%|██████████| 41/41 [00:05<00:00,  7.62batch/s, loss=0.0733]\n"
     ]
    },
    {
     "name": "stdout",
     "output_type": "stream",
     "text": [
      "Epoch 122/160, Training Loss: 0.0723816632728633\n",
      "Epoch 122/160, Validation Loss: 0.05286419471003411\n"
     ]
    },
    {
     "name": "stderr",
     "output_type": "stream",
     "text": [
      "Epoch 123/160: 100%|██████████| 41/41 [00:05<00:00,  6.85batch/s, loss=0.0733]\n"
     ]
    },
    {
     "name": "stdout",
     "output_type": "stream",
     "text": [
      "Epoch 123/160, Training Loss: 0.07237141595428194\n",
      "Epoch 123/160, Validation Loss: 0.05285380002967623\n"
     ]
    },
    {
     "name": "stderr",
     "output_type": "stream",
     "text": [
      "Epoch 124/160: 100%|██████████| 41/41 [00:06<00:00,  6.65batch/s, loss=0.0733]\n"
     ]
    },
    {
     "name": "stdout",
     "output_type": "stream",
     "text": [
      "Epoch 124/160, Training Loss: 0.07236026712066149\n",
      "Epoch 124/160, Validation Loss: 0.052843887270240315\n"
     ]
    },
    {
     "name": "stderr",
     "output_type": "stream",
     "text": [
      "Epoch 125/160: 100%|██████████| 41/41 [00:05<00:00,  8.17batch/s, loss=0.0733]\n"
     ]
    },
    {
     "name": "stdout",
     "output_type": "stream",
     "text": [
      "Epoch 125/160, Training Loss: 0.07235008229053967\n",
      "Epoch 125/160, Validation Loss: 0.05283298207924999\n"
     ]
    },
    {
     "name": "stderr",
     "output_type": "stream",
     "text": [
      "Epoch 126/160: 100%|██████████| 41/41 [00:06<00:00,  6.71batch/s, loss=0.0733]\n"
     ]
    },
    {
     "name": "stdout",
     "output_type": "stream",
     "text": [
      "Epoch 126/160, Training Loss: 0.07234020383557688\n",
      "Epoch 126/160, Validation Loss: 0.052821010674341286\n"
     ]
    },
    {
     "name": "stderr",
     "output_type": "stream",
     "text": [
      "Epoch 127/160: 100%|██████████| 41/41 [00:05<00:00,  7.33batch/s, loss=0.0733]\n"
     ]
    },
    {
     "name": "stdout",
     "output_type": "stream",
     "text": [
      "Epoch 127/160, Training Loss: 0.07232900707001962\n",
      "Epoch 127/160, Validation Loss: 0.05281251866489149\n"
     ]
    },
    {
     "name": "stderr",
     "output_type": "stream",
     "text": [
      "Epoch 128/160: 100%|██████████| 41/41 [00:05<00:00,  6.91batch/s, loss=0.0732]\n"
     ]
    },
    {
     "name": "stdout",
     "output_type": "stream",
     "text": [
      "Epoch 128/160, Training Loss: 0.07232080158634621\n",
      "Epoch 128/160, Validation Loss: 0.05280622016758913\n"
     ]
    },
    {
     "name": "stderr",
     "output_type": "stream",
     "text": [
      "Epoch 129/160: 100%|██████████| 41/41 [00:05<00:00,  7.25batch/s, loss=0.0732]\n"
     ]
    },
    {
     "name": "stdout",
     "output_type": "stream",
     "text": [
      "Epoch 129/160, Training Loss: 0.07230877849172426\n",
      "Epoch 129/160, Validation Loss: 0.052802039068085324\n"
     ]
    },
    {
     "name": "stderr",
     "output_type": "stream",
     "text": [
      "Epoch 130/160: 100%|██████████| 41/41 [00:05<00:00,  7.14batch/s, loss=0.0732]\n"
     ]
    },
    {
     "name": "stdout",
     "output_type": "stream",
     "text": [
      "Epoch 130/160, Training Loss: 0.07229966338712064\n",
      "Epoch 130/160, Validation Loss: 0.05278696785060259\n"
     ]
    },
    {
     "name": "stderr",
     "output_type": "stream",
     "text": [
      "Epoch 131/160: 100%|██████████| 41/41 [00:05<00:00,  6.84batch/s, loss=0.0732]\n"
     ]
    },
    {
     "name": "stdout",
     "output_type": "stream",
     "text": [
      "Epoch 131/160, Training Loss: 0.07228742823608861\n",
      "Epoch 131/160, Validation Loss: 0.052778857807260236\n"
     ]
    },
    {
     "name": "stderr",
     "output_type": "stream",
     "text": [
      "Epoch 132/160: 100%|██████████| 41/41 [00:05<00:00,  7.86batch/s, loss=0.0732]\n"
     ]
    },
    {
     "name": "stdout",
     "output_type": "stream",
     "text": [
      "Epoch 132/160, Training Loss: 0.07227898988560637\n",
      "Epoch 132/160, Validation Loss: 0.05276921458099018\n"
     ]
    },
    {
     "name": "stderr",
     "output_type": "stream",
     "text": [
      "Epoch 133/160: 100%|██████████| 41/41 [00:05<00:00,  7.15batch/s, loss=0.0732]\n"
     ]
    },
    {
     "name": "stdout",
     "output_type": "stream",
     "text": [
      "Epoch 133/160, Training Loss: 0.07226984074983328\n",
      "Epoch 133/160, Validation Loss: 0.05274466687131042\n"
     ]
    },
    {
     "name": "stderr",
     "output_type": "stream",
     "text": [
      "Epoch 134/160: 100%|██████████| 41/41 [00:06<00:00,  6.22batch/s, loss=0.0732]\n"
     ]
    },
    {
     "name": "stdout",
     "output_type": "stream",
     "text": [
      "Epoch 134/160, Training Loss: 0.07225829045976465\n",
      "Epoch 134/160, Validation Loss: 0.05275195337461744\n"
     ]
    },
    {
     "name": "stderr",
     "output_type": "stream",
     "text": [
      "Epoch 135/160: 100%|██████████| 41/41 [00:05<00:00,  6.92batch/s, loss=0.0732]\n"
     ]
    },
    {
     "name": "stdout",
     "output_type": "stream",
     "text": [
      "Epoch 135/160, Training Loss: 0.0722484321000168\n",
      "Epoch 135/160, Validation Loss: 0.052721308207724076\n"
     ]
    },
    {
     "name": "stderr",
     "output_type": "stream",
     "text": [
      "Epoch 136/160: 100%|██████████| 41/41 [00:06<00:00,  6.79batch/s, loss=0.0732]\n"
     ]
    },
    {
     "name": "stdout",
     "output_type": "stream",
     "text": [
      "Epoch 136/160, Training Loss: 0.07223653630043085\n",
      "Epoch 136/160, Validation Loss: 0.05270538276461438\n"
     ]
    },
    {
     "name": "stderr",
     "output_type": "stream",
     "text": [
      "Epoch 137/160: 100%|██████████| 41/41 [00:05<00:00,  7.91batch/s, loss=0.0732]\n"
     ]
    },
    {
     "name": "stdout",
     "output_type": "stream",
     "text": [
      "Epoch 137/160, Training Loss: 0.07222736218786337\n",
      "Epoch 137/160, Validation Loss: 0.052717971227893075\n"
     ]
    },
    {
     "name": "stderr",
     "output_type": "stream",
     "text": [
      "Epoch 138/160: 100%|██████████| 41/41 [00:05<00:00,  7.16batch/s, loss=0.0731]\n"
     ]
    },
    {
     "name": "stdout",
     "output_type": "stream",
     "text": [
      "Epoch 138/160, Training Loss: 0.07221937363907299\n",
      "Epoch 138/160, Validation Loss: 0.052687268483746184\n"
     ]
    },
    {
     "name": "stderr",
     "output_type": "stream",
     "text": [
      "Epoch 139/160: 100%|██████████| 41/41 [00:05<00:00,  8.09batch/s, loss=0.0731]\n"
     ]
    },
    {
     "name": "stdout",
     "output_type": "stream",
     "text": [
      "Epoch 139/160, Training Loss: 0.07221017888421928\n",
      "Epoch 139/160, Validation Loss: 0.0526374724170807\n"
     ]
    },
    {
     "name": "stderr",
     "output_type": "stream",
     "text": [
      "Epoch 140/160: 100%|██████████| 41/41 [00:05<00:00,  7.17batch/s, loss=0.0731]\n"
     ]
    },
    {
     "name": "stdout",
     "output_type": "stream",
     "text": [
      "Epoch 140/160, Training Loss: 0.07219990230402927\n",
      "Epoch 140/160, Validation Loss: 0.05265658244686939\n"
     ]
    },
    {
     "name": "stderr",
     "output_type": "stream",
     "text": [
      "Epoch 141/160: 100%|██████████| 41/41 [00:05<00:00,  7.43batch/s, loss=0.0731]\n"
     ]
    },
    {
     "name": "stdout",
     "output_type": "stream",
     "text": [
      "Epoch 141/160, Training Loss: 0.07219025802116577\n",
      "Epoch 141/160, Validation Loss: 0.05260846334422034\n"
     ]
    },
    {
     "name": "stderr",
     "output_type": "stream",
     "text": [
      "Epoch 142/160: 100%|██████████| 41/41 [00:05<00:00,  7.24batch/s, loss=0.0731]\n"
     ]
    },
    {
     "name": "stdout",
     "output_type": "stream",
     "text": [
      "Epoch 142/160, Training Loss: 0.07217594334867655\n",
      "Epoch 142/160, Validation Loss: 0.05264610712623429\n"
     ]
    },
    {
     "name": "stderr",
     "output_type": "stream",
     "text": [
      "Epoch 143/160: 100%|██████████| 41/41 [00:05<00:00,  7.17batch/s, loss=0.0731]\n"
     ]
    },
    {
     "name": "stdout",
     "output_type": "stream",
     "text": [
      "Epoch 143/160, Training Loss: 0.0721675957362675\n",
      "Epoch 143/160, Validation Loss: 0.05259518743066795\n"
     ]
    },
    {
     "name": "stderr",
     "output_type": "stream",
     "text": [
      "Epoch 144/160: 100%|██████████| 41/41 [00:05<00:00,  7.52batch/s, loss=0.0731]\n"
     ]
    },
    {
     "name": "stdout",
     "output_type": "stream",
     "text": [
      "Epoch 144/160, Training Loss: 0.07215797854003865\n",
      "Epoch 144/160, Validation Loss: 0.05261455894633461\n"
     ]
    },
    {
     "name": "stderr",
     "output_type": "stream",
     "text": [
      "Epoch 145/160: 100%|██████████| 41/41 [00:05<00:00,  7.21batch/s, loss=0.0731]\n"
     ]
    },
    {
     "name": "stdout",
     "output_type": "stream",
     "text": [
      "Epoch 145/160, Training Loss: 0.07214889782570195\n",
      "Epoch 145/160, Validation Loss: 0.05259934838500279\n"
     ]
    },
    {
     "name": "stderr",
     "output_type": "stream",
     "text": [
      "Epoch 146/160: 100%|██████████| 41/41 [00:05<00:00,  7.36batch/s, loss=0.0731]\n"
     ]
    },
    {
     "name": "stdout",
     "output_type": "stream",
     "text": [
      "Epoch 146/160, Training Loss: 0.0721382661837419\n",
      "Epoch 146/160, Validation Loss: 0.05255201941430178\n"
     ]
    },
    {
     "name": "stderr",
     "output_type": "stream",
     "text": [
      "Epoch 147/160: 100%|██████████| 41/41 [00:05<00:00,  7.07batch/s, loss=0.0731]\n"
     ]
    },
    {
     "name": "stdout",
     "output_type": "stream",
     "text": [
      "Epoch 147/160, Training Loss: 0.07212659813083235\n",
      "Epoch 147/160, Validation Loss: 0.052577471360756245\n"
     ]
    },
    {
     "name": "stderr",
     "output_type": "stream",
     "text": [
      "Epoch 148/160: 100%|██████████| 41/41 [00:05<00:00,  7.83batch/s, loss=0.073] \n"
     ]
    },
    {
     "name": "stdout",
     "output_type": "stream",
     "text": [
      "Epoch 148/160, Training Loss: 0.07211943585789224\n",
      "Epoch 148/160, Validation Loss: 0.05253656476541074\n"
     ]
    },
    {
     "name": "stderr",
     "output_type": "stream",
     "text": [
      "Epoch 149/160: 100%|██████████| 41/41 [00:05<00:00,  7.28batch/s, loss=0.073] \n"
     ]
    },
    {
     "name": "stdout",
     "output_type": "stream",
     "text": [
      "Epoch 149/160, Training Loss: 0.07210877652333417\n",
      "Epoch 149/160, Validation Loss: 0.0525150665468395\n"
     ]
    },
    {
     "name": "stderr",
     "output_type": "stream",
     "text": [
      "Epoch 150/160: 100%|██████████| 41/41 [00:05<00:00,  7.62batch/s, loss=0.073] \n"
     ]
    },
    {
     "name": "stdout",
     "output_type": "stream",
     "text": [
      "Epoch 150/160, Training Loss: 0.0720981634723385\n",
      "Epoch 150/160, Validation Loss: 0.052506801168111995\n"
     ]
    },
    {
     "name": "stderr",
     "output_type": "stream",
     "text": [
      "Epoch 151/160: 100%|██████████| 41/41 [00:06<00:00,  6.22batch/s, loss=0.073] \n"
     ]
    },
    {
     "name": "stdout",
     "output_type": "stream",
     "text": [
      "Epoch 151/160, Training Loss: 0.07208907858333388\n",
      "Epoch 151/160, Validation Loss: 0.05249992937292475\n"
     ]
    },
    {
     "name": "stderr",
     "output_type": "stream",
     "text": [
      "Epoch 152/160: 100%|██████████| 41/41 [00:06<00:00,  6.63batch/s, loss=0.073] \n"
     ]
    },
    {
     "name": "stdout",
     "output_type": "stream",
     "text": [
      "Epoch 152/160, Training Loss: 0.0720772867448132\n",
      "Epoch 152/160, Validation Loss: 0.05253339720822764\n"
     ]
    },
    {
     "name": "stderr",
     "output_type": "stream",
     "text": [
      "Epoch 153/160: 100%|██████████| 41/41 [00:05<00:00,  7.95batch/s, loss=0.073] \n"
     ]
    },
    {
     "name": "stdout",
     "output_type": "stream",
     "text": [
      "Epoch 153/160, Training Loss: 0.07206558852195102\n",
      "Epoch 153/160, Validation Loss: 0.052487528486613214\n"
     ]
    },
    {
     "name": "stderr",
     "output_type": "stream",
     "text": [
      "Epoch 154/160: 100%|██████████| 41/41 [00:05<00:00,  6.96batch/s, loss=0.073] \n"
     ]
    },
    {
     "name": "stdout",
     "output_type": "stream",
     "text": [
      "Epoch 154/160, Training Loss: 0.07205505349661902\n",
      "Epoch 154/160, Validation Loss: 0.05247035793749265\n"
     ]
    },
    {
     "name": "stderr",
     "output_type": "stream",
     "text": [
      "Epoch 155/160: 100%|██████████| 41/41 [00:05<00:00,  7.60batch/s, loss=0.073] \n"
     ]
    },
    {
     "name": "stdout",
     "output_type": "stream",
     "text": [
      "Epoch 155/160, Training Loss: 0.07204889222071957\n",
      "Epoch 155/160, Validation Loss: 0.05246175708625845\n"
     ]
    },
    {
     "name": "stderr",
     "output_type": "stream",
     "text": [
      "Epoch 156/160: 100%|██████████| 41/41 [00:05<00:00,  6.92batch/s, loss=0.073] \n"
     ]
    },
    {
     "name": "stdout",
     "output_type": "stream",
     "text": [
      "Epoch 156/160, Training Loss: 0.07203385256502601\n",
      "Epoch 156/160, Validation Loss: 0.05248679384400985\n"
     ]
    },
    {
     "name": "stderr",
     "output_type": "stream",
     "text": [
      "Epoch 157/160: 100%|██████████| 41/41 [00:05<00:00,  7.07batch/s, loss=0.073] \n"
     ]
    },
    {
     "name": "stdout",
     "output_type": "stream",
     "text": [
      "Epoch 157/160, Training Loss: 0.07202386900280823\n",
      "Epoch 157/160, Validation Loss: 0.0524367416669103\n"
     ]
    },
    {
     "name": "stderr",
     "output_type": "stream",
     "text": [
      "Epoch 158/160: 100%|██████████| 41/41 [00:05<00:00,  7.82batch/s, loss=0.0729]\n"
     ]
    },
    {
     "name": "stdout",
     "output_type": "stream",
     "text": [
      "Epoch 158/160, Training Loss: 0.0720135318769385\n",
      "Epoch 158/160, Validation Loss: 0.05241527066656305\n"
     ]
    },
    {
     "name": "stderr",
     "output_type": "stream",
     "text": [
      "Epoch 159/160: 100%|██████████| 41/41 [00:05<00:00,  7.14batch/s, loss=0.0729]\n"
     ]
    },
    {
     "name": "stdout",
     "output_type": "stream",
     "text": [
      "Epoch 159/160, Training Loss: 0.07200549582568208\n",
      "Epoch 159/160, Validation Loss: 0.052403176594485845\n"
     ]
    },
    {
     "name": "stderr",
     "output_type": "stream",
     "text": [
      "Epoch 160/160: 100%|██████████| 41/41 [00:05<00:00,  7.66batch/s, loss=0.0729]\n"
     ]
    },
    {
     "name": "stdout",
     "output_type": "stream",
     "text": [
      "Epoch 160/160, Training Loss: 0.07199317061687817\n",
      "Epoch 160/160, Validation Loss: 0.052387922840219564\n"
     ]
    }
   ],
   "source": [
    "### START CODE HERE ###\n",
    "model.train(X_train, y_train, X_val, y_val, epochs=80, learning_rate=0.0008, batch_size=108, loss_function='cce')\n",
    "model.train(X_train, y_train, X_val, y_val, epochs=160, learning_rate=0.0004, batch_size=132, loss_function='cce')\n",
    "model.train(X_train, y_train, X_val, y_val, epochs=160, learning_rate=0.0002, batch_size=160, loss_function='cce')\n",
    "### END CODE HERE ###"
   ]
  },
  {
   "cell_type": "code",
   "execution_count": 39,
   "metadata": {},
   "outputs": [
    {
     "name": "stdout",
     "output_type": "stream",
     "text": [
      "Validation Accuracy: 0.9796195652173914\n"
     ]
    }
   ],
   "source": [
    "# validation set prediction\n",
    "y_true = np.argmax(y_val, axis=2).reshape(-1, 1)\n",
    "y_pred = model.predict(X_val)\n",
    "y_pred = np.argmax(y_pred, axis=1).reshape(-1, 1)\n",
    "# accuracy\n",
    "accuracy = np.mean(y_true == y_pred)\n",
    "print(f\"Validation Accuracy: {accuracy}\")"
   ]
  },
  {
   "cell_type": "markdown",
   "metadata": {
    "id": "_43jkUMbJKsR"
   },
   "source": [
    "### 4. Predict the output and Save it\n",
    "Remember to submit `y_pred.csv` to Kaggle!"
   ]
  },
  {
   "cell_type": "code",
   "execution_count": 40,
   "metadata": {
    "id": "detzXpDb8mQn"
   },
   "outputs": [],
   "source": [
    "# Do not modify this part to get the correct output format!!\n",
    "y_pred = model.predict(X_test)\n",
    "y_pred_classes = np.argmax(y_pred, axis=1)\n",
    "# Save the predicted classes to a CSV file\n",
    "y_pred_df = pd.DataFrame({\n",
    "    'Id': np.arange(len(y_pred_classes)),\n",
    "    'Classes': y_pred_classes\n",
    "})\n",
    "\n",
    "# Save the DataFrame to a CSV file\n",
    "y_pred_df.to_csv('y_pred_advanced.csv', index=False)"
   ]
  }
 ],
 "metadata": {
  "colab": {
   "provenance": []
  },
  "kernelspec": {
   "display_name": "tensorflow",
   "language": "python",
   "name": "python3"
  },
  "language_info": {
   "codemirror_mode": {
    "name": "ipython",
    "version": 3
   },
   "file_extension": ".py",
   "mimetype": "text/x-python",
   "name": "python",
   "nbconvert_exporter": "python",
   "pygments_lexer": "ipython3",
   "version": "3.8.20"
  }
 },
 "nbformat": 4,
 "nbformat_minor": 0
}
